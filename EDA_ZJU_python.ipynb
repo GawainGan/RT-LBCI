{
 "cells": [
  {
   "cell_type": "code",
   "execution_count": 1,
   "metadata": {
    "ExecuteTime": {
     "start_time": "2023-05-03T13:24:58.599582Z",
     "end_time": "2023-05-03T13:25:00.345382Z"
    }
   },
   "outputs": [],
   "source": [
    "import pandas as pd\n",
    "import numpy as np\n",
    "\n",
    "import matplotlib.pyplot as plt\n",
    "import plotly.graph_objects as go"
   ]
  },
  {
   "cell_type": "code",
   "execution_count": 2,
   "metadata": {
    "ExecuteTime": {
     "start_time": "2023-05-03T13:25:00.349594Z",
     "end_time": "2023-05-03T13:25:00.351686Z"
    }
   },
   "outputs": [],
   "source": [
    "def convert_combined(sub_df):\n",
    "      # transpose the dataframe\n",
    "      sub_df_T = sub_df.T\n",
    "      \n",
    "      # rename the first row to 'Value'\n",
    "      # sub_df_T = sub_df_T.rename(columns={1: 'Value'})\n",
    "      \n",
    "      # remove the first row\n",
    "      sub_df_T = sub_df_T.iloc[1:]\n",
    "      # add the name to the first column\n",
    "      # sub_df_T = sub_df_T.rename_axis('Date').reset_index()\n",
    "      \n",
    "      date = sub_df_T.index.values\n",
    "      value = sub_df_T.iloc[:, 0].values\n",
    "      combined_df = pd.DataFrame({\"Date\": date, \"Value\": value})\n",
    "      \n",
    "      # convert the date to datetime\n",
    "      combined_df = combined_df.astype({'Date': 'datetime64[ns]'})\n",
    "\n",
    "      # check if the first value contains a comma\n",
    "      if ',' in str(combined_df['Value'].iloc[0]):\n",
    "            # convert the value to float (remove comma and convert to float)\n",
    "            combined_df['Value'] = combined_df['Value'].str.replace(',', '')\n",
    "            # in case some rows have letter in the value\n",
    "            combined_df['Value']= combined_df['Value'].str.replace(r'[a-zA-Z]', '', regex=True)\n",
    "            combined_df['Value'] = combined_df['Value'].astype(float)\n",
    "      else:\n",
    "            # convert the value to float\n",
    "            combined_df = combined_df.astype({'Value': 'float'})\n",
    "\n",
    "      return combined_df"
   ]
  },
  {
   "cell_type": "code",
   "execution_count": 3,
   "metadata": {
    "ExecuteTime": {
     "start_time": "2023-05-03T13:25:00.355861Z",
     "end_time": "2023-05-03T13:25:00.359563Z"
    }
   },
   "outputs": [],
   "source": [
    "def convert_monthly(sub_df):\n",
    "      monthly_data = sub_df.resample('M', on='Date').mean()\n",
    "      monthly_data = monthly_data.reset_index()\n",
    "      # convert the time into the first day of the month\n",
    "      monthly_data['Date'] = monthly_data['Date'].values.astype('datetime64[M]')\n",
    "      # monthly_data.head()\n",
    "      # monthly_data.info()\n",
    "      return monthly_data"
   ]
  },
  {
   "attachments": {},
   "cell_type": "markdown",
   "metadata": {},
   "source": [
    "## RTLBCI\n",
    "\n",
    "Frequency: Weekly\n",
    "\n",
    "Table: 33-10-0398-01\n",
    "\n",
    "Release date: 2023-04-28 RTLBCI\n",
    "\n",
    "The csv file is gathered from: https://www150.statcan.gc.ca/t1/tbl1/en/tv.action?pid=3310039801"
   ]
  },
  {
   "cell_type": "code",
   "execution_count": 4,
   "metadata": {
    "ExecuteTime": {
     "start_time": "2023-05-03T13:25:00.361223Z",
     "end_time": "2023-05-03T13:25:00.390137Z"
    }
   },
   "outputs": [
    {
     "data": {
      "text/plain": "                     City_Provience  August 10, 2020  August 17, 2020  \\\n0  St. John's, Newfoundland (792) 1            100.0           111.81   \n1     Halifax, Nova Scotia (0348) 1            100.0           103.25   \n2   Moncton, New Brunswick (0539) 1            100.0           108.05   \n3           Quebec, Quebec (0685) 1            100.0           107.75   \n4   Trois-Rivieres, Quebec (0953) 1            100.0           106.45   \n\n   August 24, 2020  August 31, 2020  September 7, 2020  September 14, 2020  \\\n0           122.82           115.91             118.19              149.29   \n1           103.77            92.11             111.06              107.50   \n2           120.78           113.63             130.73              134.45   \n3           124.25           103.23             127.96              114.26   \n4           114.34            99.36             117.63              113.74   \n\n   September 21, 2020  September 28, 2020  October 5, 2020  ...  \\\n0              139.92              194.67           223.12  ...   \n1              101.47              110.83           126.49  ...   \n2              133.52              175.36           191.65  ...   \n3               80.63               97.85            95.72  ...   \n4              101.25              120.78           128.54  ...   \n\n   February 13, 2023  February 20, 2023  February 27, 2023  March 6, 2023  \\\n0             241.55             186.13             361.69         338.63   \n1             163.05             160.01             227.82         186.08   \n2             361.62             370.05             428.51         375.67   \n3             250.23             291.60             359.60         347.10   \n4             314.81             332.48             379.26         315.77   \n\n   March 13, 2023  March 20, 2023  March 27, 2023  April 3, 2023  \\\n0          294.84          352.09          311.52         477.58   \n1          180.62          218.93          211.18         200.39   \n2          347.27          427.92          399.65         416.02   \n3          281.01          398.41          373.35         360.89   \n4          346.72          406.18          366.51         370.99   \n\n   April 10, 2023  April 17, 2023  \n0          547.03          606.62  \n1          189.60          218.11  \n2          420.79          442.13  \n3          331.55          281.41  \n4          367.63          384.46  \n\n[5 rows x 142 columns]",
      "text/html": "<div>\n<style scoped>\n    .dataframe tbody tr th:only-of-type {\n        vertical-align: middle;\n    }\n\n    .dataframe tbody tr th {\n        vertical-align: top;\n    }\n\n    .dataframe thead th {\n        text-align: right;\n    }\n</style>\n<table border=\"1\" class=\"dataframe\">\n  <thead>\n    <tr style=\"text-align: right;\">\n      <th></th>\n      <th>City_Provience</th>\n      <th>August 10, 2020</th>\n      <th>August 17, 2020</th>\n      <th>August 24, 2020</th>\n      <th>August 31, 2020</th>\n      <th>September 7, 2020</th>\n      <th>September 14, 2020</th>\n      <th>September 21, 2020</th>\n      <th>September 28, 2020</th>\n      <th>October 5, 2020</th>\n      <th>...</th>\n      <th>February 13, 2023</th>\n      <th>February 20, 2023</th>\n      <th>February 27, 2023</th>\n      <th>March 6, 2023</th>\n      <th>March 13, 2023</th>\n      <th>March 20, 2023</th>\n      <th>March 27, 2023</th>\n      <th>April 3, 2023</th>\n      <th>April 10, 2023</th>\n      <th>April 17, 2023</th>\n    </tr>\n  </thead>\n  <tbody>\n    <tr>\n      <th>0</th>\n      <td>St. John's, Newfoundland (792) 1</td>\n      <td>100.0</td>\n      <td>111.81</td>\n      <td>122.82</td>\n      <td>115.91</td>\n      <td>118.19</td>\n      <td>149.29</td>\n      <td>139.92</td>\n      <td>194.67</td>\n      <td>223.12</td>\n      <td>...</td>\n      <td>241.55</td>\n      <td>186.13</td>\n      <td>361.69</td>\n      <td>338.63</td>\n      <td>294.84</td>\n      <td>352.09</td>\n      <td>311.52</td>\n      <td>477.58</td>\n      <td>547.03</td>\n      <td>606.62</td>\n    </tr>\n    <tr>\n      <th>1</th>\n      <td>Halifax, Nova Scotia (0348) 1</td>\n      <td>100.0</td>\n      <td>103.25</td>\n      <td>103.77</td>\n      <td>92.11</td>\n      <td>111.06</td>\n      <td>107.50</td>\n      <td>101.47</td>\n      <td>110.83</td>\n      <td>126.49</td>\n      <td>...</td>\n      <td>163.05</td>\n      <td>160.01</td>\n      <td>227.82</td>\n      <td>186.08</td>\n      <td>180.62</td>\n      <td>218.93</td>\n      <td>211.18</td>\n      <td>200.39</td>\n      <td>189.60</td>\n      <td>218.11</td>\n    </tr>\n    <tr>\n      <th>2</th>\n      <td>Moncton, New Brunswick (0539) 1</td>\n      <td>100.0</td>\n      <td>108.05</td>\n      <td>120.78</td>\n      <td>113.63</td>\n      <td>130.73</td>\n      <td>134.45</td>\n      <td>133.52</td>\n      <td>175.36</td>\n      <td>191.65</td>\n      <td>...</td>\n      <td>361.62</td>\n      <td>370.05</td>\n      <td>428.51</td>\n      <td>375.67</td>\n      <td>347.27</td>\n      <td>427.92</td>\n      <td>399.65</td>\n      <td>416.02</td>\n      <td>420.79</td>\n      <td>442.13</td>\n    </tr>\n    <tr>\n      <th>3</th>\n      <td>Quebec, Quebec (0685) 1</td>\n      <td>100.0</td>\n      <td>107.75</td>\n      <td>124.25</td>\n      <td>103.23</td>\n      <td>127.96</td>\n      <td>114.26</td>\n      <td>80.63</td>\n      <td>97.85</td>\n      <td>95.72</td>\n      <td>...</td>\n      <td>250.23</td>\n      <td>291.60</td>\n      <td>359.60</td>\n      <td>347.10</td>\n      <td>281.01</td>\n      <td>398.41</td>\n      <td>373.35</td>\n      <td>360.89</td>\n      <td>331.55</td>\n      <td>281.41</td>\n    </tr>\n    <tr>\n      <th>4</th>\n      <td>Trois-Rivieres, Quebec (0953) 1</td>\n      <td>100.0</td>\n      <td>106.45</td>\n      <td>114.34</td>\n      <td>99.36</td>\n      <td>117.63</td>\n      <td>113.74</td>\n      <td>101.25</td>\n      <td>120.78</td>\n      <td>128.54</td>\n      <td>...</td>\n      <td>314.81</td>\n      <td>332.48</td>\n      <td>379.26</td>\n      <td>315.77</td>\n      <td>346.72</td>\n      <td>406.18</td>\n      <td>366.51</td>\n      <td>370.99</td>\n      <td>367.63</td>\n      <td>384.46</td>\n    </tr>\n  </tbody>\n</table>\n<p>5 rows × 142 columns</p>\n</div>"
     },
     "execution_count": 4,
     "metadata": {},
     "output_type": "execute_result"
    }
   ],
   "source": [
    "file_path = '~/Desktop/UBC/DATA 599 Capstone/RT-LBCI/RTLBCI/RTLBCI_Cleaned_To_2023-04-28.csv'\n",
    "RT_LBCI_df = pd.read_csv(file_path)\n",
    "RT_LBCI_df.head()"
   ]
  },
  {
   "cell_type": "code",
   "execution_count": 10,
   "metadata": {
    "ExecuteTime": {
     "start_time": "2023-05-03T12:49:35.136448Z",
     "end_time": "2023-05-03T12:49:35.140661Z"
    }
   },
   "outputs": [
    {
     "data": {
      "text/plain": "        Date   Value\n0 2020-08-10  100.00\n1 2020-08-17  103.25\n2 2020-08-24  103.77\n3 2020-08-31   92.11\n4 2020-09-07  111.06",
      "text/html": "<div>\n<style scoped>\n    .dataframe tbody tr th:only-of-type {\n        vertical-align: middle;\n    }\n\n    .dataframe tbody tr th {\n        vertical-align: top;\n    }\n\n    .dataframe thead th {\n        text-align: right;\n    }\n</style>\n<table border=\"1\" class=\"dataframe\">\n  <thead>\n    <tr style=\"text-align: right;\">\n      <th></th>\n      <th>Date</th>\n      <th>Value</th>\n    </tr>\n  </thead>\n  <tbody>\n    <tr>\n      <th>0</th>\n      <td>2020-08-10</td>\n      <td>100.00</td>\n    </tr>\n    <tr>\n      <th>1</th>\n      <td>2020-08-17</td>\n      <td>103.25</td>\n    </tr>\n    <tr>\n      <th>2</th>\n      <td>2020-08-24</td>\n      <td>103.77</td>\n    </tr>\n    <tr>\n      <th>3</th>\n      <td>2020-08-31</td>\n      <td>92.11</td>\n    </tr>\n    <tr>\n      <th>4</th>\n      <td>2020-09-07</td>\n      <td>111.06</td>\n    </tr>\n  </tbody>\n</table>\n</div>"
     },
     "execution_count": 10,
     "metadata": {},
     "output_type": "execute_result"
    }
   ],
   "source": [
    "# Take halifax as an example\n",
    "RT_LBCI_Halifax = RT_LBCI_df.iloc[1:2]\n",
    "RT_LBCI_Halifax = convert_combined(RT_LBCI_Halifax)\n",
    "RT_LBCI_Halifax.head()"
   ]
  },
  {
   "cell_type": "code",
   "execution_count": 11,
   "metadata": {
    "ExecuteTime": {
     "start_time": "2023-05-03T12:49:38.692230Z",
     "end_time": "2023-05-03T12:49:38.836359Z"
    }
   },
   "outputs": [
    {
     "data": {
      "text/plain": "[<matplotlib.lines.Line2D at 0x7f88287c8190>]"
     },
     "execution_count": 11,
     "metadata": {},
     "output_type": "execute_result"
    },
    {
     "data": {
      "text/plain": "<Figure size 640x480 with 1 Axes>",
      "image/png": "[encoded data removed]"
     },
     "metadata": {},
     "output_type": "display_data"
    }
   ],
   "source": [
    "plt.plot(RT_LBCI_Halifax['Date'], RT_LBCI_Halifax['Value'])"
   ]
  },
  {
   "attachments": {},
   "cell_type": "markdown",
   "metadata": {},
   "source": [
    "Since the RT-LBCI is weekly data, we will convert them into monthly data.\n",
    "Add four weeks and divide by 4 to get the monthly data."
   ]
  },
  {
   "cell_type": "code",
   "execution_count": 12,
   "metadata": {
    "ExecuteTime": {
     "start_time": "2023-05-03T12:49:42.008284Z",
     "end_time": "2023-05-03T12:49:42.030367Z"
    }
   },
   "outputs": [
    {
     "data": {
      "text/plain": "        Date     Value\n0 2020-08-01   99.7825\n1 2020-09-01  107.7150\n2 2020-10-01  130.6950\n3 2020-11-01  150.7020\n4 2020-12-01  167.8600",
      "text/html": "<div>\n<style scoped>\n    .dataframe tbody tr th:only-of-type {\n        vertical-align: middle;\n    }\n\n    .dataframe tbody tr th {\n        vertical-align: top;\n    }\n\n    .dataframe thead th {\n        text-align: right;\n    }\n</style>\n<table border=\"1\" class=\"dataframe\">\n  <thead>\n    <tr style=\"text-align: right;\">\n      <th></th>\n      <th>Date</th>\n      <th>Value</th>\n    </tr>\n  </thead>\n  <tbody>\n    <tr>\n      <th>0</th>\n      <td>2020-08-01</td>\n      <td>99.7825</td>\n    </tr>\n    <tr>\n      <th>1</th>\n      <td>2020-09-01</td>\n      <td>107.7150</td>\n    </tr>\n    <tr>\n      <th>2</th>\n      <td>2020-10-01</td>\n      <td>130.6950</td>\n    </tr>\n    <tr>\n      <th>3</th>\n      <td>2020-11-01</td>\n      <td>150.7020</td>\n    </tr>\n    <tr>\n      <th>4</th>\n      <td>2020-12-01</td>\n      <td>167.8600</td>\n    </tr>\n  </tbody>\n</table>\n</div>"
     },
     "execution_count": 12,
     "metadata": {},
     "output_type": "execute_result"
    }
   ],
   "source": [
    "RT_LBCI_Halifax_monthly = convert_monthly(RT_LBCI_Halifax)\n",
    "RT_LBCI_Halifax_monthly.head()"
   ]
  },
  {
   "attachments": {},
   "cell_type": "markdown",
   "metadata": {},
   "source": [
    "## Labor Force - Unemployment Rate\n",
    "\n",
    "\n",
    "Labour force characteristics, three-month moving average, unadjusted for seasonality c 1\n",
    "\n",
    "Frequency: Monthly\n",
    "\n",
    "Table: 14-10-0378-01    \n",
    "\n",
    "Release date: 2023-04-06\n",
    "\n",
    "Geography: Census metropolitan area, Census metropolitan area part\n",
    "\n",
    "https://www150.statcan.gc.ca/t1/tbl1/en/tv.action?pid=1410037801"
   ]
  },
  {
   "attachments": {},
   "cell_type": "markdown",
   "metadata": {},
   "source": [
    "Labour force characteristics\tUnemployment rate 2\n",
    "\n",
    "Sex\tBoth sexes\n",
    "\n",
    "Age group\t15 years and over\n",
    "\n",
    "Geography 3 4\tNovember 2022"
   ]
  },
  {
   "cell_type": "code",
   "execution_count": 13,
   "metadata": {},
   "outputs": [
    {
     "ename": "FileNotFoundError",
     "evalue": "[Errno 2] No such file or directory: '/Users/gawain/Desktop/6.Real-time Local Business Condition Index/Labour force/Labor Force Rate/1410037801-cleaned.csv'",
     "output_type": "error",
     "traceback": [
      "\u001B[0;31m---------------------------------------------------------------------------\u001B[0m",
      "\u001B[0;31mFileNotFoundError\u001B[0m                         Traceback (most recent call last)",
      "Input \u001B[0;32mIn [13]\u001B[0m, in \u001B[0;36m<cell line: 2>\u001B[0;34m()\u001B[0m\n\u001B[1;32m      1\u001B[0m unemploy_rate_path \u001B[38;5;241m=\u001B[39m \u001B[38;5;124m'\u001B[39m\u001B[38;5;124m/Users/gawain/Desktop/6.Real-time Local Business Condition Index/Labour force/Labor Force Rate/1410037801-cleaned.csv\u001B[39m\u001B[38;5;124m'\u001B[39m\n\u001B[0;32m----> 2\u001B[0m unemploy_rate_df \u001B[38;5;241m=\u001B[39m \u001B[43mpd\u001B[49m\u001B[38;5;241;43m.\u001B[39;49m\u001B[43mread_csv\u001B[49m\u001B[43m(\u001B[49m\u001B[43munemploy_rate_path\u001B[49m\u001B[43m)\u001B[49m\n\u001B[1;32m      3\u001B[0m unemploy_rate_df\u001B[38;5;241m.\u001B[39mhead()\n",
      "File \u001B[0;32m~/opt/anaconda3/lib/python3.9/site-packages/pandas/util/_decorators.py:311\u001B[0m, in \u001B[0;36mdeprecate_nonkeyword_arguments.<locals>.decorate.<locals>.wrapper\u001B[0;34m(*args, **kwargs)\u001B[0m\n\u001B[1;32m    305\u001B[0m \u001B[38;5;28;01mif\u001B[39;00m \u001B[38;5;28mlen\u001B[39m(args) \u001B[38;5;241m>\u001B[39m num_allow_args:\n\u001B[1;32m    306\u001B[0m     warnings\u001B[38;5;241m.\u001B[39mwarn(\n\u001B[1;32m    307\u001B[0m         msg\u001B[38;5;241m.\u001B[39mformat(arguments\u001B[38;5;241m=\u001B[39marguments),\n\u001B[1;32m    308\u001B[0m         \u001B[38;5;167;01mFutureWarning\u001B[39;00m,\n\u001B[1;32m    309\u001B[0m         stacklevel\u001B[38;5;241m=\u001B[39mstacklevel,\n\u001B[1;32m    310\u001B[0m     )\n\u001B[0;32m--> 311\u001B[0m \u001B[38;5;28;01mreturn\u001B[39;00m \u001B[43mfunc\u001B[49m\u001B[43m(\u001B[49m\u001B[38;5;241;43m*\u001B[39;49m\u001B[43margs\u001B[49m\u001B[43m,\u001B[49m\u001B[43m \u001B[49m\u001B[38;5;241;43m*\u001B[39;49m\u001B[38;5;241;43m*\u001B[39;49m\u001B[43mkwargs\u001B[49m\u001B[43m)\u001B[49m\n",
      "File \u001B[0;32m~/opt/anaconda3/lib/python3.9/site-packages/pandas/io/parsers/readers.py:678\u001B[0m, in \u001B[0;36mread_csv\u001B[0;34m(filepath_or_buffer, sep, delimiter, header, names, index_col, usecols, squeeze, prefix, mangle_dupe_cols, dtype, engine, converters, true_values, false_values, skipinitialspace, skiprows, skipfooter, nrows, na_values, keep_default_na, na_filter, verbose, skip_blank_lines, parse_dates, infer_datetime_format, keep_date_col, date_parser, dayfirst, cache_dates, iterator, chunksize, compression, thousands, decimal, lineterminator, quotechar, quoting, doublequote, escapechar, comment, encoding, encoding_errors, dialect, error_bad_lines, warn_bad_lines, on_bad_lines, delim_whitespace, low_memory, memory_map, float_precision, storage_options)\u001B[0m\n\u001B[1;32m    663\u001B[0m kwds_defaults \u001B[38;5;241m=\u001B[39m _refine_defaults_read(\n\u001B[1;32m    664\u001B[0m     dialect,\n\u001B[1;32m    665\u001B[0m     delimiter,\n\u001B[0;32m   (...)\u001B[0m\n\u001B[1;32m    674\u001B[0m     defaults\u001B[38;5;241m=\u001B[39m{\u001B[38;5;124m\"\u001B[39m\u001B[38;5;124mdelimiter\u001B[39m\u001B[38;5;124m\"\u001B[39m: \u001B[38;5;124m\"\u001B[39m\u001B[38;5;124m,\u001B[39m\u001B[38;5;124m\"\u001B[39m},\n\u001B[1;32m    675\u001B[0m )\n\u001B[1;32m    676\u001B[0m kwds\u001B[38;5;241m.\u001B[39mupdate(kwds_defaults)\n\u001B[0;32m--> 678\u001B[0m \u001B[38;5;28;01mreturn\u001B[39;00m \u001B[43m_read\u001B[49m\u001B[43m(\u001B[49m\u001B[43mfilepath_or_buffer\u001B[49m\u001B[43m,\u001B[49m\u001B[43m \u001B[49m\u001B[43mkwds\u001B[49m\u001B[43m)\u001B[49m\n",
      "File \u001B[0;32m~/opt/anaconda3/lib/python3.9/site-packages/pandas/io/parsers/readers.py:575\u001B[0m, in \u001B[0;36m_read\u001B[0;34m(filepath_or_buffer, kwds)\u001B[0m\n\u001B[1;32m    572\u001B[0m _validate_names(kwds\u001B[38;5;241m.\u001B[39mget(\u001B[38;5;124m\"\u001B[39m\u001B[38;5;124mnames\u001B[39m\u001B[38;5;124m\"\u001B[39m, \u001B[38;5;28;01mNone\u001B[39;00m))\n\u001B[1;32m    574\u001B[0m \u001B[38;5;66;03m# Create the parser.\u001B[39;00m\n\u001B[0;32m--> 575\u001B[0m parser \u001B[38;5;241m=\u001B[39m \u001B[43mTextFileReader\u001B[49m\u001B[43m(\u001B[49m\u001B[43mfilepath_or_buffer\u001B[49m\u001B[43m,\u001B[49m\u001B[43m \u001B[49m\u001B[38;5;241;43m*\u001B[39;49m\u001B[38;5;241;43m*\u001B[39;49m\u001B[43mkwds\u001B[49m\u001B[43m)\u001B[49m\n\u001B[1;32m    577\u001B[0m \u001B[38;5;28;01mif\u001B[39;00m chunksize \u001B[38;5;129;01mor\u001B[39;00m iterator:\n\u001B[1;32m    578\u001B[0m     \u001B[38;5;28;01mreturn\u001B[39;00m parser\n",
      "File \u001B[0;32m~/opt/anaconda3/lib/python3.9/site-packages/pandas/io/parsers/readers.py:932\u001B[0m, in \u001B[0;36mTextFileReader.__init__\u001B[0;34m(self, f, engine, **kwds)\u001B[0m\n\u001B[1;32m    929\u001B[0m     \u001B[38;5;28mself\u001B[39m\u001B[38;5;241m.\u001B[39moptions[\u001B[38;5;124m\"\u001B[39m\u001B[38;5;124mhas_index_names\u001B[39m\u001B[38;5;124m\"\u001B[39m] \u001B[38;5;241m=\u001B[39m kwds[\u001B[38;5;124m\"\u001B[39m\u001B[38;5;124mhas_index_names\u001B[39m\u001B[38;5;124m\"\u001B[39m]\n\u001B[1;32m    931\u001B[0m \u001B[38;5;28mself\u001B[39m\u001B[38;5;241m.\u001B[39mhandles: IOHandles \u001B[38;5;241m|\u001B[39m \u001B[38;5;28;01mNone\u001B[39;00m \u001B[38;5;241m=\u001B[39m \u001B[38;5;28;01mNone\u001B[39;00m\n\u001B[0;32m--> 932\u001B[0m \u001B[38;5;28mself\u001B[39m\u001B[38;5;241m.\u001B[39m_engine \u001B[38;5;241m=\u001B[39m \u001B[38;5;28;43mself\u001B[39;49m\u001B[38;5;241;43m.\u001B[39;49m\u001B[43m_make_engine\u001B[49m\u001B[43m(\u001B[49m\u001B[43mf\u001B[49m\u001B[43m,\u001B[49m\u001B[43m \u001B[49m\u001B[38;5;28;43mself\u001B[39;49m\u001B[38;5;241;43m.\u001B[39;49m\u001B[43mengine\u001B[49m\u001B[43m)\u001B[49m\n",
      "File \u001B[0;32m~/opt/anaconda3/lib/python3.9/site-packages/pandas/io/parsers/readers.py:1216\u001B[0m, in \u001B[0;36mTextFileReader._make_engine\u001B[0;34m(self, f, engine)\u001B[0m\n\u001B[1;32m   1212\u001B[0m     mode \u001B[38;5;241m=\u001B[39m \u001B[38;5;124m\"\u001B[39m\u001B[38;5;124mrb\u001B[39m\u001B[38;5;124m\"\u001B[39m\n\u001B[1;32m   1213\u001B[0m \u001B[38;5;66;03m# error: No overload variant of \"get_handle\" matches argument types\u001B[39;00m\n\u001B[1;32m   1214\u001B[0m \u001B[38;5;66;03m# \"Union[str, PathLike[str], ReadCsvBuffer[bytes], ReadCsvBuffer[str]]\"\u001B[39;00m\n\u001B[1;32m   1215\u001B[0m \u001B[38;5;66;03m# , \"str\", \"bool\", \"Any\", \"Any\", \"Any\", \"Any\", \"Any\"\u001B[39;00m\n\u001B[0;32m-> 1216\u001B[0m \u001B[38;5;28mself\u001B[39m\u001B[38;5;241m.\u001B[39mhandles \u001B[38;5;241m=\u001B[39m \u001B[43mget_handle\u001B[49m\u001B[43m(\u001B[49m\u001B[43m  \u001B[49m\u001B[38;5;66;43;03m# type: ignore[call-overload]\u001B[39;49;00m\n\u001B[1;32m   1217\u001B[0m \u001B[43m    \u001B[49m\u001B[43mf\u001B[49m\u001B[43m,\u001B[49m\n\u001B[1;32m   1218\u001B[0m \u001B[43m    \u001B[49m\u001B[43mmode\u001B[49m\u001B[43m,\u001B[49m\n\u001B[1;32m   1219\u001B[0m \u001B[43m    \u001B[49m\u001B[43mencoding\u001B[49m\u001B[38;5;241;43m=\u001B[39;49m\u001B[38;5;28;43mself\u001B[39;49m\u001B[38;5;241;43m.\u001B[39;49m\u001B[43moptions\u001B[49m\u001B[38;5;241;43m.\u001B[39;49m\u001B[43mget\u001B[49m\u001B[43m(\u001B[49m\u001B[38;5;124;43m\"\u001B[39;49m\u001B[38;5;124;43mencoding\u001B[39;49m\u001B[38;5;124;43m\"\u001B[39;49m\u001B[43m,\u001B[49m\u001B[43m \u001B[49m\u001B[38;5;28;43;01mNone\u001B[39;49;00m\u001B[43m)\u001B[49m\u001B[43m,\u001B[49m\n\u001B[1;32m   1220\u001B[0m \u001B[43m    \u001B[49m\u001B[43mcompression\u001B[49m\u001B[38;5;241;43m=\u001B[39;49m\u001B[38;5;28;43mself\u001B[39;49m\u001B[38;5;241;43m.\u001B[39;49m\u001B[43moptions\u001B[49m\u001B[38;5;241;43m.\u001B[39;49m\u001B[43mget\u001B[49m\u001B[43m(\u001B[49m\u001B[38;5;124;43m\"\u001B[39;49m\u001B[38;5;124;43mcompression\u001B[39;49m\u001B[38;5;124;43m\"\u001B[39;49m\u001B[43m,\u001B[49m\u001B[43m \u001B[49m\u001B[38;5;28;43;01mNone\u001B[39;49;00m\u001B[43m)\u001B[49m\u001B[43m,\u001B[49m\n\u001B[1;32m   1221\u001B[0m \u001B[43m    \u001B[49m\u001B[43mmemory_map\u001B[49m\u001B[38;5;241;43m=\u001B[39;49m\u001B[38;5;28;43mself\u001B[39;49m\u001B[38;5;241;43m.\u001B[39;49m\u001B[43moptions\u001B[49m\u001B[38;5;241;43m.\u001B[39;49m\u001B[43mget\u001B[49m\u001B[43m(\u001B[49m\u001B[38;5;124;43m\"\u001B[39;49m\u001B[38;5;124;43mmemory_map\u001B[39;49m\u001B[38;5;124;43m\"\u001B[39;49m\u001B[43m,\u001B[49m\u001B[43m \u001B[49m\u001B[38;5;28;43;01mFalse\u001B[39;49;00m\u001B[43m)\u001B[49m\u001B[43m,\u001B[49m\n\u001B[1;32m   1222\u001B[0m \u001B[43m    \u001B[49m\u001B[43mis_text\u001B[49m\u001B[38;5;241;43m=\u001B[39;49m\u001B[43mis_text\u001B[49m\u001B[43m,\u001B[49m\n\u001B[1;32m   1223\u001B[0m \u001B[43m    \u001B[49m\u001B[43merrors\u001B[49m\u001B[38;5;241;43m=\u001B[39;49m\u001B[38;5;28;43mself\u001B[39;49m\u001B[38;5;241;43m.\u001B[39;49m\u001B[43moptions\u001B[49m\u001B[38;5;241;43m.\u001B[39;49m\u001B[43mget\u001B[49m\u001B[43m(\u001B[49m\u001B[38;5;124;43m\"\u001B[39;49m\u001B[38;5;124;43mencoding_errors\u001B[39;49m\u001B[38;5;124;43m\"\u001B[39;49m\u001B[43m,\u001B[49m\u001B[43m \u001B[49m\u001B[38;5;124;43m\"\u001B[39;49m\u001B[38;5;124;43mstrict\u001B[39;49m\u001B[38;5;124;43m\"\u001B[39;49m\u001B[43m)\u001B[49m\u001B[43m,\u001B[49m\n\u001B[1;32m   1224\u001B[0m \u001B[43m    \u001B[49m\u001B[43mstorage_options\u001B[49m\u001B[38;5;241;43m=\u001B[39;49m\u001B[38;5;28;43mself\u001B[39;49m\u001B[38;5;241;43m.\u001B[39;49m\u001B[43moptions\u001B[49m\u001B[38;5;241;43m.\u001B[39;49m\u001B[43mget\u001B[49m\u001B[43m(\u001B[49m\u001B[38;5;124;43m\"\u001B[39;49m\u001B[38;5;124;43mstorage_options\u001B[39;49m\u001B[38;5;124;43m\"\u001B[39;49m\u001B[43m,\u001B[49m\u001B[43m \u001B[49m\u001B[38;5;28;43;01mNone\u001B[39;49;00m\u001B[43m)\u001B[49m\u001B[43m,\u001B[49m\n\u001B[1;32m   1225\u001B[0m \u001B[43m\u001B[49m\u001B[43m)\u001B[49m\n\u001B[1;32m   1226\u001B[0m \u001B[38;5;28;01massert\u001B[39;00m \u001B[38;5;28mself\u001B[39m\u001B[38;5;241m.\u001B[39mhandles \u001B[38;5;129;01mis\u001B[39;00m \u001B[38;5;129;01mnot\u001B[39;00m \u001B[38;5;28;01mNone\u001B[39;00m\n\u001B[1;32m   1227\u001B[0m f \u001B[38;5;241m=\u001B[39m \u001B[38;5;28mself\u001B[39m\u001B[38;5;241m.\u001B[39mhandles\u001B[38;5;241m.\u001B[39mhandle\n",
      "File \u001B[0;32m~/opt/anaconda3/lib/python3.9/site-packages/pandas/io/common.py:786\u001B[0m, in \u001B[0;36mget_handle\u001B[0;34m(path_or_buf, mode, encoding, compression, memory_map, is_text, errors, storage_options)\u001B[0m\n\u001B[1;32m    781\u001B[0m \u001B[38;5;28;01melif\u001B[39;00m \u001B[38;5;28misinstance\u001B[39m(handle, \u001B[38;5;28mstr\u001B[39m):\n\u001B[1;32m    782\u001B[0m     \u001B[38;5;66;03m# Check whether the filename is to be opened in binary mode.\u001B[39;00m\n\u001B[1;32m    783\u001B[0m     \u001B[38;5;66;03m# Binary mode does not support 'encoding' and 'newline'.\u001B[39;00m\n\u001B[1;32m    784\u001B[0m     \u001B[38;5;28;01mif\u001B[39;00m ioargs\u001B[38;5;241m.\u001B[39mencoding \u001B[38;5;129;01mand\u001B[39;00m \u001B[38;5;124m\"\u001B[39m\u001B[38;5;124mb\u001B[39m\u001B[38;5;124m\"\u001B[39m \u001B[38;5;129;01mnot\u001B[39;00m \u001B[38;5;129;01min\u001B[39;00m ioargs\u001B[38;5;241m.\u001B[39mmode:\n\u001B[1;32m    785\u001B[0m         \u001B[38;5;66;03m# Encoding\u001B[39;00m\n\u001B[0;32m--> 786\u001B[0m         handle \u001B[38;5;241m=\u001B[39m \u001B[38;5;28;43mopen\u001B[39;49m\u001B[43m(\u001B[49m\n\u001B[1;32m    787\u001B[0m \u001B[43m            \u001B[49m\u001B[43mhandle\u001B[49m\u001B[43m,\u001B[49m\n\u001B[1;32m    788\u001B[0m \u001B[43m            \u001B[49m\u001B[43mioargs\u001B[49m\u001B[38;5;241;43m.\u001B[39;49m\u001B[43mmode\u001B[49m\u001B[43m,\u001B[49m\n\u001B[1;32m    789\u001B[0m \u001B[43m            \u001B[49m\u001B[43mencoding\u001B[49m\u001B[38;5;241;43m=\u001B[39;49m\u001B[43mioargs\u001B[49m\u001B[38;5;241;43m.\u001B[39;49m\u001B[43mencoding\u001B[49m\u001B[43m,\u001B[49m\n\u001B[1;32m    790\u001B[0m \u001B[43m            \u001B[49m\u001B[43merrors\u001B[49m\u001B[38;5;241;43m=\u001B[39;49m\u001B[43merrors\u001B[49m\u001B[43m,\u001B[49m\n\u001B[1;32m    791\u001B[0m \u001B[43m            \u001B[49m\u001B[43mnewline\u001B[49m\u001B[38;5;241;43m=\u001B[39;49m\u001B[38;5;124;43m\"\u001B[39;49m\u001B[38;5;124;43m\"\u001B[39;49m\u001B[43m,\u001B[49m\n\u001B[1;32m    792\u001B[0m \u001B[43m        \u001B[49m\u001B[43m)\u001B[49m\n\u001B[1;32m    793\u001B[0m     \u001B[38;5;28;01melse\u001B[39;00m:\n\u001B[1;32m    794\u001B[0m         \u001B[38;5;66;03m# Binary mode\u001B[39;00m\n\u001B[1;32m    795\u001B[0m         handle \u001B[38;5;241m=\u001B[39m \u001B[38;5;28mopen\u001B[39m(handle, ioargs\u001B[38;5;241m.\u001B[39mmode)\n",
      "\u001B[0;31mFileNotFoundError\u001B[0m: [Errno 2] No such file or directory: '/Users/gawain/Desktop/6.Real-time Local Business Condition Index/Labour force/Labor Force Rate/1410037801-cleaned.csv'"
     ]
    }
   ],
   "source": [
    "unemploy_rate_path = '/Users/gawain/Desktop/6.Real-time Local Business Condition Index/Labour force/Labor Force Rate/1410037801-cleaned.csv'\n",
    "unemploy_rate_df = pd.read_csv(unemploy_rate_path)\n",
    "unemploy_rate_df.head()"
   ]
  },
  {
   "cell_type": "code",
   "execution_count": 9,
   "metadata": {},
   "outputs": [
    {
     "data": {
      "text/html": [
       "<div>\n",
       "<style scoped>\n",
       "    .dataframe tbody tr th:only-of-type {\n",
       "        vertical-align: middle;\n",
       "    }\n",
       "\n",
       "    .dataframe tbody tr th {\n",
       "        vertical-align: top;\n",
       "    }\n",
       "\n",
       "    .dataframe thead th {\n",
       "        text-align: right;\n",
       "    }\n",
       "</style>\n",
       "<table border=\"1\" class=\"dataframe\">\n",
       "  <thead>\n",
       "    <tr style=\"text-align: right;\">\n",
       "      <th></th>\n",
       "      <th>Date</th>\n",
       "      <th>Value</th>\n",
       "    </tr>\n",
       "  </thead>\n",
       "  <tbody>\n",
       "    <tr>\n",
       "      <th>0</th>\n",
       "      <td>2020-09-01</td>\n",
       "      <td>8.7</td>\n",
       "    </tr>\n",
       "    <tr>\n",
       "      <th>1</th>\n",
       "      <td>2020-10-01</td>\n",
       "      <td>7.7</td>\n",
       "    </tr>\n",
       "    <tr>\n",
       "      <th>2</th>\n",
       "      <td>2020-11-01</td>\n",
       "      <td>6.3</td>\n",
       "    </tr>\n",
       "    <tr>\n",
       "      <th>3</th>\n",
       "      <td>2020-12-01</td>\n",
       "      <td>7.0</td>\n",
       "    </tr>\n",
       "    <tr>\n",
       "      <th>4</th>\n",
       "      <td>2021-01-01</td>\n",
       "      <td>7.5</td>\n",
       "    </tr>\n",
       "  </tbody>\n",
       "</table>\n",
       "</div>"
      ],
      "text/plain": [
       "        Date  Value\n",
       "0 2020-09-01    8.7\n",
       "1 2020-10-01    7.7\n",
       "2 2020-11-01    6.3\n",
       "3 2020-12-01    7.0\n",
       "4 2021-01-01    7.5"
      ]
     },
     "execution_count": 9,
     "metadata": {},
     "output_type": "execute_result"
    }
   ],
   "source": [
    "unemploy_rate_halifax = unemploy_rate_df.iloc[1:2]\n",
    "unemploy_rate_halifax = convert_combined(unemploy_rate_halifax)\n",
    "unemploy_rate_halifax.head()"
   ]
  },
  {
   "cell_type": "code",
   "execution_count": 10,
   "metadata": {},
   "outputs": [
    {
     "data": {
      "text/html": [
       "<div>\n",
       "<style scoped>\n",
       "    .dataframe tbody tr th:only-of-type {\n",
       "        vertical-align: middle;\n",
       "    }\n",
       "\n",
       "    .dataframe tbody tr th {\n",
       "        vertical-align: top;\n",
       "    }\n",
       "\n",
       "    .dataframe thead th {\n",
       "        text-align: right;\n",
       "    }\n",
       "</style>\n",
       "<table border=\"1\" class=\"dataframe\">\n",
       "  <thead>\n",
       "    <tr style=\"text-align: right;\">\n",
       "      <th></th>\n",
       "      <th>Date</th>\n",
       "      <th>RT_LBCI_monthly</th>\n",
       "      <th>Unemployment Rate</th>\n",
       "    </tr>\n",
       "  </thead>\n",
       "  <tbody>\n",
       "    <tr>\n",
       "      <th>0</th>\n",
       "      <td>2020-09-01</td>\n",
       "      <td>107.7150</td>\n",
       "      <td>8.7</td>\n",
       "    </tr>\n",
       "    <tr>\n",
       "      <th>1</th>\n",
       "      <td>2020-10-01</td>\n",
       "      <td>130.6950</td>\n",
       "      <td>7.7</td>\n",
       "    </tr>\n",
       "    <tr>\n",
       "      <th>2</th>\n",
       "      <td>2020-11-01</td>\n",
       "      <td>150.7020</td>\n",
       "      <td>6.3</td>\n",
       "    </tr>\n",
       "    <tr>\n",
       "      <th>3</th>\n",
       "      <td>2020-12-01</td>\n",
       "      <td>167.8600</td>\n",
       "      <td>7.0</td>\n",
       "    </tr>\n",
       "    <tr>\n",
       "      <th>4</th>\n",
       "      <td>2021-01-01</td>\n",
       "      <td>153.1375</td>\n",
       "      <td>7.5</td>\n",
       "    </tr>\n",
       "  </tbody>\n",
       "</table>\n",
       "</div>"
      ],
      "text/plain": [
       "        Date  RT_LBCI_monthly  Unemployment Rate\n",
       "0 2020-09-01         107.7150                8.7\n",
       "1 2020-10-01         130.6950                7.7\n",
       "2 2020-11-01         150.7020                6.3\n",
       "3 2020-12-01         167.8600                7.0\n",
       "4 2021-01-01         153.1375                7.5"
      ]
     },
     "execution_count": 10,
     "metadata": {},
     "output_type": "execute_result"
    }
   ],
   "source": [
    "Halifax_df_combined = pd.merge(RT_LBCI_Halifax_monthly, unemploy_rate_halifax, on='Date')\n",
    "Halifax_df_combined = Halifax_df_combined.rename(columns={'Value_x': 'RT_LBCI_monthly', 'Value_y': 'Unemployment Rate'})\n",
    "Halifax_df_combined.head()"
   ]
  },
  {
   "cell_type": "code",
   "execution_count": 11,
   "metadata": {},
   "outputs": [
    {
     "data": {
      "image/png": "[encoded data removed]",
      "text/plain": [
       "<Figure size 1200x800 with 2 Axes>"
      ]
     },
     "metadata": {},
     "output_type": "display_data"
    }
   ],
   "source": [
    "# combine the plot of the two dataframes\n",
    "plt.figure(figsize=(12, 8))\n",
    "plt.plot(RT_LBCI_Halifax['Date'], RT_LBCI_Halifax['Value'])\n",
    "# plot with 2 y-axis\n",
    "plt.twinx()\n",
    "plt.plot(unemploy_rate_halifax['Date'], unemploy_rate_halifax['Value'], color='red')\n",
    "plt.title('Halifax Real-time Local Business Condition Index and Unemployment Rate')\n",
    "plt.legend(['RTLBCI', 'Unemployment Rate'])\n",
    "plt.show();"
   ]
  },
  {
   "cell_type": "code",
   "execution_count": 12,
   "metadata": {},
   "outputs": [
    {
     "data": {
      "image/png": "[encoded data removed]",
      "text/plain": [
       "<Figure size 640x480 with 2 Axes>"
      ]
     },
     "metadata": {},
     "output_type": "display_data"
    }
   ],
   "source": [
    "import matplotlib.dates as mdates\n",
    "\n",
    "Halifax_df_combined['Date'] = pd.to_datetime(Halifax_df_combined['Date'])\n",
    "\n",
    "# Plot RT_LBCI_monthly with a blue color and label\n",
    "fig, ax1 = plt.subplots()\n",
    "ax1.plot(Halifax_df_combined['Date'], Halifax_df_combined['RT_LBCI_monthly'], 'b-', label='RT_LBCI_monthly')\n",
    "ax1.set_xlabel('Date')\n",
    "ax1.set_ylabel('RT_LBCI_monthly', color='b')\n",
    "ax1.tick_params('y', colors='b')\n",
    "\n",
    "# Format date axis\n",
    "ax1.xaxis.set_major_formatter(mdates.DateFormatter('%Y-%m'))\n",
    "ax1.xaxis.set_major_locator(mdates.MonthLocator())\n",
    "\n",
    "# Create a second y-axis for the Unemployment Rate, plot it with a red color and label\n",
    "ax2 = ax1.twinx()\n",
    "ax2.plot(Halifax_df_combined['Date'], Halifax_df_combined['Unemployment Rate'], 'r-', label='Unemployment Rate')\n",
    "ax2.set_ylabel('Unemployment Rate', color='r')\n",
    "ax2.tick_params('y', colors='r')\n",
    "\n",
    "# Add a legend\n",
    "fig.legend(loc=\"upper left\", bbox_to_anchor=(0,1), bbox_transform=ax1.transAxes)\n",
    "\n",
    "# Adjust the plot layout\n",
    "fig.tight_layout()\n",
    "\n",
    "# Show the plot\n",
    "plt.show()"
   ]
  },
  {
   "attachments": {},
   "cell_type": "markdown",
   "metadata": {},
   "source": [
    "## Population quarterly (haven't used yet)\n",
    "\n",
    "Population estimates, quarterly 1 2 3 4\n",
    "\n",
    "Frequency: Quarterly\n",
    "\n",
    "Table: 17-10-0009-01 (formerly CANSIM 051-0005)\n",
    "\n",
    "Release date: 2023-03-22\n",
    "\n",
    "Geography: Canada, Province or territory\n",
    "\n",
    "https://www150.statcan.gc.ca/t1/tbl1/en/tv.action?pid=1710000901&cubeTimeFrame.startMonth=01&cubeTimeFrame.startYear=2020&cubeTimeFrame.endMonth=01&cubeTimeFrame.endYear=2023&referencePeriods=20200101%2C20230101\n"
   ]
  },
  {
   "attachments": {},
   "cell_type": "markdown",
   "metadata": {},
   "source": [
    "## Electric power generation\n",
    "\n",
    "Generation by type of electricity 1 2\n",
    "\n",
    "Frequency: Monthly\n",
    "\n",
    "Table: 25-10-0015-01 (formerly CANSIM 127-0002)\n",
    "\n",
    "Geography: Canada, Province or territory\n",
    "\n",
    "https://www150.statcan.gc.ca/t1/tbl1/en/tv.action?pid=2510001501 "
   ]
  },
  {
   "cell_type": "code",
   "execution_count": 13,
   "metadata": {},
   "outputs": [
    {
     "data": {
      "text/html": [
       "<div>\n",
       "<style scoped>\n",
       "    .dataframe tbody tr th:only-of-type {\n",
       "        vertical-align: middle;\n",
       "    }\n",
       "\n",
       "    .dataframe tbody tr th {\n",
       "        vertical-align: top;\n",
       "    }\n",
       "\n",
       "    .dataframe thead th {\n",
       "        text-align: right;\n",
       "    }\n",
       "</style>\n",
       "<table border=\"1\" class=\"dataframe\">\n",
       "  <thead>\n",
       "    <tr style=\"text-align: right;\">\n",
       "      <th></th>\n",
       "      <th>Type of electricity generation</th>\n",
       "      <th>September 2020</th>\n",
       "      <th>October 2020</th>\n",
       "      <th>November 2020</th>\n",
       "      <th>December 2020</th>\n",
       "      <th>January 2021</th>\n",
       "      <th>February 2021</th>\n",
       "      <th>March 2021</th>\n",
       "      <th>April 2021</th>\n",
       "      <th>May 2021</th>\n",
       "      <th>...</th>\n",
       "      <th>April 2022</th>\n",
       "      <th>May 2022</th>\n",
       "      <th>June 2022</th>\n",
       "      <th>July 2022</th>\n",
       "      <th>August 2022</th>\n",
       "      <th>September 2022</th>\n",
       "      <th>October 2022</th>\n",
       "      <th>November 2022</th>\n",
       "      <th>December 2022</th>\n",
       "      <th>January 2023</th>\n",
       "    </tr>\n",
       "  </thead>\n",
       "  <tbody>\n",
       "    <tr>\n",
       "      <th>0</th>\n",
       "      <td>NaN</td>\n",
       "      <td>NaN</td>\n",
       "      <td>NaN</td>\n",
       "      <td>NaN</td>\n",
       "      <td>NaN</td>\n",
       "      <td>NaN</td>\n",
       "      <td>NaN</td>\n",
       "      <td>NaN</td>\n",
       "      <td>NaN</td>\n",
       "      <td>NaN</td>\n",
       "      <td>...</td>\n",
       "      <td>NaN</td>\n",
       "      <td>NaN</td>\n",
       "      <td>NaN</td>\n",
       "      <td>NaN</td>\n",
       "      <td>NaN</td>\n",
       "      <td>NaN</td>\n",
       "      <td>NaN</td>\n",
       "      <td>NaN</td>\n",
       "      <td>NaN</td>\n",
       "      <td>NaN</td>\n",
       "    </tr>\n",
       "    <tr>\n",
       "      <th>1</th>\n",
       "      <td>Total all types of electricity generation</td>\n",
       "      <td>646,301</td>\n",
       "      <td>671,220</td>\n",
       "      <td>722,094</td>\n",
       "      <td>829,737</td>\n",
       "      <td>980,708</td>\n",
       "      <td>925,651</td>\n",
       "      <td>933,791</td>\n",
       "      <td>681,770</td>\n",
       "      <td>655,406</td>\n",
       "      <td>...</td>\n",
       "      <td>716,936</td>\n",
       "      <td>658,776</td>\n",
       "      <td>611,797</td>\n",
       "      <td>667,861</td>\n",
       "      <td>694,314</td>\n",
       "      <td>578,522</td>\n",
       "      <td>590,762</td>\n",
       "      <td>663,184</td>\n",
       "      <td>905,752</td>\n",
       "      <td>950,984</td>\n",
       "    </tr>\n",
       "    <tr>\n",
       "      <th>2</th>\n",
       "      <td>Hydraulic turbine 3</td>\n",
       "      <td>18,318</td>\n",
       "      <td>23,118</td>\n",
       "      <td>38,000</td>\n",
       "      <td>84,350</td>\n",
       "      <td>88,301</td>\n",
       "      <td>75,196</td>\n",
       "      <td>82,365</td>\n",
       "      <td>120,135</td>\n",
       "      <td>90,151</td>\n",
       "      <td>...</td>\n",
       "      <td>122,556</td>\n",
       "      <td>132,798</td>\n",
       "      <td>29,128</td>\n",
       "      <td>26,805</td>\n",
       "      <td>9,799</td>\n",
       "      <td>14,392</td>\n",
       "      <td>35,493</td>\n",
       "      <td>45,022</td>\n",
       "      <td>93,794</td>\n",
       "      <td>156,037</td>\n",
       "    </tr>\n",
       "    <tr>\n",
       "      <th>3</th>\n",
       "      <td>Conventional steam turbine 4</td>\n",
       "      <td>..</td>\n",
       "      <td>..</td>\n",
       "      <td>..</td>\n",
       "      <td>..</td>\n",
       "      <td>..</td>\n",
       "      <td>..</td>\n",
       "      <td>..</td>\n",
       "      <td>..</td>\n",
       "      <td>..</td>\n",
       "      <td>...</td>\n",
       "      <td>..</td>\n",
       "      <td>..</td>\n",
       "      <td>..</td>\n",
       "      <td>..</td>\n",
       "      <td>..</td>\n",
       "      <td>..</td>\n",
       "      <td>..</td>\n",
       "      <td>..</td>\n",
       "      <td>..</td>\n",
       "      <td>..</td>\n",
       "    </tr>\n",
       "    <tr>\n",
       "      <th>4</th>\n",
       "      <td>Nuclear steam turbine 5</td>\n",
       "      <td>..</td>\n",
       "      <td>..</td>\n",
       "      <td>..</td>\n",
       "      <td>..</td>\n",
       "      <td>..</td>\n",
       "      <td>..</td>\n",
       "      <td>..</td>\n",
       "      <td>..</td>\n",
       "      <td>..</td>\n",
       "      <td>...</td>\n",
       "      <td>..</td>\n",
       "      <td>..</td>\n",
       "      <td>..</td>\n",
       "      <td>..</td>\n",
       "      <td>..</td>\n",
       "      <td>..</td>\n",
       "      <td>..</td>\n",
       "      <td>..</td>\n",
       "      <td>..</td>\n",
       "      <td>..</td>\n",
       "    </tr>\n",
       "  </tbody>\n",
       "</table>\n",
       "<p>5 rows × 30 columns</p>\n",
       "</div>"
      ],
      "text/plain": [
       "              Type of electricity generation September 2020 October 2020  \\\n",
       "0                                        NaN            NaN          NaN   \n",
       "1  Total all types of electricity generation        646,301      671,220   \n",
       "2                        Hydraulic turbine 3         18,318       23,118   \n",
       "3               Conventional steam turbine 4             ..           ..   \n",
       "4                    Nuclear steam turbine 5             ..           ..   \n",
       "\n",
       "  November 2020 December 2020 January 2021 February 2021 March 2021  \\\n",
       "0           NaN           NaN          NaN           NaN        NaN   \n",
       "1       722,094       829,737      980,708       925,651    933,791   \n",
       "2        38,000        84,350       88,301        75,196     82,365   \n",
       "3            ..            ..           ..            ..         ..   \n",
       "4            ..            ..           ..            ..         ..   \n",
       "\n",
       "  April 2021 May 2021  ... April 2022 May 2022 June 2022 July 2022  \\\n",
       "0        NaN      NaN  ...        NaN      NaN       NaN       NaN   \n",
       "1    681,770  655,406  ...    716,936  658,776   611,797   667,861   \n",
       "2    120,135   90,151  ...    122,556  132,798    29,128    26,805   \n",
       "3         ..       ..  ...         ..       ..        ..        ..   \n",
       "4         ..       ..  ...         ..       ..        ..        ..   \n",
       "\n",
       "  August 2022 September 2022 October 2022 November 2022 December 2022  \\\n",
       "0         NaN            NaN          NaN           NaN           NaN   \n",
       "1     694,314        578,522      590,762       663,184       905,752   \n",
       "2       9,799         14,392       35,493        45,022        93,794   \n",
       "3          ..             ..           ..            ..            ..   \n",
       "4          ..             ..           ..            ..            ..   \n",
       "\n",
       "  January 2023  \n",
       "0          NaN  \n",
       "1      950,984  \n",
       "2      156,037  \n",
       "3           ..  \n",
       "4           ..  \n",
       "\n",
       "[5 rows x 30 columns]"
      ]
     },
     "execution_count": 13,
     "metadata": {},
     "output_type": "execute_result"
    }
   ],
   "source": [
    "ele_NS = pd.read_csv('/Users/gawain/Desktop/6.Real-time Local Business Condition Index/Electric power generation/NS/2510001501-NS-cleaned.csv')\n",
    "ele_NS.head()"
   ]
  },
  {
   "cell_type": "code",
   "execution_count": 14,
   "metadata": {},
   "outputs": [
    {
     "data": {
      "text/html": [
       "<div>\n",
       "<style scoped>\n",
       "    .dataframe tbody tr th:only-of-type {\n",
       "        vertical-align: middle;\n",
       "    }\n",
       "\n",
       "    .dataframe tbody tr th {\n",
       "        vertical-align: top;\n",
       "    }\n",
       "\n",
       "    .dataframe thead th {\n",
       "        text-align: right;\n",
       "    }\n",
       "</style>\n",
       "<table border=\"1\" class=\"dataframe\">\n",
       "  <thead>\n",
       "    <tr style=\"text-align: right;\">\n",
       "      <th></th>\n",
       "      <th>Type of electricity generation</th>\n",
       "      <th>September 2020</th>\n",
       "      <th>October 2020</th>\n",
       "      <th>November 2020</th>\n",
       "      <th>December 2020</th>\n",
       "      <th>January 2021</th>\n",
       "      <th>February 2021</th>\n",
       "      <th>March 2021</th>\n",
       "      <th>April 2021</th>\n",
       "      <th>May 2021</th>\n",
       "      <th>...</th>\n",
       "      <th>April 2022</th>\n",
       "      <th>May 2022</th>\n",
       "      <th>June 2022</th>\n",
       "      <th>July 2022</th>\n",
       "      <th>August 2022</th>\n",
       "      <th>September 2022</th>\n",
       "      <th>October 2022</th>\n",
       "      <th>November 2022</th>\n",
       "      <th>December 2022</th>\n",
       "      <th>January 2023</th>\n",
       "    </tr>\n",
       "  </thead>\n",
       "  <tbody>\n",
       "    <tr>\n",
       "      <th>1</th>\n",
       "      <td>Total all types of electricity generation</td>\n",
       "      <td>646,301</td>\n",
       "      <td>671,220</td>\n",
       "      <td>722,094</td>\n",
       "      <td>829,737</td>\n",
       "      <td>980,708</td>\n",
       "      <td>925,651</td>\n",
       "      <td>933,791</td>\n",
       "      <td>681,770</td>\n",
       "      <td>655,406</td>\n",
       "      <td>...</td>\n",
       "      <td>716,936</td>\n",
       "      <td>658,776</td>\n",
       "      <td>611,797</td>\n",
       "      <td>667,861</td>\n",
       "      <td>694,314</td>\n",
       "      <td>578,522</td>\n",
       "      <td>590,762</td>\n",
       "      <td>663,184</td>\n",
       "      <td>905,752</td>\n",
       "      <td>950,984</td>\n",
       "    </tr>\n",
       "  </tbody>\n",
       "</table>\n",
       "<p>1 rows × 30 columns</p>\n",
       "</div>"
      ],
      "text/plain": [
       "              Type of electricity generation September 2020 October 2020  \\\n",
       "1  Total all types of electricity generation        646,301      671,220   \n",
       "\n",
       "  November 2020 December 2020 January 2021 February 2021 March 2021  \\\n",
       "1       722,094       829,737      980,708       925,651    933,791   \n",
       "\n",
       "  April 2021 May 2021  ... April 2022 May 2022 June 2022 July 2022  \\\n",
       "1    681,770  655,406  ...    716,936  658,776   611,797   667,861   \n",
       "\n",
       "  August 2022 September 2022 October 2022 November 2022 December 2022  \\\n",
       "1     694,314        578,522      590,762       663,184       905,752   \n",
       "\n",
       "  January 2023  \n",
       "1      950,984  \n",
       "\n",
       "[1 rows x 30 columns]"
      ]
     },
     "execution_count": 14,
     "metadata": {},
     "output_type": "execute_result"
    }
   ],
   "source": [
    "ele_NS_Total = ele_NS[ele_NS['Type of electricity generation'] == 'Total all types of electricity generation']\n",
    "ele_NS_Total"
   ]
  },
  {
   "cell_type": "code",
   "execution_count": 15,
   "metadata": {},
   "outputs": [
    {
     "data": {
      "text/html": [
       "<div>\n",
       "<style scoped>\n",
       "    .dataframe tbody tr th:only-of-type {\n",
       "        vertical-align: middle;\n",
       "    }\n",
       "\n",
       "    .dataframe tbody tr th {\n",
       "        vertical-align: top;\n",
       "    }\n",
       "\n",
       "    .dataframe thead th {\n",
       "        text-align: right;\n",
       "    }\n",
       "</style>\n",
       "<table border=\"1\" class=\"dataframe\">\n",
       "  <thead>\n",
       "    <tr style=\"text-align: right;\">\n",
       "      <th></th>\n",
       "      <th>Date</th>\n",
       "      <th>Value</th>\n",
       "    </tr>\n",
       "  </thead>\n",
       "  <tbody>\n",
       "    <tr>\n",
       "      <th>0</th>\n",
       "      <td>2020-09-01</td>\n",
       "      <td>646301.0</td>\n",
       "    </tr>\n",
       "    <tr>\n",
       "      <th>1</th>\n",
       "      <td>2020-10-01</td>\n",
       "      <td>671220.0</td>\n",
       "    </tr>\n",
       "    <tr>\n",
       "      <th>2</th>\n",
       "      <td>2020-11-01</td>\n",
       "      <td>722094.0</td>\n",
       "    </tr>\n",
       "    <tr>\n",
       "      <th>3</th>\n",
       "      <td>2020-12-01</td>\n",
       "      <td>829737.0</td>\n",
       "    </tr>\n",
       "    <tr>\n",
       "      <th>4</th>\n",
       "      <td>2021-01-01</td>\n",
       "      <td>980708.0</td>\n",
       "    </tr>\n",
       "  </tbody>\n",
       "</table>\n",
       "</div>"
      ],
      "text/plain": [
       "        Date     Value\n",
       "0 2020-09-01  646301.0\n",
       "1 2020-10-01  671220.0\n",
       "2 2020-11-01  722094.0\n",
       "3 2020-12-01  829737.0\n",
       "4 2021-01-01  980708.0"
      ]
     },
     "execution_count": 15,
     "metadata": {},
     "output_type": "execute_result"
    }
   ],
   "source": [
    "ele_NS_total = convert_combined(ele_NS_Total)\n",
    "ele_NS_total.head()"
   ]
  },
  {
   "cell_type": "code",
   "execution_count": 16,
   "metadata": {},
   "outputs": [
    {
     "data": {
      "text/html": [
       "<div>\n",
       "<style scoped>\n",
       "    .dataframe tbody tr th:only-of-type {\n",
       "        vertical-align: middle;\n",
       "    }\n",
       "\n",
       "    .dataframe tbody tr th {\n",
       "        vertical-align: top;\n",
       "    }\n",
       "\n",
       "    .dataframe thead th {\n",
       "        text-align: right;\n",
       "    }\n",
       "</style>\n",
       "<table border=\"1\" class=\"dataframe\">\n",
       "  <thead>\n",
       "    <tr style=\"text-align: right;\">\n",
       "      <th></th>\n",
       "      <th>Date</th>\n",
       "      <th>RT_LBCI_monthly</th>\n",
       "      <th>Unemployment Rate</th>\n",
       "      <th>Electricity generation</th>\n",
       "    </tr>\n",
       "  </thead>\n",
       "  <tbody>\n",
       "    <tr>\n",
       "      <th>0</th>\n",
       "      <td>2020-09-01</td>\n",
       "      <td>107.7150</td>\n",
       "      <td>8.7</td>\n",
       "      <td>646301.0</td>\n",
       "    </tr>\n",
       "    <tr>\n",
       "      <th>1</th>\n",
       "      <td>2020-10-01</td>\n",
       "      <td>130.6950</td>\n",
       "      <td>7.7</td>\n",
       "      <td>671220.0</td>\n",
       "    </tr>\n",
       "    <tr>\n",
       "      <th>2</th>\n",
       "      <td>2020-11-01</td>\n",
       "      <td>150.7020</td>\n",
       "      <td>6.3</td>\n",
       "      <td>722094.0</td>\n",
       "    </tr>\n",
       "    <tr>\n",
       "      <th>3</th>\n",
       "      <td>2020-12-01</td>\n",
       "      <td>167.8600</td>\n",
       "      <td>7.0</td>\n",
       "      <td>829737.0</td>\n",
       "    </tr>\n",
       "    <tr>\n",
       "      <th>4</th>\n",
       "      <td>2021-01-01</td>\n",
       "      <td>153.1375</td>\n",
       "      <td>7.5</td>\n",
       "      <td>980708.0</td>\n",
       "    </tr>\n",
       "  </tbody>\n",
       "</table>\n",
       "</div>"
      ],
      "text/plain": [
       "        Date  RT_LBCI_monthly  Unemployment Rate  Electricity generation\n",
       "0 2020-09-01         107.7150                8.7                646301.0\n",
       "1 2020-10-01         130.6950                7.7                671220.0\n",
       "2 2020-11-01         150.7020                6.3                722094.0\n",
       "3 2020-12-01         167.8600                7.0                829737.0\n",
       "4 2021-01-01         153.1375                7.5                980708.0"
      ]
     },
     "execution_count": 16,
     "metadata": {},
     "output_type": "execute_result"
    }
   ],
   "source": [
    "Halifax_df_combined = pd.merge(Halifax_df_combined, ele_NS_total, on='Date')\n",
    "Halifax_df_combined = Halifax_df_combined.rename(columns={'Value': 'Electricity generation'})\n",
    "Halifax_df_combined.head()"
   ]
  },
  {
   "cell_type": "code",
   "execution_count": 17,
   "metadata": {},
   "outputs": [
    {
     "data": {
      "image/png": "[encoded data removed]",
      "text/plain": [
       "<Figure size 1200x600 with 3 Axes>"
      ]
     },
     "metadata": {},
     "output_type": "display_data"
    }
   ],
   "source": [
    "# Plot RT_LBCI_monthly with a blue color and label\n",
    "# fig, ax1 = plt.subplots()\n",
    "fig, ax1 = plt.subplots(figsize=(12, 6))\n",
    "\n",
    "ax1.plot(Halifax_df_combined['Date'], Halifax_df_combined['RT_LBCI_monthly'], 'b-', label='RT_LBCI_monthly')\n",
    "ax1.set_xlabel('Date')\n",
    "ax1.set_ylabel('RT_LBCI_monthly', color='b')\n",
    "ax1.tick_params('y', colors='b')\n",
    "\n",
    "# Format date axis\n",
    "ax1.xaxis.set_major_formatter(mdates.DateFormatter('%Y-%m'))\n",
    "ax1.xaxis.set_major_locator(mdates.MonthLocator())\n",
    "\n",
    "# Create a second y-axis for the Unemployment Rate, plot it with a red color and label\n",
    "ax2 = ax1.twinx()\n",
    "ax2.plot(Halifax_df_combined['Date'], Halifax_df_combined['Unemployment Rate'], 'r-', label='Unemployment Rate')\n",
    "ax2.set_ylabel('Unemployment Rate', color='r')\n",
    "ax2.tick_params('y', colors='r')\n",
    "\n",
    "# Create a third y-axis for the Electricity generation, plot it with a green color and label\n",
    "ax3 = ax1.twinx()\n",
    "ax3.spines['right'].set_position(('outward', 60))\n",
    "ax3.plot(Halifax_df_combined['Date'], Halifax_df_combined['Electricity generation'], 'g-', label='Electricity generation')\n",
    "ax3.set_ylabel('Electricity generation', color='g')\n",
    "ax3.tick_params('y', colors='g')\n",
    "\n",
    "# Add a legend\n",
    "fig.legend(loc=\"upper left\", bbox_to_anchor=(0,1), bbox_transform=ax1.transAxes)\n",
    "\n",
    "# Adjust the plot layout\n",
    "fig.tight_layout()\n",
    "\n",
    "# Show the plot\n",
    "plt.show()\n"
   ]
  },
  {
   "attachments": {},
   "cell_type": "markdown",
   "metadata": {},
   "source": [
    "## Consumer Price Index\n",
    "\n",
    "Frequency: Monthly\n",
    "\n",
    "Table: 18-10-0004-01 (formerly CANSIM 326-0020)\n",
    "\n",
    "Release date: 2023-04-18\n",
    "\n",
    "Geography: Canada, Province or territory, Census subdivision, Census metropolitan area, Census metropolitan area part\n",
    "\n",
    "https://www150.statcan.gc.ca/t1/tbl1/en/tv.action?pid=1810000401"
   ]
  },
  {
   "cell_type": "code",
   "execution_count": 18,
   "metadata": {},
   "outputs": [
    {
     "data": {
      "text/html": [
       "<div>\n",
       "<style scoped>\n",
       "    .dataframe tbody tr th:only-of-type {\n",
       "        vertical-align: middle;\n",
       "    }\n",
       "\n",
       "    .dataframe tbody tr th {\n",
       "        vertical-align: top;\n",
       "    }\n",
       "\n",
       "    .dataframe thead th {\n",
       "        text-align: right;\n",
       "    }\n",
       "</style>\n",
       "<table border=\"1\" class=\"dataframe\">\n",
       "  <thead>\n",
       "    <tr style=\"text-align: right;\">\n",
       "      <th></th>\n",
       "      <th>Products and product groups 3 4</th>\n",
       "      <th>September 2020</th>\n",
       "      <th>October 2020</th>\n",
       "      <th>November 2020</th>\n",
       "      <th>December 2020</th>\n",
       "      <th>January 2021</th>\n",
       "      <th>February 2021</th>\n",
       "      <th>March 2021</th>\n",
       "      <th>April 2021</th>\n",
       "      <th>May 2021</th>\n",
       "      <th>...</th>\n",
       "      <th>June 2022</th>\n",
       "      <th>July 2022</th>\n",
       "      <th>August 2022</th>\n",
       "      <th>September 2022</th>\n",
       "      <th>October 2022</th>\n",
       "      <th>November 2022</th>\n",
       "      <th>December 2022</th>\n",
       "      <th>January 2023</th>\n",
       "      <th>February 2023</th>\n",
       "      <th>March 2023</th>\n",
       "    </tr>\n",
       "  </thead>\n",
       "  <tbody>\n",
       "    <tr>\n",
       "      <th>0</th>\n",
       "      <td>NaN</td>\n",
       "      <td>NaN</td>\n",
       "      <td>NaN</td>\n",
       "      <td>NaN</td>\n",
       "      <td>NaN</td>\n",
       "      <td>NaN</td>\n",
       "      <td>NaN</td>\n",
       "      <td>NaN</td>\n",
       "      <td>NaN</td>\n",
       "      <td>NaN</td>\n",
       "      <td>...</td>\n",
       "      <td>NaN</td>\n",
       "      <td>NaN</td>\n",
       "      <td>NaN</td>\n",
       "      <td>NaN</td>\n",
       "      <td>NaN</td>\n",
       "      <td>NaN</td>\n",
       "      <td>NaN</td>\n",
       "      <td>NaN</td>\n",
       "      <td>NaN</td>\n",
       "      <td>NaN</td>\n",
       "    </tr>\n",
       "    <tr>\n",
       "      <th>1</th>\n",
       "      <td>All-items</td>\n",
       "      <td>137.5</td>\n",
       "      <td>138.4</td>\n",
       "      <td>138.7</td>\n",
       "      <td>138.7</td>\n",
       "      <td>140.3</td>\n",
       "      <td>140.8</td>\n",
       "      <td>141.8</td>\n",
       "      <td>142.3</td>\n",
       "      <td>143.1</td>\n",
       "      <td>...</td>\n",
       "      <td>156.5</td>\n",
       "      <td>156.7</td>\n",
       "      <td>155.7</td>\n",
       "      <td>155.2</td>\n",
       "      <td>157.1</td>\n",
       "      <td>158.5</td>\n",
       "      <td>156.4</td>\n",
       "      <td>157.3</td>\n",
       "      <td>158.4</td>\n",
       "      <td>158.4</td>\n",
       "    </tr>\n",
       "    <tr>\n",
       "      <th>2</th>\n",
       "      <td>Food 5</td>\n",
       "      <td>155.9</td>\n",
       "      <td>156.1</td>\n",
       "      <td>157.2</td>\n",
       "      <td>156.9</td>\n",
       "      <td>158.2</td>\n",
       "      <td>158.0</td>\n",
       "      <td>158.9</td>\n",
       "      <td>158.0</td>\n",
       "      <td>160.2</td>\n",
       "      <td>...</td>\n",
       "      <td>174.8</td>\n",
       "      <td>177.1</td>\n",
       "      <td>177.6</td>\n",
       "      <td>179.8</td>\n",
       "      <td>179.2</td>\n",
       "      <td>182.7</td>\n",
       "      <td>181.4</td>\n",
       "      <td>184.7</td>\n",
       "      <td>185.8</td>\n",
       "      <td>187.6</td>\n",
       "    </tr>\n",
       "    <tr>\n",
       "      <th>3</th>\n",
       "      <td>Shelter 6</td>\n",
       "      <td>149.1</td>\n",
       "      <td>149.9</td>\n",
       "      <td>150.8</td>\n",
       "      <td>152.4</td>\n",
       "      <td>152.9</td>\n",
       "      <td>153.9</td>\n",
       "      <td>156.0</td>\n",
       "      <td>155.9</td>\n",
       "      <td>156.0</td>\n",
       "      <td>...</td>\n",
       "      <td>171.6</td>\n",
       "      <td>172.1</td>\n",
       "      <td>170.6</td>\n",
       "      <td>171.3</td>\n",
       "      <td>175.0</td>\n",
       "      <td>178.9</td>\n",
       "      <td>176.1</td>\n",
       "      <td>175.2</td>\n",
       "      <td>178.6</td>\n",
       "      <td>175.7</td>\n",
       "    </tr>\n",
       "    <tr>\n",
       "      <th>4</th>\n",
       "      <td>Household operations, furnishings and equipment</td>\n",
       "      <td>121.9</td>\n",
       "      <td>123.0</td>\n",
       "      <td>122.6</td>\n",
       "      <td>122.0</td>\n",
       "      <td>123.6</td>\n",
       "      <td>122.8</td>\n",
       "      <td>121.0</td>\n",
       "      <td>122.4</td>\n",
       "      <td>122.6</td>\n",
       "      <td>...</td>\n",
       "      <td>127.7</td>\n",
       "      <td>128.0</td>\n",
       "      <td>128.4</td>\n",
       "      <td>129.0</td>\n",
       "      <td>129.8</td>\n",
       "      <td>128.7</td>\n",
       "      <td>128.9</td>\n",
       "      <td>129.1</td>\n",
       "      <td>130.1</td>\n",
       "      <td>129.7</td>\n",
       "    </tr>\n",
       "  </tbody>\n",
       "</table>\n",
       "<p>5 rows × 32 columns</p>\n",
       "</div>"
      ],
      "text/plain": [
       "                   Products and product groups 3 4  September 2020  \\\n",
       "0                                              NaN             NaN   \n",
       "1                                        All-items           137.5   \n",
       "2                                           Food 5           155.9   \n",
       "3                                        Shelter 6           149.1   \n",
       "4  Household operations, furnishings and equipment           121.9   \n",
       "\n",
       "   October 2020  November 2020  December 2020  January 2021  February 2021  \\\n",
       "0           NaN            NaN            NaN           NaN            NaN   \n",
       "1         138.4          138.7          138.7         140.3          140.8   \n",
       "2         156.1          157.2          156.9         158.2          158.0   \n",
       "3         149.9          150.8          152.4         152.9          153.9   \n",
       "4         123.0          122.6          122.0         123.6          122.8   \n",
       "\n",
       "   March 2021  April 2021  May 2021  ...  June 2022  July 2022  August 2022  \\\n",
       "0         NaN         NaN       NaN  ...        NaN        NaN          NaN   \n",
       "1       141.8       142.3     143.1  ...      156.5      156.7        155.7   \n",
       "2       158.9       158.0     160.2  ...      174.8      177.1        177.6   \n",
       "3       156.0       155.9     156.0  ...      171.6      172.1        170.6   \n",
       "4       121.0       122.4     122.6  ...      127.7      128.0        128.4   \n",
       "\n",
       "   September 2022  October 2022  November 2022  December 2022  January 2023  \\\n",
       "0             NaN           NaN            NaN            NaN           NaN   \n",
       "1           155.2         157.1          158.5          156.4         157.3   \n",
       "2           179.8         179.2          182.7          181.4         184.7   \n",
       "3           171.3         175.0          178.9          176.1         175.2   \n",
       "4           129.0         129.8          128.7          128.9         129.1   \n",
       "\n",
       "   February 2023  March 2023  \n",
       "0            NaN         NaN  \n",
       "1          158.4       158.4  \n",
       "2          185.8       187.6  \n",
       "3          178.6       175.7  \n",
       "4          130.1       129.7  \n",
       "\n",
       "[5 rows x 32 columns]"
      ]
     },
     "execution_count": 18,
     "metadata": {},
     "output_type": "execute_result"
    }
   ],
   "source": [
    "cpi_ns_path = '/Users/gawain/Desktop/6.Real-time Local Business Condition Index/CPI/NS/1810000401-NS-cleaned.csv'\n",
    "cpi_ns_df = pd.read_csv(cpi_ns_path)\n",
    "cpi_ns_df.head()"
   ]
  },
  {
   "cell_type": "code",
   "execution_count": 19,
   "metadata": {},
   "outputs": [
    {
     "data": {
      "text/html": [
       "<div>\n",
       "<style scoped>\n",
       "    .dataframe tbody tr th:only-of-type {\n",
       "        vertical-align: middle;\n",
       "    }\n",
       "\n",
       "    .dataframe tbody tr th {\n",
       "        vertical-align: top;\n",
       "    }\n",
       "\n",
       "    .dataframe thead th {\n",
       "        text-align: right;\n",
       "    }\n",
       "</style>\n",
       "<table border=\"1\" class=\"dataframe\">\n",
       "  <thead>\n",
       "    <tr style=\"text-align: right;\">\n",
       "      <th></th>\n",
       "      <th>Products and product groups 3 4</th>\n",
       "      <th>September 2020</th>\n",
       "      <th>October 2020</th>\n",
       "      <th>November 2020</th>\n",
       "      <th>December 2020</th>\n",
       "      <th>January 2021</th>\n",
       "      <th>February 2021</th>\n",
       "      <th>March 2021</th>\n",
       "      <th>April 2021</th>\n",
       "      <th>May 2021</th>\n",
       "      <th>...</th>\n",
       "      <th>June 2022</th>\n",
       "      <th>July 2022</th>\n",
       "      <th>August 2022</th>\n",
       "      <th>September 2022</th>\n",
       "      <th>October 2022</th>\n",
       "      <th>November 2022</th>\n",
       "      <th>December 2022</th>\n",
       "      <th>January 2023</th>\n",
       "      <th>February 2023</th>\n",
       "      <th>March 2023</th>\n",
       "    </tr>\n",
       "  </thead>\n",
       "  <tbody>\n",
       "    <tr>\n",
       "      <th>1</th>\n",
       "      <td>All-items</td>\n",
       "      <td>137.5</td>\n",
       "      <td>138.4</td>\n",
       "      <td>138.7</td>\n",
       "      <td>138.7</td>\n",
       "      <td>140.3</td>\n",
       "      <td>140.8</td>\n",
       "      <td>141.8</td>\n",
       "      <td>142.3</td>\n",
       "      <td>143.1</td>\n",
       "      <td>...</td>\n",
       "      <td>156.5</td>\n",
       "      <td>156.7</td>\n",
       "      <td>155.7</td>\n",
       "      <td>155.2</td>\n",
       "      <td>157.1</td>\n",
       "      <td>158.5</td>\n",
       "      <td>156.4</td>\n",
       "      <td>157.3</td>\n",
       "      <td>158.4</td>\n",
       "      <td>158.4</td>\n",
       "    </tr>\n",
       "  </tbody>\n",
       "</table>\n",
       "<p>1 rows × 32 columns</p>\n",
       "</div>"
      ],
      "text/plain": [
       "  Products and product groups 3 4  September 2020  October 2020  \\\n",
       "1                       All-items           137.5         138.4   \n",
       "\n",
       "   November 2020  December 2020  January 2021  February 2021  March 2021  \\\n",
       "1          138.7          138.7         140.3          140.8       141.8   \n",
       "\n",
       "   April 2021  May 2021  ...  June 2022  July 2022  August 2022  \\\n",
       "1       142.3     143.1  ...      156.5      156.7        155.7   \n",
       "\n",
       "   September 2022  October 2022  November 2022  December 2022  January 2023  \\\n",
       "1           155.2         157.1          158.5          156.4         157.3   \n",
       "\n",
       "   February 2023  March 2023  \n",
       "1          158.4       158.4  \n",
       "\n",
       "[1 rows x 32 columns]"
      ]
     },
     "execution_count": 19,
     "metadata": {},
     "output_type": "execute_result"
    }
   ],
   "source": [
    "# select the CPI for all items\n",
    "cpi_ns_all = cpi_ns_df[cpi_ns_df['Products and product groups 3 4'] == 'All-items']\n",
    "cpi_ns_all.head()"
   ]
  },
  {
   "cell_type": "code",
   "execution_count": 20,
   "metadata": {},
   "outputs": [
    {
     "data": {
      "text/html": [
       "<div>\n",
       "<style scoped>\n",
       "    .dataframe tbody tr th:only-of-type {\n",
       "        vertical-align: middle;\n",
       "    }\n",
       "\n",
       "    .dataframe tbody tr th {\n",
       "        vertical-align: top;\n",
       "    }\n",
       "\n",
       "    .dataframe thead th {\n",
       "        text-align: right;\n",
       "    }\n",
       "</style>\n",
       "<table border=\"1\" class=\"dataframe\">\n",
       "  <thead>\n",
       "    <tr style=\"text-align: right;\">\n",
       "      <th></th>\n",
       "      <th>Date</th>\n",
       "      <th>Value</th>\n",
       "    </tr>\n",
       "  </thead>\n",
       "  <tbody>\n",
       "    <tr>\n",
       "      <th>0</th>\n",
       "      <td>2020-09-01</td>\n",
       "      <td>137.5</td>\n",
       "    </tr>\n",
       "    <tr>\n",
       "      <th>1</th>\n",
       "      <td>2020-10-01</td>\n",
       "      <td>138.4</td>\n",
       "    </tr>\n",
       "    <tr>\n",
       "      <th>2</th>\n",
       "      <td>2020-11-01</td>\n",
       "      <td>138.7</td>\n",
       "    </tr>\n",
       "    <tr>\n",
       "      <th>3</th>\n",
       "      <td>2020-12-01</td>\n",
       "      <td>138.7</td>\n",
       "    </tr>\n",
       "    <tr>\n",
       "      <th>4</th>\n",
       "      <td>2021-01-01</td>\n",
       "      <td>140.3</td>\n",
       "    </tr>\n",
       "  </tbody>\n",
       "</table>\n",
       "</div>"
      ],
      "text/plain": [
       "        Date  Value\n",
       "0 2020-09-01  137.5\n",
       "1 2020-10-01  138.4\n",
       "2 2020-11-01  138.7\n",
       "3 2020-12-01  138.7\n",
       "4 2021-01-01  140.3"
      ]
     },
     "execution_count": 20,
     "metadata": {},
     "output_type": "execute_result"
    }
   ],
   "source": [
    "cpi_ns_all = convert_combined(cpi_ns_all)\n",
    "cpi_ns_all.head()"
   ]
  },
  {
   "cell_type": "code",
   "execution_count": 21,
   "metadata": {},
   "outputs": [
    {
     "data": {
      "text/html": [
       "<div>\n",
       "<style scoped>\n",
       "    .dataframe tbody tr th:only-of-type {\n",
       "        vertical-align: middle;\n",
       "    }\n",
       "\n",
       "    .dataframe tbody tr th {\n",
       "        vertical-align: top;\n",
       "    }\n",
       "\n",
       "    .dataframe thead th {\n",
       "        text-align: right;\n",
       "    }\n",
       "</style>\n",
       "<table border=\"1\" class=\"dataframe\">\n",
       "  <thead>\n",
       "    <tr style=\"text-align: right;\">\n",
       "      <th></th>\n",
       "      <th>Date</th>\n",
       "      <th>RT_LBCI_monthly</th>\n",
       "      <th>Unemployment Rate</th>\n",
       "      <th>Electricity generation</th>\n",
       "      <th>CPI</th>\n",
       "    </tr>\n",
       "  </thead>\n",
       "  <tbody>\n",
       "    <tr>\n",
       "      <th>0</th>\n",
       "      <td>2020-09-01</td>\n",
       "      <td>107.7150</td>\n",
       "      <td>8.7</td>\n",
       "      <td>646301.0</td>\n",
       "      <td>137.5</td>\n",
       "    </tr>\n",
       "    <tr>\n",
       "      <th>1</th>\n",
       "      <td>2020-10-01</td>\n",
       "      <td>130.6950</td>\n",
       "      <td>7.7</td>\n",
       "      <td>671220.0</td>\n",
       "      <td>138.4</td>\n",
       "    </tr>\n",
       "    <tr>\n",
       "      <th>2</th>\n",
       "      <td>2020-11-01</td>\n",
       "      <td>150.7020</td>\n",
       "      <td>6.3</td>\n",
       "      <td>722094.0</td>\n",
       "      <td>138.7</td>\n",
       "    </tr>\n",
       "    <tr>\n",
       "      <th>3</th>\n",
       "      <td>2020-12-01</td>\n",
       "      <td>167.8600</td>\n",
       "      <td>7.0</td>\n",
       "      <td>829737.0</td>\n",
       "      <td>138.7</td>\n",
       "    </tr>\n",
       "    <tr>\n",
       "      <th>4</th>\n",
       "      <td>2021-01-01</td>\n",
       "      <td>153.1375</td>\n",
       "      <td>7.5</td>\n",
       "      <td>980708.0</td>\n",
       "      <td>140.3</td>\n",
       "    </tr>\n",
       "  </tbody>\n",
       "</table>\n",
       "</div>"
      ],
      "text/plain": [
       "        Date  RT_LBCI_monthly  Unemployment Rate  Electricity generation  \\\n",
       "0 2020-09-01         107.7150                8.7                646301.0   \n",
       "1 2020-10-01         130.6950                7.7                671220.0   \n",
       "2 2020-11-01         150.7020                6.3                722094.0   \n",
       "3 2020-12-01         167.8600                7.0                829737.0   \n",
       "4 2021-01-01         153.1375                7.5                980708.0   \n",
       "\n",
       "     CPI  \n",
       "0  137.5  \n",
       "1  138.4  \n",
       "2  138.7  \n",
       "3  138.7  \n",
       "4  140.3  "
      ]
     },
     "execution_count": 21,
     "metadata": {},
     "output_type": "execute_result"
    }
   ],
   "source": [
    "Halifax_df_combined = pd.merge(Halifax_df_combined, cpi_ns_all, on='Date')\n",
    "Halifax_df_combined = Halifax_df_combined.rename(columns={'Value': 'CPI'})\n",
    "Halifax_df_combined.head()"
   ]
  },
  {
   "cell_type": "code",
   "execution_count": 22,
   "metadata": {},
   "outputs": [
    {
     "data": {
      "image/png": "[encoded data removed]",
      "text/plain": [
       "<Figure size 1200x600 with 4 Axes>"
      ]
     },
     "metadata": {},
     "output_type": "display_data"
    }
   ],
   "source": [
    "Halifax_df_combined['Date'] = pd.to_datetime(Halifax_df_combined['Date'])\n",
    "\n",
    "# Set the figure size (width, height) in inches\n",
    "fig, ax1 = plt.subplots(figsize=(12, 6))\n",
    "\n",
    "# Plot RT_LBCI_monthly with a blue color and label\n",
    "ax1.plot(Halifax_df_combined['Date'], Halifax_df_combined['RT_LBCI_monthly'], 'b-', label='RT_LBCI_monthly')\n",
    "ax1.set_xlabel('Date')\n",
    "ax1.set_ylabel('RT_LBCI_monthly', color='b')\n",
    "ax1.tick_params('y', colors='b')\n",
    "\n",
    "# Format date axis\n",
    "ax1.xaxis.set_major_formatter(mdates.DateFormatter('%Y-%m'))\n",
    "ax1.xaxis.set_major_locator(mdates.MonthLocator())\n",
    "\n",
    "# Create a second y-axis for the Unemployment Rate, plot it with a red color and label\n",
    "ax2 = ax1.twinx()\n",
    "ax2.plot(Halifax_df_combined['Date'], Halifax_df_combined['Unemployment Rate'], 'r-', label='Unemployment Rate')\n",
    "ax2.set_ylabel('Unemployment Rate', color='r')\n",
    "ax2.tick_params('y', colors='r')\n",
    "\n",
    "# Create a third y-axis for the Electricity generation, plot it with a green color and label\n",
    "ax3 = ax1.twinx()\n",
    "ax3.spines['right'].set_position(('outward', 60))\n",
    "ax3.plot(Halifax_df_combined['Date'], Halifax_df_combined['Electricity generation'], 'g-', label='Electricity generation')\n",
    "ax3.set_ylabel('Electricity generation', color='g')\n",
    "ax3.tick_params('y', colors='g')\n",
    "\n",
    "# Create a fourth y-axis for the CPI, plot it with a purple color and label\n",
    "ax4 = ax1.twinx()\n",
    "ax4.spines['right'].set_position(('outward', 120))\n",
    "ax4.plot(Halifax_df_combined['Date'], Halifax_df_combined['CPI'], 'm-', label='CPI')\n",
    "ax4.set_ylabel('CPI', color='m')\n",
    "ax4.tick_params('y', colors='m')\n",
    "\n",
    "# Add a legend\n",
    "fig.legend(loc=\"upper left\", bbox_to_anchor=(0,1), bbox_transform=ax1.transAxes)\n",
    "\n",
    "# Adjust the plot layout\n",
    "fig.tight_layout()\n",
    "\n",
    "# Show the plot\n",
    "plt.show()\n"
   ]
  },
  {
   "attachments": {},
   "cell_type": "markdown",
   "metadata": {},
   "source": [
    "## Estimates for business openings and closures\n",
    "\n",
    "Experimental estimates for business openings and closures for Canada, provinces and territories, census metropolitan areas, seasonally adjusted\n",
    "\n",
    "Frequency: Monthly\n",
    "\n",
    "Table: 33-10-0270-01\n",
    "\n",
    "Release date: 2023-04-25\n",
    "\n",
    "Geography: Canada, Province or territory, Census metropolitan area\n",
    "\n",
    "https://www150.statcan.gc.ca/t1/tbl1/en/tv.action?pid=3310027001\n",
    "\n",
    "**Question: There are 4 business statuses, how to choose?**"
   ]
  },
  {
   "cell_type": "code",
   "execution_count": 23,
   "metadata": {},
   "outputs": [
    {
     "data": {
      "text/html": [
       "<div>\n",
       "<style scoped>\n",
       "    .dataframe tbody tr th:only-of-type {\n",
       "        vertical-align: middle;\n",
       "    }\n",
       "\n",
       "    .dataframe tbody tr th {\n",
       "        vertical-align: top;\n",
       "    }\n",
       "\n",
       "    .dataframe thead th {\n",
       "        text-align: right;\n",
       "    }\n",
       "</style>\n",
       "<table border=\"1\" class=\"dataframe\">\n",
       "  <thead>\n",
       "    <tr style=\"text-align: right;\">\n",
       "      <th></th>\n",
       "      <th>Business dynamics measure</th>\n",
       "      <th>September 2020</th>\n",
       "      <th>October 2020</th>\n",
       "      <th>November 2020</th>\n",
       "      <th>December 2020</th>\n",
       "      <th>January 2021</th>\n",
       "      <th>February 2021</th>\n",
       "      <th>March 2021</th>\n",
       "      <th>April 2021</th>\n",
       "      <th>May 2021</th>\n",
       "      <th>...</th>\n",
       "      <th>April 2022</th>\n",
       "      <th>May 2022</th>\n",
       "      <th>June 2022</th>\n",
       "      <th>July 2022</th>\n",
       "      <th>August 2022</th>\n",
       "      <th>September 2022</th>\n",
       "      <th>October 2022</th>\n",
       "      <th>November 2022</th>\n",
       "      <th>December 2022</th>\n",
       "      <th>January 2023</th>\n",
       "    </tr>\n",
       "  </thead>\n",
       "  <tbody>\n",
       "    <tr>\n",
       "      <th>0</th>\n",
       "      <td>NaN</td>\n",
       "      <td>NaN</td>\n",
       "      <td>NaN</td>\n",
       "      <td>NaN</td>\n",
       "      <td>NaN</td>\n",
       "      <td>NaN</td>\n",
       "      <td>NaN</td>\n",
       "      <td>NaN</td>\n",
       "      <td>NaN</td>\n",
       "      <td>NaN</td>\n",
       "      <td>...</td>\n",
       "      <td>NaN</td>\n",
       "      <td>NaN</td>\n",
       "      <td>NaN</td>\n",
       "      <td>NaN</td>\n",
       "      <td>NaN</td>\n",
       "      <td>NaN</td>\n",
       "      <td>NaN</td>\n",
       "      <td>NaN</td>\n",
       "      <td>NaN</td>\n",
       "      <td>NaN</td>\n",
       "    </tr>\n",
       "    <tr>\n",
       "      <th>1</th>\n",
       "      <td>Active businesses 3</td>\n",
       "      <td>9,488</td>\n",
       "      <td>9,566</td>\n",
       "      <td>9,629</td>\n",
       "      <td>9,724</td>\n",
       "      <td>9,815</td>\n",
       "      <td>9,867</td>\n",
       "      <td>9,915</td>\n",
       "      <td>9,909</td>\n",
       "      <td>9,866</td>\n",
       "      <td>...</td>\n",
       "      <td>10,633</td>\n",
       "      <td>10,647</td>\n",
       "      <td>10,695</td>\n",
       "      <td>10,709</td>\n",
       "      <td>10,701</td>\n",
       "      <td>10,722</td>\n",
       "      <td>10,723</td>\n",
       "      <td>10,737</td>\n",
       "      <td>10,758</td>\n",
       "      <td>10,815</td>\n",
       "    </tr>\n",
       "    <tr>\n",
       "      <th>2</th>\n",
       "      <td>Opening businesses 4</td>\n",
       "      <td>454</td>\n",
       "      <td>434</td>\n",
       "      <td>455</td>\n",
       "      <td>438</td>\n",
       "      <td>440</td>\n",
       "      <td>425</td>\n",
       "      <td>401</td>\n",
       "      <td>382</td>\n",
       "      <td>350</td>\n",
       "      <td>...</td>\n",
       "      <td>455</td>\n",
       "      <td>412</td>\n",
       "      <td>380</td>\n",
       "      <td>490</td>\n",
       "      <td>408</td>\n",
       "      <td>426</td>\n",
       "      <td>424</td>\n",
       "      <td>418</td>\n",
       "      <td>428</td>\n",
       "      <td>395</td>\n",
       "    </tr>\n",
       "    <tr>\n",
       "      <th>3</th>\n",
       "      <td>Continuing businesses 5</td>\n",
       "      <td>9,017</td>\n",
       "      <td>9,172</td>\n",
       "      <td>9,215</td>\n",
       "      <td>9,294</td>\n",
       "      <td>9,394</td>\n",
       "      <td>9,455</td>\n",
       "      <td>9,515</td>\n",
       "      <td>9,507</td>\n",
       "      <td>9,502</td>\n",
       "      <td>...</td>\n",
       "      <td>10,155</td>\n",
       "      <td>10,218</td>\n",
       "      <td>10,282</td>\n",
       "      <td>10,252</td>\n",
       "      <td>10,287</td>\n",
       "      <td>10,288</td>\n",
       "      <td>10,336</td>\n",
       "      <td>10,345</td>\n",
       "      <td>10,338</td>\n",
       "      <td>10,458</td>\n",
       "    </tr>\n",
       "    <tr>\n",
       "      <th>4</th>\n",
       "      <td>Closing businesses</td>\n",
       "      <td>306</td>\n",
       "      <td>303</td>\n",
       "      <td>380</td>\n",
       "      <td>321</td>\n",
       "      <td>337</td>\n",
       "      <td>352</td>\n",
       "      <td>353</td>\n",
       "      <td>392</td>\n",
       "      <td>394</td>\n",
       "      <td>...</td>\n",
       "      <td>396</td>\n",
       "      <td>399</td>\n",
       "      <td>331</td>\n",
       "      <td>432</td>\n",
       "      <td>440</td>\n",
       "      <td>430</td>\n",
       "      <td>423</td>\n",
       "      <td>414</td>\n",
       "      <td>408</td>\n",
       "      <td>329</td>\n",
       "    </tr>\n",
       "  </tbody>\n",
       "</table>\n",
       "<p>5 rows × 30 columns</p>\n",
       "</div>"
      ],
      "text/plain": [
       "  Business dynamics measure September 2020 October 2020 November 2020  \\\n",
       "0                       NaN            NaN          NaN           NaN   \n",
       "1       Active businesses 3          9,488        9,566         9,629   \n",
       "2      Opening businesses 4            454          434           455   \n",
       "3   Continuing businesses 5          9,017        9,172         9,215   \n",
       "4        Closing businesses            306          303           380   \n",
       "\n",
       "  December 2020 January 2021 February 2021 March 2021 April 2021 May 2021  \\\n",
       "0           NaN          NaN           NaN        NaN        NaN      NaN   \n",
       "1         9,724        9,815         9,867      9,915      9,909    9,866   \n",
       "2           438          440           425        401        382      350   \n",
       "3         9,294        9,394         9,455      9,515      9,507    9,502   \n",
       "4           321          337           352        353        392      394   \n",
       "\n",
       "   ... April 2022 May 2022 June 2022 July 2022 August 2022 September 2022  \\\n",
       "0  ...        NaN      NaN       NaN       NaN         NaN            NaN   \n",
       "1  ...     10,633   10,647    10,695    10,709      10,701         10,722   \n",
       "2  ...        455      412       380       490         408            426   \n",
       "3  ...     10,155   10,218    10,282    10,252      10,287         10,288   \n",
       "4  ...        396      399       331       432         440            430   \n",
       "\n",
       "  October 2022 November 2022 December 2022 January 2023  \n",
       "0          NaN           NaN           NaN          NaN  \n",
       "1       10,723        10,737        10,758       10,815  \n",
       "2          424           418           428          395  \n",
       "3       10,336        10,345        10,338       10,458  \n",
       "4          423           414           408          329  \n",
       "\n",
       "[5 rows x 30 columns]"
      ]
     },
     "execution_count": 23,
     "metadata": {},
     "output_type": "execute_result"
    }
   ],
   "source": [
    "EBOC_path = '/Users/gawain/Desktop/6.Real-time Local Business Condition Index/Estimates for business openings and closures/Business sector industries/Halifax - NS/3310027001-cleaned.csv'\n",
    "EBOC_df = pd.read_csv(EBOC_path)\n",
    "EBOC_df.head()"
   ]
  },
  {
   "cell_type": "code",
   "execution_count": 24,
   "metadata": {},
   "outputs": [
    {
     "data": {
      "text/html": [
       "<div>\n",
       "<style scoped>\n",
       "    .dataframe tbody tr th:only-of-type {\n",
       "        vertical-align: middle;\n",
       "    }\n",
       "\n",
       "    .dataframe tbody tr th {\n",
       "        vertical-align: top;\n",
       "    }\n",
       "\n",
       "    .dataframe thead th {\n",
       "        text-align: right;\n",
       "    }\n",
       "</style>\n",
       "<table border=\"1\" class=\"dataframe\">\n",
       "  <thead>\n",
       "    <tr style=\"text-align: right;\">\n",
       "      <th></th>\n",
       "      <th>Date</th>\n",
       "      <th>Value</th>\n",
       "    </tr>\n",
       "  </thead>\n",
       "  <tbody>\n",
       "    <tr>\n",
       "      <th>0</th>\n",
       "      <td>2020-09-01</td>\n",
       "      <td>9017.0</td>\n",
       "    </tr>\n",
       "    <tr>\n",
       "      <th>1</th>\n",
       "      <td>2020-10-01</td>\n",
       "      <td>9172.0</td>\n",
       "    </tr>\n",
       "    <tr>\n",
       "      <th>2</th>\n",
       "      <td>2020-11-01</td>\n",
       "      <td>9215.0</td>\n",
       "    </tr>\n",
       "    <tr>\n",
       "      <th>3</th>\n",
       "      <td>2020-12-01</td>\n",
       "      <td>9294.0</td>\n",
       "    </tr>\n",
       "    <tr>\n",
       "      <th>4</th>\n",
       "      <td>2021-01-01</td>\n",
       "      <td>9394.0</td>\n",
       "    </tr>\n",
       "  </tbody>\n",
       "</table>\n",
       "</div>"
      ],
      "text/plain": [
       "        Date   Value\n",
       "0 2020-09-01  9017.0\n",
       "1 2020-10-01  9172.0\n",
       "2 2020-11-01  9215.0\n",
       "3 2020-12-01  9294.0\n",
       "4 2021-01-01  9394.0"
      ]
     },
     "execution_count": 24,
     "metadata": {},
     "output_type": "execute_result"
    }
   ],
   "source": [
    "# I will take the contuning business as the example\n",
    "EBOC_continuing = EBOC_df[EBOC_df['Business dynamics measure'] == 'Continuing businesses 5']\n",
    "EBOC_continuing = convert_combined(EBOC_continuing)\n",
    "\n",
    "EBOC_continuing.head()"
   ]
  },
  {
   "cell_type": "code",
   "execution_count": 26,
   "metadata": {},
   "outputs": [
    {
     "data": {
      "text/html": [
       "<div>\n",
       "<style scoped>\n",
       "    .dataframe tbody tr th:only-of-type {\n",
       "        vertical-align: middle;\n",
       "    }\n",
       "\n",
       "    .dataframe tbody tr th {\n",
       "        vertical-align: top;\n",
       "    }\n",
       "\n",
       "    .dataframe thead th {\n",
       "        text-align: right;\n",
       "    }\n",
       "</style>\n",
       "<table border=\"1\" class=\"dataframe\">\n",
       "  <thead>\n",
       "    <tr style=\"text-align: right;\">\n",
       "      <th></th>\n",
       "      <th>Date</th>\n",
       "      <th>RT_LBCI_monthly</th>\n",
       "      <th>Unemployment Rate</th>\n",
       "      <th>Electricity generation</th>\n",
       "      <th>CPI</th>\n",
       "      <th>Continuing businesses</th>\n",
       "    </tr>\n",
       "  </thead>\n",
       "  <tbody>\n",
       "    <tr>\n",
       "      <th>0</th>\n",
       "      <td>2020-09-01</td>\n",
       "      <td>107.7150</td>\n",
       "      <td>8.7</td>\n",
       "      <td>646301.0</td>\n",
       "      <td>137.5</td>\n",
       "      <td>9017.0</td>\n",
       "    </tr>\n",
       "    <tr>\n",
       "      <th>1</th>\n",
       "      <td>2020-10-01</td>\n",
       "      <td>130.6950</td>\n",
       "      <td>7.7</td>\n",
       "      <td>671220.0</td>\n",
       "      <td>138.4</td>\n",
       "      <td>9172.0</td>\n",
       "    </tr>\n",
       "    <tr>\n",
       "      <th>2</th>\n",
       "      <td>2020-11-01</td>\n",
       "      <td>150.7020</td>\n",
       "      <td>6.3</td>\n",
       "      <td>722094.0</td>\n",
       "      <td>138.7</td>\n",
       "      <td>9215.0</td>\n",
       "    </tr>\n",
       "    <tr>\n",
       "      <th>3</th>\n",
       "      <td>2020-12-01</td>\n",
       "      <td>167.8600</td>\n",
       "      <td>7.0</td>\n",
       "      <td>829737.0</td>\n",
       "      <td>138.7</td>\n",
       "      <td>9294.0</td>\n",
       "    </tr>\n",
       "    <tr>\n",
       "      <th>4</th>\n",
       "      <td>2021-01-01</td>\n",
       "      <td>153.1375</td>\n",
       "      <td>7.5</td>\n",
       "      <td>980708.0</td>\n",
       "      <td>140.3</td>\n",
       "      <td>9394.0</td>\n",
       "    </tr>\n",
       "  </tbody>\n",
       "</table>\n",
       "</div>"
      ],
      "text/plain": [
       "        Date  RT_LBCI_monthly  Unemployment Rate  Electricity generation  \\\n",
       "0 2020-09-01         107.7150                8.7                646301.0   \n",
       "1 2020-10-01         130.6950                7.7                671220.0   \n",
       "2 2020-11-01         150.7020                6.3                722094.0   \n",
       "3 2020-12-01         167.8600                7.0                829737.0   \n",
       "4 2021-01-01         153.1375                7.5                980708.0   \n",
       "\n",
       "     CPI  Continuing businesses  \n",
       "0  137.5                 9017.0  \n",
       "1  138.4                 9172.0  \n",
       "2  138.7                 9215.0  \n",
       "3  138.7                 9294.0  \n",
       "4  140.3                 9394.0  "
      ]
     },
     "execution_count": 26,
     "metadata": {},
     "output_type": "execute_result"
    }
   ],
   "source": [
    "Halifax_df_combined = pd.merge(Halifax_df_combined, EBOC_continuing, on='Date')\n",
    "Halifax_df_combined = Halifax_df_combined.rename(columns={'Value': 'Continuing businesses'})\n",
    "Halifax_df_combined.head()"
   ]
  },
  {
   "attachments": {},
   "cell_type": "markdown",
   "metadata": {},
   "source": [
    "# Plotly"
   ]
  },
  {
   "cell_type": "code",
   "execution_count": 33,
   "metadata": {},
   "outputs": [
    {
     "data": {
      "application/vnd.plotly.v1+json": {
       "config": {
        "plotlyServerURL": "https://plot.ly"
       },
       "data": [
        {
         "line": {
          "color": "blue"
         },
         "name": "RT_LBCI_monthly",
         "type": "scatter",
         "x": [
          "2020-09-01T00:00:00",
          "2020-10-01T00:00:00",
          "2020-11-01T00:00:00",
          "2020-12-01T00:00:00",
          "2021-01-01T00:00:00",
          "2021-02-01T00:00:00",
          "2021-03-01T00:00:00",
          "2021-04-01T00:00:00",
          "2021-05-01T00:00:00",
          "2021-06-01T00:00:00",
          "2021-07-01T00:00:00",
          "2021-08-01T00:00:00",
          "2021-09-01T00:00:00",
          "2021-10-01T00:00:00",
          "2021-11-01T00:00:00",
          "2021-12-01T00:00:00",
          "2022-01-01T00:00:00",
          "2022-02-01T00:00:00",
          "2022-03-01T00:00:00",
          "2022-04-01T00:00:00",
          "2022-05-01T00:00:00",
          "2022-06-01T00:00:00",
          "2022-07-01T00:00:00",
          "2022-08-01T00:00:00",
          "2022-09-01T00:00:00",
          "2022-10-01T00:00:00",
          "2022-11-01T00:00:00",
          "2022-12-01T00:00:00",
          "2023-01-01T00:00:00"
         ],
         "y": [
          107.715,
          130.695,
          150.702,
          167.85999999999999,
          153.1375,
          111.2725,
          136.98,
          129.57750000000001,
          175.32999999999998,
          187.14499999999998,
          181.7125,
          189.44400000000002,
          201.675,
          191.62,
          195.1,
          184.2575,
          158.82,
          135.9275,
          161.0875,
          167.54500000000002,
          271.938,
          278.21500000000003,
          253.1275,
          266.354,
          251.34,
          241.71999999999997,
          282.03499999999997,
          280.4625,
          254.036
         ]
        },
        {
         "line": {
          "color": "red"
         },
         "name": "Unemployment Rate",
         "type": "scatter",
         "x": [
          "2020-09-01T00:00:00",
          "2020-10-01T00:00:00",
          "2020-11-01T00:00:00",
          "2020-12-01T00:00:00",
          "2021-01-01T00:00:00",
          "2021-02-01T00:00:00",
          "2021-03-01T00:00:00",
          "2021-04-01T00:00:00",
          "2021-05-01T00:00:00",
          "2021-06-01T00:00:00",
          "2021-07-01T00:00:00",
          "2021-08-01T00:00:00",
          "2021-09-01T00:00:00",
          "2021-10-01T00:00:00",
          "2021-11-01T00:00:00",
          "2021-12-01T00:00:00",
          "2022-01-01T00:00:00",
          "2022-02-01T00:00:00",
          "2022-03-01T00:00:00",
          "2022-04-01T00:00:00",
          "2022-05-01T00:00:00",
          "2022-06-01T00:00:00",
          "2022-07-01T00:00:00",
          "2022-08-01T00:00:00",
          "2022-09-01T00:00:00",
          "2022-10-01T00:00:00",
          "2022-11-01T00:00:00",
          "2022-12-01T00:00:00",
          "2023-01-01T00:00:00"
         ],
         "y": [
          8.7,
          7.7,
          6.3,
          7,
          7.5,
          8.5,
          8.8,
          8.6,
          9.4,
          9,
          8.7,
          7.4,
          6.8,
          6.1,
          5.7,
          5.5,
          5.7,
          5.6,
          5.7,
          5.1,
          4.7,
          4.3,
          4.8,
          5.4,
          5.3,
          5.3,
          4.6,
          4.6,
          4.2
         ],
         "yaxis": "y2"
        },
        {
         "line": {
          "color": "green"
         },
         "name": "Electricity generation",
         "type": "scatter",
         "x": [
          "2020-09-01T00:00:00",
          "2020-10-01T00:00:00",
          "2020-11-01T00:00:00",
          "2020-12-01T00:00:00",
          "2021-01-01T00:00:00",
          "2021-02-01T00:00:00",
          "2021-03-01T00:00:00",
          "2021-04-01T00:00:00",
          "2021-05-01T00:00:00",
          "2021-06-01T00:00:00",
          "2021-07-01T00:00:00",
          "2021-08-01T00:00:00",
          "2021-09-01T00:00:00",
          "2021-10-01T00:00:00",
          "2021-11-01T00:00:00",
          "2021-12-01T00:00:00",
          "2022-01-01T00:00:00",
          "2022-02-01T00:00:00",
          "2022-03-01T00:00:00",
          "2022-04-01T00:00:00",
          "2022-05-01T00:00:00",
          "2022-06-01T00:00:00",
          "2022-07-01T00:00:00",
          "2022-08-01T00:00:00",
          "2022-09-01T00:00:00",
          "2022-10-01T00:00:00",
          "2022-11-01T00:00:00",
          "2022-12-01T00:00:00",
          "2023-01-01T00:00:00"
         ],
         "y": [
          646301,
          671220,
          722094,
          829737,
          980708,
          925651,
          933791,
          681770,
          655406,
          595561,
          668025,
          699742,
          595063,
          713242,
          755955,
          909868,
          1061577,
          913361,
          919351,
          716936,
          658776,
          611797,
          667861,
          694314,
          578522,
          590762,
          663184,
          905752,
          950984
         ],
         "yaxis": "y3"
        },
        {
         "line": {
          "color": "purple"
         },
         "name": "CPI",
         "type": "scatter",
         "x": [
          "2020-09-01T00:00:00",
          "2020-10-01T00:00:00",
          "2020-11-01T00:00:00",
          "2020-12-01T00:00:00",
          "2021-01-01T00:00:00",
          "2021-02-01T00:00:00",
          "2021-03-01T00:00:00",
          "2021-04-01T00:00:00",
          "2021-05-01T00:00:00",
          "2021-06-01T00:00:00",
          "2021-07-01T00:00:00",
          "2021-08-01T00:00:00",
          "2021-09-01T00:00:00",
          "2021-10-01T00:00:00",
          "2021-11-01T00:00:00",
          "2021-12-01T00:00:00",
          "2022-01-01T00:00:00",
          "2022-02-01T00:00:00",
          "2022-03-01T00:00:00",
          "2022-04-01T00:00:00",
          "2022-05-01T00:00:00",
          "2022-06-01T00:00:00",
          "2022-07-01T00:00:00",
          "2022-08-01T00:00:00",
          "2022-09-01T00:00:00",
          "2022-10-01T00:00:00",
          "2022-11-01T00:00:00",
          "2022-12-01T00:00:00",
          "2023-01-01T00:00:00"
         ],
         "y": [
          137.5,
          138.4,
          138.7,
          138.7,
          140.3,
          140.8,
          141.8,
          142.3,
          143.1,
          143.2,
          144.2,
          144.5,
          144.6,
          145.9,
          146,
          145.4,
          147.2,
          148.8,
          151.4,
          152.4,
          155.7,
          156.5,
          156.7,
          155.7,
          155.2,
          157.1,
          158.5,
          156.4,
          157.3
         ],
         "yaxis": "y4"
        },
        {
         "line": {
          "color": "orange"
         },
         "name": "Continuing businesses",
         "type": "scatter",
         "x": [
          "2020-09-01T00:00:00",
          "2020-10-01T00:00:00",
          "2020-11-01T00:00:00",
          "2020-12-01T00:00:00",
          "2021-01-01T00:00:00",
          "2021-02-01T00:00:00",
          "2021-03-01T00:00:00",
          "2021-04-01T00:00:00",
          "2021-05-01T00:00:00",
          "2021-06-01T00:00:00",
          "2021-07-01T00:00:00",
          "2021-08-01T00:00:00",
          "2021-09-01T00:00:00",
          "2021-10-01T00:00:00",
          "2021-11-01T00:00:00",
          "2021-12-01T00:00:00",
          "2022-01-01T00:00:00",
          "2022-02-01T00:00:00",
          "2022-03-01T00:00:00",
          "2022-04-01T00:00:00",
          "2022-05-01T00:00:00",
          "2022-06-01T00:00:00",
          "2022-07-01T00:00:00",
          "2022-08-01T00:00:00",
          "2022-09-01T00:00:00",
          "2022-10-01T00:00:00",
          "2022-11-01T00:00:00",
          "2022-12-01T00:00:00",
          "2023-01-01T00:00:00"
         ],
         "y": [
          9017,
          9172,
          9215,
          9294,
          9394,
          9455,
          9515,
          9507,
          9502,
          9451,
          9577,
          9598,
          9640,
          9632,
          9685,
          9685,
          9688,
          10056,
          10090,
          10155,
          10218,
          10282,
          10252,
          10287,
          10288,
          10336,
          10345,
          10338,
          10458
         ],
         "yaxis": "y5"
        }
       ],
       "layout": {
        "showlegend": true,
        "template": {
         "data": {
          "bar": [
           {
            "error_x": {
             "color": "#2a3f5f"
            },
            "error_y": {
             "color": "#2a3f5f"
            },
            "marker": {
             "line": {
              "color": "#E5ECF6",
              "width": 0.5
             },
             "pattern": {
              "fillmode": "overlay",
              "size": 10,
              "solidity": 0.2
             }
            },
            "type": "bar"
           }
          ],
          "barpolar": [
           {
            "marker": {
             "line": {
              "color": "#E5ECF6",
              "width": 0.5
             },
             "pattern": {
              "fillmode": "overlay",
              "size": 10,
              "solidity": 0.2
             }
            },
            "type": "barpolar"
           }
          ],
          "carpet": [
           {
            "aaxis": {
             "endlinecolor": "#2a3f5f",
             "gridcolor": "white",
             "linecolor": "white",
             "minorgridcolor": "white",
             "startlinecolor": "#2a3f5f"
            },
            "baxis": {
             "endlinecolor": "#2a3f5f",
             "gridcolor": "white",
             "linecolor": "white",
             "minorgridcolor": "white",
             "startlinecolor": "#2a3f5f"
            },
            "type": "carpet"
           }
          ],
          "choropleth": [
           {
            "colorbar": {
             "outlinewidth": 0,
             "ticks": ""
            },
            "type": "choropleth"
           }
          ],
          "contour": [
           {
            "colorbar": {
             "outlinewidth": 0,
             "ticks": ""
            },
            "colorscale": [
             [
              0,
              "#0d0887"
             ],
             [
              0.1111111111111111,
              "#46039f"
             ],
             [
              0.2222222222222222,
              "#7201a8"
             ],
             [
              0.3333333333333333,
              "#9c179e"
             ],
             [
              0.4444444444444444,
              "#bd3786"
             ],
             [
              0.5555555555555556,
              "#d8576b"
             ],
             [
              0.6666666666666666,
              "#ed7953"
             ],
             [
              0.7777777777777778,
              "#fb9f3a"
             ],
             [
              0.8888888888888888,
              "#fdca26"
             ],
             [
              1,
              "#f0f921"
             ]
            ],
            "type": "contour"
           }
          ],
          "contourcarpet": [
           {
            "colorbar": {
             "outlinewidth": 0,
             "ticks": ""
            },
            "type": "contourcarpet"
           }
          ],
          "heatmap": [
           {
            "colorbar": {
             "outlinewidth": 0,
             "ticks": ""
            },
            "colorscale": [
             [
              0,
              "#0d0887"
             ],
             [
              0.1111111111111111,
              "#46039f"
             ],
             [
              0.2222222222222222,
              "#7201a8"
             ],
             [
              0.3333333333333333,
              "#9c179e"
             ],
             [
              0.4444444444444444,
              "#bd3786"
             ],
             [
              0.5555555555555556,
              "#d8576b"
             ],
             [
              0.6666666666666666,
              "#ed7953"
             ],
             [
              0.7777777777777778,
              "#fb9f3a"
             ],
             [
              0.8888888888888888,
              "#fdca26"
             ],
             [
              1,
              "#f0f921"
             ]
            ],
            "type": "heatmap"
           }
          ],
          "heatmapgl": [
           {
            "colorbar": {
             "outlinewidth": 0,
             "ticks": ""
            },
            "colorscale": [
             [
              0,
              "#0d0887"
             ],
             [
              0.1111111111111111,
              "#46039f"
             ],
             [
              0.2222222222222222,
              "#7201a8"
             ],
             [
              0.3333333333333333,
              "#9c179e"
             ],
             [
              0.4444444444444444,
              "#bd3786"
             ],
             [
              0.5555555555555556,
              "#d8576b"
             ],
             [
              0.6666666666666666,
              "#ed7953"
             ],
             [
              0.7777777777777778,
              "#fb9f3a"
             ],
             [
              0.8888888888888888,
              "#fdca26"
             ],
             [
              1,
              "#f0f921"
             ]
            ],
            "type": "heatmapgl"
           }
          ],
          "histogram": [
           {
            "marker": {
             "pattern": {
              "fillmode": "overlay",
              "size": 10,
              "solidity": 0.2
             }
            },
            "type": "histogram"
           }
          ],
          "histogram2d": [
           {
            "colorbar": {
             "outlinewidth": 0,
             "ticks": ""
            },
            "colorscale": [
             [
              0,
              "#0d0887"
             ],
             [
              0.1111111111111111,
              "#46039f"
             ],
             [
              0.2222222222222222,
              "#7201a8"
             ],
             [
              0.3333333333333333,
              "#9c179e"
             ],
             [
              0.4444444444444444,
              "#bd3786"
             ],
             [
              0.5555555555555556,
              "#d8576b"
             ],
             [
              0.6666666666666666,
              "#ed7953"
             ],
             [
              0.7777777777777778,
              "#fb9f3a"
             ],
             [
              0.8888888888888888,
              "#fdca26"
             ],
             [
              1,
              "#f0f921"
             ]
            ],
            "type": "histogram2d"
           }
          ],
          "histogram2dcontour": [
           {
            "colorbar": {
             "outlinewidth": 0,
             "ticks": ""
            },
            "colorscale": [
             [
              0,
              "#0d0887"
             ],
             [
              0.1111111111111111,
              "#46039f"
             ],
             [
              0.2222222222222222,
              "#7201a8"
             ],
             [
              0.3333333333333333,
              "#9c179e"
             ],
             [
              0.4444444444444444,
              "#bd3786"
             ],
             [
              0.5555555555555556,
              "#d8576b"
             ],
             [
              0.6666666666666666,
              "#ed7953"
             ],
             [
              0.7777777777777778,
              "#fb9f3a"
             ],
             [
              0.8888888888888888,
              "#fdca26"
             ],
             [
              1,
              "#f0f921"
             ]
            ],
            "type": "histogram2dcontour"
           }
          ],
          "mesh3d": [
           {
            "colorbar": {
             "outlinewidth": 0,
             "ticks": ""
            },
            "type": "mesh3d"
           }
          ],
          "parcoords": [
           {
            "line": {
             "colorbar": {
              "outlinewidth": 0,
              "ticks": ""
             }
            },
            "type": "parcoords"
           }
          ],
          "pie": [
           {
            "automargin": true,
            "type": "pie"
           }
          ],
          "scatter": [
           {
            "fillpattern": {
             "fillmode": "overlay",
             "size": 10,
             "solidity": 0.2
            },
            "type": "scatter"
           }
          ],
          "scatter3d": [
           {
            "line": {
             "colorbar": {
              "outlinewidth": 0,
              "ticks": ""
             }
            },
            "marker": {
             "colorbar": {
              "outlinewidth": 0,
              "ticks": ""
             }
            },
            "type": "scatter3d"
           }
          ],
          "scattercarpet": [
           {
            "marker": {
             "colorbar": {
              "outlinewidth": 0,
              "ticks": ""
             }
            },
            "type": "scattercarpet"
           }
          ],
          "scattergeo": [
           {
            "marker": {
             "colorbar": {
              "outlinewidth": 0,
              "ticks": ""
             }
            },
            "type": "scattergeo"
           }
          ],
          "scattergl": [
           {
            "marker": {
             "colorbar": {
              "outlinewidth": 0,
              "ticks": ""
             }
            },
            "type": "scattergl"
           }
          ],
          "scattermapbox": [
           {
            "marker": {
             "colorbar": {
              "outlinewidth": 0,
              "ticks": ""
             }
            },
            "type": "scattermapbox"
           }
          ],
          "scatterpolar": [
           {
            "marker": {
             "colorbar": {
              "outlinewidth": 0,
              "ticks": ""
             }
            },
            "type": "scatterpolar"
           }
          ],
          "scatterpolargl": [
           {
            "marker": {
             "colorbar": {
              "outlinewidth": 0,
              "ticks": ""
             }
            },
            "type": "scatterpolargl"
           }
          ],
          "scatterternary": [
           {
            "marker": {
             "colorbar": {
              "outlinewidth": 0,
              "ticks": ""
             }
            },
            "type": "scatterternary"
           }
          ],
          "surface": [
           {
            "colorbar": {
             "outlinewidth": 0,
             "ticks": ""
            },
            "colorscale": [
             [
              0,
              "#0d0887"
             ],
             [
              0.1111111111111111,
              "#46039f"
             ],
             [
              0.2222222222222222,
              "#7201a8"
             ],
             [
              0.3333333333333333,
              "#9c179e"
             ],
             [
              0.4444444444444444,
              "#bd3786"
             ],
             [
              0.5555555555555556,
              "#d8576b"
             ],
             [
              0.6666666666666666,
              "#ed7953"
             ],
             [
              0.7777777777777778,
              "#fb9f3a"
             ],
             [
              0.8888888888888888,
              "#fdca26"
             ],
             [
              1,
              "#f0f921"
             ]
            ],
            "type": "surface"
           }
          ],
          "table": [
           {
            "cells": {
             "fill": {
              "color": "#EBF0F8"
             },
             "line": {
              "color": "white"
             }
            },
            "header": {
             "fill": {
              "color": "#C8D4E3"
             },
             "line": {
              "color": "white"
             }
            },
            "type": "table"
           }
          ]
         },
         "layout": {
          "annotationdefaults": {
           "arrowcolor": "#2a3f5f",
           "arrowhead": 0,
           "arrowwidth": 1
          },
          "autotypenumbers": "strict",
          "coloraxis": {
           "colorbar": {
            "outlinewidth": 0,
            "ticks": ""
           }
          },
          "colorscale": {
           "diverging": [
            [
             0,
             "#8e0152"
            ],
            [
             0.1,
             "#c51b7d"
            ],
            [
             0.2,
             "#de77ae"
            ],
            [
             0.3,
             "#f1b6da"
            ],
            [
             0.4,
             "#fde0ef"
            ],
            [
             0.5,
             "#f7f7f7"
            ],
            [
             0.6,
             "#e6f5d0"
            ],
            [
             0.7,
             "#b8e186"
            ],
            [
             0.8,
             "#7fbc41"
            ],
            [
             0.9,
             "#4d9221"
            ],
            [
             1,
             "#276419"
            ]
           ],
           "sequential": [
            [
             0,
             "#0d0887"
            ],
            [
             0.1111111111111111,
             "#46039f"
            ],
            [
             0.2222222222222222,
             "#7201a8"
            ],
            [
             0.3333333333333333,
             "#9c179e"
            ],
            [
             0.4444444444444444,
             "#bd3786"
            ],
            [
             0.5555555555555556,
             "#d8576b"
            ],
            [
             0.6666666666666666,
             "#ed7953"
            ],
            [
             0.7777777777777778,
             "#fb9f3a"
            ],
            [
             0.8888888888888888,
             "#fdca26"
            ],
            [
             1,
             "#f0f921"
            ]
           ],
           "sequentialminus": [
            [
             0,
             "#0d0887"
            ],
            [
             0.1111111111111111,
             "#46039f"
            ],
            [
             0.2222222222222222,
             "#7201a8"
            ],
            [
             0.3333333333333333,
             "#9c179e"
            ],
            [
             0.4444444444444444,
             "#bd3786"
            ],
            [
             0.5555555555555556,
             "#d8576b"
            ],
            [
             0.6666666666666666,
             "#ed7953"
            ],
            [
             0.7777777777777778,
             "#fb9f3a"
            ],
            [
             0.8888888888888888,
             "#fdca26"
            ],
            [
             1,
             "#f0f921"
            ]
           ]
          },
          "colorway": [
           "#636efa",
           "#EF553B",
           "#00cc96",
           "#ab63fa",
           "#FFA15A",
           "#19d3f3",
           "#FF6692",
           "#B6E880",
           "#FF97FF",
           "#FECB52"
          ],
          "font": {
           "color": "#2a3f5f"
          },
          "geo": {
           "bgcolor": "white",
           "lakecolor": "white",
           "landcolor": "#E5ECF6",
           "showlakes": true,
           "showland": true,
           "subunitcolor": "white"
          },
          "hoverlabel": {
           "align": "left"
          },
          "hovermode": "closest",
          "mapbox": {
           "style": "light"
          },
          "paper_bgcolor": "white",
          "plot_bgcolor": "#E5ECF6",
          "polar": {
           "angularaxis": {
            "gridcolor": "white",
            "linecolor": "white",
            "ticks": ""
           },
           "bgcolor": "#E5ECF6",
           "radialaxis": {
            "gridcolor": "white",
            "linecolor": "white",
            "ticks": ""
           }
          },
          "scene": {
           "xaxis": {
            "backgroundcolor": "#E5ECF6",
            "gridcolor": "white",
            "gridwidth": 2,
            "linecolor": "white",
            "showbackground": true,
            "ticks": "",
            "zerolinecolor": "white"
           },
           "yaxis": {
            "backgroundcolor": "#E5ECF6",
            "gridcolor": "white",
            "gridwidth": 2,
            "linecolor": "white",
            "showbackground": true,
            "ticks": "",
            "zerolinecolor": "white"
           },
           "zaxis": {
            "backgroundcolor": "#E5ECF6",
            "gridcolor": "white",
            "gridwidth": 2,
            "linecolor": "white",
            "showbackground": true,
            "ticks": "",
            "zerolinecolor": "white"
           }
          },
          "shapedefaults": {
           "line": {
            "color": "#2a3f5f"
           }
          },
          "ternary": {
           "aaxis": {
            "gridcolor": "white",
            "linecolor": "white",
            "ticks": ""
           },
           "baxis": {
            "gridcolor": "white",
            "linecolor": "white",
            "ticks": ""
           },
           "bgcolor": "#E5ECF6",
           "caxis": {
            "gridcolor": "white",
            "linecolor": "white",
            "ticks": ""
           }
          },
          "title": {
           "x": 0.05
          },
          "xaxis": {
           "automargin": true,
           "gridcolor": "white",
           "linecolor": "white",
           "ticks": "",
           "title": {
            "standoff": 15
           },
           "zerolinecolor": "white",
           "zerolinewidth": 2
          },
          "yaxis": {
           "automargin": true,
           "gridcolor": "white",
           "linecolor": "white",
           "ticks": "",
           "title": {
            "standoff": 15
           },
           "zerolinecolor": "white",
           "zerolinewidth": 2
          }
         }
        },
        "xaxis": {
         "domain": [
          0.1,
          0.9
         ],
         "gridcolor": "LightGrey",
         "gridwidth": 1,
         "showgrid": true
        },
        "yaxis": {
         "gridcolor": "LightGrey",
         "gridwidth": 1,
         "showgrid": false,
         "tickfont": {
          "color": "blue"
         },
         "title": {
          "font": {
           "color": "blue"
          },
          "text": "RT_LBCI_monthly"
         },
         "zeroline": true
        },
        "yaxis2": {
         "anchor": "free",
         "gridcolor": "LightGrey",
         "gridwidth": 1,
         "overlaying": "y",
         "position": 1,
         "showgrid": false,
         "side": "right",
         "tickfont": {
          "color": "red"
         },
         "title": {
          "font": {
           "color": "red"
          },
          "text": "Unemployment Rate"
         },
         "zeroline": true
        },
        "yaxis3": {
         "anchor": "free",
         "gridcolor": "LightGrey",
         "gridwidth": 1,
         "overlaying": "y",
         "position": 0.9,
         "showgrid": false,
         "side": "right",
         "tickfont": {
          "color": "green"
         },
         "title": {
          "font": {
           "color": "green"
          },
          "text": "Electricity generation"
         },
         "zeroline": true
        },
        "yaxis4": {
         "anchor": "free",
         "gridcolor": "LightGrey",
         "gridwidth": 1,
         "overlaying": "y",
         "position": 0.8,
         "showgrid": false,
         "side": "right",
         "tickfont": {
          "color": "purple"
         },
         "title": {
          "font": {
           "color": "purple"
          },
          "text": "CPI"
         },
         "zeroline": true
        },
        "yaxis5": {
         "anchor": "free",
         "gridcolor": "LightGrey",
         "gridwidth": 1,
         "overlaying": "y",
         "position": 0.7,
         "showgrid": false,
         "side": "right",
         "tickfont": {
          "color": "orange"
         },
         "title": {
          "font": {
           "color": "orange"
          },
          "text": "Continuing businesses"
         },
         "zeroline": true
        }
       }
      }
     },
     "metadata": {},
     "output_type": "display_data"
    }
   ],
   "source": [
    "# Halifax_df_combined = pd.DataFrame(data)\n",
    "Halifax_df_combined['Date'] = pd.to_datetime(Halifax_df_combined['Date'])\n",
    "\n",
    "# Create the plot with Plotly\n",
    "fig = go.Figure()\n",
    "\n",
    "# Add RT_LBCI_monthly trace\n",
    "fig.add_trace(go.Scatter(x=Halifax_df_combined['Date'],\n",
    "                              y=Halifax_df_combined['RT_LBCI_monthly'],\n",
    "                              name='RT_LBCI_monthly',\n",
    "                              line=dict(color='blue')))\n",
    "\n",
    "# Add Unemployment Rate trace\n",
    "fig.add_trace(go.Scatter(x=Halifax_df_combined['Date'],\n",
    "                              y=Halifax_df_combined['Unemployment Rate'],\n",
    "                              name='Unemployment Rate',\n",
    "                              line=dict(color='red'),\n",
    "                              yaxis='y2'))\n",
    "\n",
    "# Add Electricity generation trace\n",
    "fig.add_trace(go.Scatter(x=Halifax_df_combined['Date'],\n",
    "                              y=Halifax_df_combined['Electricity generation'],\n",
    "                              name='Electricity generation',\n",
    "                              line=dict(color='green'),\n",
    "                              yaxis='y3'))\n",
    "\n",
    "# Add CPI trace\n",
    "fig.add_trace(go.Scatter(x=Halifax_df_combined['Date'],\n",
    "                              y=Halifax_df_combined['CPI'],\n",
    "                              name='CPI',\n",
    "                              line=dict(color='purple'),\n",
    "                              yaxis='y4'))\n",
    "\n",
    "# Add Continuing businesses trace\n",
    "fig.add_trace(go.Scatter(x=Halifax_df_combined['Date'],\n",
    "                              y=Halifax_df_combined['Continuing businesses'],\n",
    "                              name='Continuing businesses',\n",
    "                              line=dict(color='orange'),\n",
    "                              yaxis='y5'))\n",
    "\n",
    "# Update the layout\n",
    "fig.update_layout(\n",
    "      xaxis=dict(domain=[0.1, 0.9]),\n",
    "      yaxis=dict(title='RT_LBCI_monthly', titlefont=dict(color='blue'), tickfont=dict(color='blue')),\n",
    "      yaxis2=dict(title='Unemployment Rate', titlefont=dict(color='red'), tickfont=dict(color='red'), anchor='free', overlaying='y', side='right', position=1),\n",
    "      yaxis3=dict(title='Electricity generation', titlefont=dict(color='green'), tickfont=dict(color='green'), anchor='free', overlaying='y', side='right', position=0.9),\n",
    "      yaxis4=dict(title='CPI', titlefont=dict(color='purple'), tickfont=dict(color='purple'), anchor='free', overlaying='y', side='right', position=0.8),\n",
    "      yaxis5=dict(title='Continuing businesses', titlefont=dict(color='orange'), tickfont=dict(color='orange'), anchor='free', overlaying='y', side='right', position=0.7),\n",
    "      showlegend=True,\n",
    ")\n",
    "\n",
    "# Update x-axis grid lines\n",
    "fig.update_xaxes(showgrid=True, gridwidth=1, gridcolor='LightGrey')\n",
    "\n",
    "# Update y-axis grid lines\n",
    "fig.update_yaxes(showgrid=False, gridwidth=1, gridcolor='LightGrey', zeroline=True)\n",
    "\n",
    "# Show the plot\n",
    "fig.show()"
   ]
  },
  {
   "attachments": {},
   "cell_type": "markdown",
   "metadata": {},
   "source": [
    "### Correlation Matrix"
   ]
  },
  {
   "cell_type": "code",
   "execution_count": 34,
   "metadata": {},
   "outputs": [
    {
     "name": "stderr",
     "output_type": "stream",
     "text": [
      "/var/folders/xb/ck19r6wj3s34sw5xpnr7_fbm0000gp/T/ipykernel_6159/974165628.py:10: FutureWarning:\n",
      "\n",
      "The default value of numeric_only in DataFrame.corr is deprecated. In a future version, it will default to False. Select only valid columns or specify the value of numeric_only to silence this warning.\n",
      "\n"
     ]
    },
    {
     "data": {
      "text/html": [
       "<div>\n",
       "<style scoped>\n",
       "    .dataframe tbody tr th:only-of-type {\n",
       "        vertical-align: middle;\n",
       "    }\n",
       "\n",
       "    .dataframe tbody tr th {\n",
       "        vertical-align: top;\n",
       "    }\n",
       "\n",
       "    .dataframe thead th {\n",
       "        text-align: right;\n",
       "    }\n",
       "</style>\n",
       "<table border=\"1\" class=\"dataframe\">\n",
       "  <thead>\n",
       "    <tr style=\"text-align: right;\">\n",
       "      <th></th>\n",
       "      <th>RT_LBCI_monthly</th>\n",
       "      <th>Unemployment Rate</th>\n",
       "      <th>Electricity generation</th>\n",
       "      <th>CPI</th>\n",
       "      <th>Continuing businesses</th>\n",
       "    </tr>\n",
       "  </thead>\n",
       "  <tbody>\n",
       "    <tr>\n",
       "      <th>RT_LBCI_monthly</th>\n",
       "      <td>1.000000</td>\n",
       "      <td>-0.716979</td>\n",
       "      <td>-0.314584</td>\n",
       "      <td>0.862470</td>\n",
       "      <td>0.812573</td>\n",
       "    </tr>\n",
       "    <tr>\n",
       "      <th>Unemployment Rate</th>\n",
       "      <td>-0.716979</td>\n",
       "      <td>1.000000</td>\n",
       "      <td>-0.077743</td>\n",
       "      <td>-0.819694</td>\n",
       "      <td>-0.814019</td>\n",
       "    </tr>\n",
       "    <tr>\n",
       "      <th>Electricity generation</th>\n",
       "      <td>-0.314584</td>\n",
       "      <td>-0.077743</td>\n",
       "      <td>1.000000</td>\n",
       "      <td>-0.132572</td>\n",
       "      <td>-0.048703</td>\n",
       "    </tr>\n",
       "    <tr>\n",
       "      <th>CPI</th>\n",
       "      <td>0.862470</td>\n",
       "      <td>-0.819694</td>\n",
       "      <td>-0.132572</td>\n",
       "      <td>1.000000</td>\n",
       "      <td>0.985579</td>\n",
       "    </tr>\n",
       "    <tr>\n",
       "      <th>Continuing businesses</th>\n",
       "      <td>0.812573</td>\n",
       "      <td>-0.814019</td>\n",
       "      <td>-0.048703</td>\n",
       "      <td>0.985579</td>\n",
       "      <td>1.000000</td>\n",
       "    </tr>\n",
       "  </tbody>\n",
       "</table>\n",
       "</div>"
      ],
      "text/plain": [
       "                        RT_LBCI_monthly  Unemployment Rate  \\\n",
       "RT_LBCI_monthly                1.000000          -0.716979   \n",
       "Unemployment Rate             -0.716979           1.000000   \n",
       "Electricity generation        -0.314584          -0.077743   \n",
       "CPI                            0.862470          -0.819694   \n",
       "Continuing businesses          0.812573          -0.814019   \n",
       "\n",
       "                        Electricity generation       CPI  \\\n",
       "RT_LBCI_monthly                      -0.314584  0.862470   \n",
       "Unemployment Rate                    -0.077743 -0.819694   \n",
       "Electricity generation                1.000000 -0.132572   \n",
       "CPI                                  -0.132572  1.000000   \n",
       "Continuing businesses                -0.048703  0.985579   \n",
       "\n",
       "                        Continuing businesses  \n",
       "RT_LBCI_monthly                      0.812573  \n",
       "Unemployment Rate                   -0.814019  \n",
       "Electricity generation              -0.048703  \n",
       "CPI                                  0.985579  \n",
       "Continuing businesses                1.000000  "
      ]
     },
     "execution_count": 34,
     "metadata": {},
     "output_type": "execute_result"
    }
   ],
   "source": [
    "Halifax_df_combined.head()\n",
    "scaled_Halifax_df_combined = Halifax_df_combined.copy()\n",
    "scaled_Halifax_df_combined = scaled_Halifax_df_combined.drop(['Date'], axis=1)\n",
    "\n",
    "# normalize the data\n",
    "scaled_Halifax_df_combined = (scaled_Halifax_df_combined - scaled_Halifax_df_combined.min()) / (scaled_Halifax_df_combined.max() - scaled_Halifax_df_combined.min())\n",
    "scaled_Halifax_df_combined.head()\n",
    "\n",
    "# find the correlation matrix for Halifax_df_combined\n",
    "corr_matrix = Halifax_df_combined.corr()\n",
    "corr_matrix"
   ]
  },
  {
   "cell_type": "code",
   "execution_count": 35,
   "metadata": {},
   "outputs": [
    {
     "name": "stderr",
     "output_type": "stream",
     "text": [
      "/var/folders/xb/ck19r6wj3s34sw5xpnr7_fbm0000gp/T/ipykernel_6159/835068695.py:3: FutureWarning:\n",
      "\n",
      "The default value of numeric_only in DataFrame.corr is deprecated. In a future version, it will default to False. Select only valid columns or specify the value of numeric_only to silence this warning.\n",
      "\n"
     ]
    },
    {
     "data": {
      "image/png": "[encoded data removed]",
      "text/plain": [
       "<Figure size 1200x600 with 2 Axes>"
      ]
     },
     "metadata": {},
     "output_type": "display_data"
    }
   ],
   "source": [
    "import numpy as np\n",
    "\n",
    "corr_matrix = Halifax_df_combined.corr()\n",
    "\n",
    "# Plot the correlation matrix\n",
    "plt.figure(figsize=(12, 6))\n",
    "plt.matshow(corr_matrix, fignum=1, cmap='coolwarm')\n",
    "plt.xticks(range(len(corr_matrix.columns)), corr_matrix.columns, rotation='vertical')\n",
    "plt.yticks(range(len(corr_matrix.columns)), corr_matrix.columns)\n",
    "\n",
    "# Add the correlation values to each grid\n",
    "for i in range(len(corr_matrix.columns)):\n",
    "      for j in range(len(corr_matrix.columns)):\n",
    "            text = plt.text(j, i, np.round(corr_matrix.iloc[i, j], 2),\n",
    "                        ha=\"center\", va=\"center\", color=\"black\", fontsize=12)\n",
    "\n",
    "plt.colorbar()\n",
    "plt.show()"
   ]
  },
  {
   "attachments": {},
   "cell_type": "markdown",
   "metadata": {},
   "source": [
    "- Looks like CPI and Continuing business do not have strong correlation with RT-LBCI, but might have a strong co-linearity with it.\n",
    "- While CPI and Continuing business do have strong correlations with Unemployment rate."
   ]
  },
  {
   "cell_type": "code",
   "execution_count": 5,
   "outputs": [
    {
     "data": {
      "text/plain": "        Date     Value\n0 2020-08-01  101.6275\n1 2020-09-01  108.2250\n2 2020-10-01  131.3425\n3 2020-11-01  139.9400\n4 2020-12-01  156.8725",
      "text/html": "<div>\n<style scoped>\n    .dataframe tbody tr th:only-of-type {\n        vertical-align: middle;\n    }\n\n    .dataframe tbody tr th {\n        vertical-align: top;\n    }\n\n    .dataframe thead th {\n        text-align: right;\n    }\n</style>\n<table border=\"1\" class=\"dataframe\">\n  <thead>\n    <tr style=\"text-align: right;\">\n      <th></th>\n      <th>Date</th>\n      <th>Value</th>\n    </tr>\n  </thead>\n  <tbody>\n    <tr>\n      <th>0</th>\n      <td>2020-08-01</td>\n      <td>101.6275</td>\n    </tr>\n    <tr>\n      <th>1</th>\n      <td>2020-09-01</td>\n      <td>108.2250</td>\n    </tr>\n    <tr>\n      <th>2</th>\n      <td>2020-10-01</td>\n      <td>131.3425</td>\n    </tr>\n    <tr>\n      <th>3</th>\n      <td>2020-11-01</td>\n      <td>139.9400</td>\n    </tr>\n    <tr>\n      <th>4</th>\n      <td>2020-12-01</td>\n      <td>156.8725</td>\n    </tr>\n  </tbody>\n</table>\n</div>"
     },
     "execution_count": 5,
     "metadata": {},
     "output_type": "execute_result"
    }
   ],
   "source": [
    "# Take Vancouver as an example\n",
    "RT_LBCI_Van = RT_LBCI_df.iloc[28:29]\n",
    "RT_LBCI_Van = convert_combined(RT_LBCI_Van)\n",
    "RT_LBCI_Van\n",
    "\n",
    "#RT_LBCI_df.head()\n",
    "RT_LBCI_Van_monthly = convert_monthly(RT_LBCI_Van)\n",
    "RT_LBCI_Van_monthly.head()\n"
   ],
   "metadata": {
    "collapsed": false,
    "ExecuteTime": {
     "start_time": "2023-05-03T13:25:00.390005Z",
     "end_time": "2023-05-03T13:25:00.453299Z"
    }
   }
  },
  {
   "cell_type": "code",
   "execution_count": 6,
   "outputs": [],
   "source": [
    "# Gas and diesel price\n",
    "df_gas = pd.read_csv('~/Desktop/UBC/DATA 599 Capstone/RT-LBCI/Cleaned datasets/regular_gasoline_retail_price.csv')\n",
    "df_diesel = pd.read_csv('~/Desktop/UBC/DATA 599 Capstone/RT-LBCI/Cleaned datasets/diesel_retail_price.csv')\n",
    "\n",
    "# extract columns Date and Vancouver\n",
    "df_gas_Van = df_gas[['Date', 'Vancouver']]\n",
    "df_diesel_Van = df_diesel[['Date', 'Vancouver']]\n"
   ],
   "metadata": {
    "collapsed": false,
    "ExecuteTime": {
     "start_time": "2023-05-03T13:25:00.422651Z",
     "end_time": "2023-05-03T13:25:00.453957Z"
    }
   }
  },
  {
   "cell_type": "code",
   "execution_count": 12,
   "outputs": [
    {
     "name": "stderr",
     "output_type": "stream",
     "text": [
      "/var/folders/7s/086nw8893dq343kp9p40cjdw0000gn/T/ipykernel_21569/3874644773.py:3: SettingWithCopyWarning: \n",
      "A value is trying to be set on a copy of a slice from a DataFrame.\n",
      "Try using .loc[row_indexer,col_indexer] = value instead\n",
      "\n",
      "See the caveats in the documentation: https://pandas.pydata.org/pandas-docs/stable/user_guide/indexing.html#returning-a-view-versus-a-copy\n",
      "  df_gas_Van['Date'] = pd.to_datetime(df_gas_Van['Date'])\n",
      "/var/folders/7s/086nw8893dq343kp9p40cjdw0000gn/T/ipykernel_21569/3874644773.py:4: SettingWithCopyWarning: \n",
      "A value is trying to be set on a copy of a slice from a DataFrame.\n",
      "Try using .loc[row_indexer,col_indexer] = value instead\n",
      "\n",
      "See the caveats in the documentation: https://pandas.pydata.org/pandas-docs/stable/user_guide/indexing.html#returning-a-view-versus-a-copy\n",
      "  df_diesel_Van['Date'] = pd.to_datetime(df_diesel_Van['Date'])\n"
     ]
    },
    {
     "data": {
      "text/plain": "        Date  RT_LBCI_monthly    Gas  Diese\n0 2020-08-01         101.6275  130.0  110.7\n1 2020-09-01         108.2250  125.9  108.3\n2 2020-10-01         131.3425  122.3  109.3\n3 2020-11-01         139.9400  123.6  116.1\n4 2020-12-01         156.8725  126.1  117.8",
      "text/html": "<div>\n<style scoped>\n    .dataframe tbody tr th:only-of-type {\n        vertical-align: middle;\n    }\n\n    .dataframe tbody tr th {\n        vertical-align: top;\n    }\n\n    .dataframe thead th {\n        text-align: right;\n    }\n</style>\n<table border=\"1\" class=\"dataframe\">\n  <thead>\n    <tr style=\"text-align: right;\">\n      <th></th>\n      <th>Date</th>\n      <th>RT_LBCI_monthly</th>\n      <th>Gas</th>\n      <th>Diese</th>\n    </tr>\n  </thead>\n  <tbody>\n    <tr>\n      <th>0</th>\n      <td>2020-08-01</td>\n      <td>101.6275</td>\n      <td>130.0</td>\n      <td>110.7</td>\n    </tr>\n    <tr>\n      <th>1</th>\n      <td>2020-09-01</td>\n      <td>108.2250</td>\n      <td>125.9</td>\n      <td>108.3</td>\n    </tr>\n    <tr>\n      <th>2</th>\n      <td>2020-10-01</td>\n      <td>131.3425</td>\n      <td>122.3</td>\n      <td>109.3</td>\n    </tr>\n    <tr>\n      <th>3</th>\n      <td>2020-11-01</td>\n      <td>139.9400</td>\n      <td>123.6</td>\n      <td>116.1</td>\n    </tr>\n    <tr>\n      <th>4</th>\n      <td>2020-12-01</td>\n      <td>156.8725</td>\n      <td>126.1</td>\n      <td>117.8</td>\n    </tr>\n  </tbody>\n</table>\n</div>"
     },
     "execution_count": 12,
     "metadata": {},
     "output_type": "execute_result"
    }
   ],
   "source": [
    "# Convert the date format\n",
    "RT_LBCI_Van_monthly['Date'] = pd.to_datetime(RT_LBCI_Van_monthly['Date'])\n",
    "df_gas_Van['Date'] = pd.to_datetime(df_gas_Van['Date'])\n",
    "df_diesel_Van['Date'] = pd.to_datetime(df_diesel_Van['Date'])\n",
    "\n",
    "Van_df_combined = pd.merge(RT_LBCI_Van_monthly, df_gas_Van, on = 'Date')\n",
    "Van_df_combined = Van_df_combined.rename(columns={'Value': 'RT_LBCI_monthly', 'Vancouver': 'Gas'})\n",
    "Van_df_combined = pd.merge(Van_df_combined, df_diesel_Van, on='Date')\n",
    "Van_df_combined = Van_df_combined.rename(columns={ 'Vancouver': 'Diese'})\n",
    "\n",
    "Van_df_combined.head()"
   ],
   "metadata": {
    "collapsed": false,
    "ExecuteTime": {
     "start_time": "2023-05-03T13:26:51.605085Z",
     "end_time": "2023-05-03T13:26:51.613139Z"
    }
   }
  },
  {
   "cell_type": "code",
   "execution_count": 13,
   "outputs": [
    {
     "data": {
      "text/plain": "                 RT_LBCI_monthly       Gas     Diese\nRT_LBCI_monthly         1.000000  0.757341  0.830977\nGas                     0.757341  1.000000  0.959184\nDiese                   0.830977  0.959184  1.000000",
      "text/html": "<div>\n<style scoped>\n    .dataframe tbody tr th:only-of-type {\n        vertical-align: middle;\n    }\n\n    .dataframe tbody tr th {\n        vertical-align: top;\n    }\n\n    .dataframe thead th {\n        text-align: right;\n    }\n</style>\n<table border=\"1\" class=\"dataframe\">\n  <thead>\n    <tr style=\"text-align: right;\">\n      <th></th>\n      <th>RT_LBCI_monthly</th>\n      <th>Gas</th>\n      <th>Diese</th>\n    </tr>\n  </thead>\n  <tbody>\n    <tr>\n      <th>RT_LBCI_monthly</th>\n      <td>1.000000</td>\n      <td>0.757341</td>\n      <td>0.830977</td>\n    </tr>\n    <tr>\n      <th>Gas</th>\n      <td>0.757341</td>\n      <td>1.000000</td>\n      <td>0.959184</td>\n    </tr>\n    <tr>\n      <th>Diese</th>\n      <td>0.830977</td>\n      <td>0.959184</td>\n      <td>1.000000</td>\n    </tr>\n  </tbody>\n</table>\n</div>"
     },
     "execution_count": 13,
     "metadata": {},
     "output_type": "execute_result"
    }
   ],
   "source": [
    "Van_df_combined.corr()"
   ],
   "metadata": {
    "collapsed": false,
    "ExecuteTime": {
     "start_time": "2023-05-03T13:28:10.883474Z",
     "end_time": "2023-05-03T13:28:10.886773Z"
    }
   }
  },
  {
   "cell_type": "code",
   "execution_count": 14,
   "outputs": [
    {
     "data": {
      "text/plain": "                 RT_LBCI_monthly       Gas     Diese\nRT_LBCI_monthly         1.000000  0.757341  0.830977\nGas                     0.757341  1.000000  0.959184\nDiese                   0.830977  0.959184  1.000000",
      "text/html": "<div>\n<style scoped>\n    .dataframe tbody tr th:only-of-type {\n        vertical-align: middle;\n    }\n\n    .dataframe tbody tr th {\n        vertical-align: top;\n    }\n\n    .dataframe thead th {\n        text-align: right;\n    }\n</style>\n<table border=\"1\" class=\"dataframe\">\n  <thead>\n    <tr style=\"text-align: right;\">\n      <th></th>\n      <th>RT_LBCI_monthly</th>\n      <th>Gas</th>\n      <th>Diese</th>\n    </tr>\n  </thead>\n  <tbody>\n    <tr>\n      <th>RT_LBCI_monthly</th>\n      <td>1.000000</td>\n      <td>0.757341</td>\n      <td>0.830977</td>\n    </tr>\n    <tr>\n      <th>Gas</th>\n      <td>0.757341</td>\n      <td>1.000000</td>\n      <td>0.959184</td>\n    </tr>\n    <tr>\n      <th>Diese</th>\n      <td>0.830977</td>\n      <td>0.959184</td>\n      <td>1.000000</td>\n    </tr>\n  </tbody>\n</table>\n</div>"
     },
     "execution_count": 14,
     "metadata": {},
     "output_type": "execute_result"
    }
   ],
   "source": [
    "Van_df_combined.head()\n",
    "scaled_Van_df_combined = Van_df_combined.copy()\n",
    "scaled_Van_df_combined = scaled_Van_df_combined.drop(['Date'], axis=1)\n",
    "\n",
    "# normalize the data\n",
    "scaled_Van_df_combined = (scaled_Van_df_combined - scaled_Van_df_combined.min()) / (scaled_Van_df_combined.max() - scaled_Van_df_combined.min())\n",
    "scaled_Van_df_combined.head()\n",
    "\n",
    "# find the correlation matrix for Halifax_df_combined\n",
    "corr_matrix = Van_df_combined.corr()\n",
    "corr_matrix"
   ],
   "metadata": {
    "collapsed": false,
    "ExecuteTime": {
     "start_time": "2023-05-03T13:28:14.357116Z",
     "end_time": "2023-05-03T13:28:14.363499Z"
    }
   }
  }
 ],
 "metadata": {
  "kernelspec": {
   "display_name": "Python 3",
   "language": "python",
   "name": "python3"
  },
  "language_info": {
   "codemirror_mode": {
    "name": "ipython",
    "version": 3
   },
   "file_extension": ".py",
   "mimetype": "text/x-python",
   "name": "python",
   "nbconvert_exporter": "python",
   "pygments_lexer": "ipython3",
   "version": "3.9.1"
  },
  "orig_nbformat": 4
 },
 "nbformat": 4,
 "nbformat_minor": 2
}
