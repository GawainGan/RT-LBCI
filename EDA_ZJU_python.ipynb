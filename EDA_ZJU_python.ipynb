{
 "cells": [
  {
   "cell_type": "code",
   "execution_count": 1,
   "metadata": {
    "ExecuteTime": {
     "end_time": "2023-05-12T05:16:12.390531Z",
     "start_time": "2023-05-12T05:16:09.585174Z"
    }
   },
   "outputs": [],
   "source": [
    "import pandas as pd\n",
    "import numpy as np\n",
    "\n",
    "import matplotlib.pyplot as plt\n",
    "import plotly.graph_objects as go"
   ]
  },
  {
   "cell_type": "code",
   "execution_count": 2,
   "metadata": {
    "ExecuteTime": {
     "end_time": "2023-05-12T05:16:12.395326Z",
     "start_time": "2023-05-12T05:16:12.392918Z"
    }
   },
   "outputs": [],
   "source": [
    "def convert_combined(sub_df):\n",
    "      # transpose the dataframe\n",
    "      sub_df_T = sub_df.T\n",
    "      \n",
    "      # rename the first row to 'Value'\n",
    "      # sub_df_T = sub_df_T.rename(columns={1: 'Value'})\n",
    "      \n",
    "      # remove the first row\n",
    "      sub_df_T = sub_df_T.iloc[1:]\n",
    "      # add the name to the first column\n",
    "      # sub_df_T = sub_df_T.rename_axis('Date').reset_index()\n",
    "      \n",
    "      date = sub_df_T.index.values\n",
    "      value = sub_df_T.iloc[:, 0].values\n",
    "      combined_df = pd.DataFrame({\"Date\": date, \"Value\": value})\n",
    "      \n",
    "      # convert the date to datetime\n",
    "      combined_df = combined_df.astype({'Date': 'datetime64[ns]'})\n",
    "\n",
    "      # check if the first value contains a comma\n",
    "      if ',' in str(combined_df['Value'].iloc[0]):\n",
    "            # convert the value to float (remove comma and convert to float)\n",
    "            combined_df['Value'] = combined_df['Value'].str.replace(',', '')\n",
    "            # in case some rows have letter in the value\n",
    "            combined_df['Value']= combined_df['Value'].str.replace(r'[a-zA-Z]', '', regex=True)\n",
    "            combined_df['Value'] = combined_df['Value'].astype(float)\n",
    "      else:\n",
    "            # convert the value to float\n",
    "            combined_df = combined_df.astype({'Value': 'float'})\n",
    "\n",
    "      return combined_df"
   ]
  },
  {
   "cell_type": "code",
   "execution_count": 3,
   "metadata": {
    "ExecuteTime": {
     "end_time": "2023-05-12T05:16:12.399019Z",
     "start_time": "2023-05-12T05:16:12.396594Z"
    }
   },
   "outputs": [],
   "source": [
    "def convert_monthly(sub_df):\n",
    "      monthly_data = sub_df.resample('M', on='Date').mean()\n",
    "      monthly_data = monthly_data.reset_index()\n",
    "      # convert the time into the first day of the month\n",
    "      monthly_data['Date'] = monthly_data['Date'].values.astype('datetime64[M]')\n",
    "      # monthly_data.head()\n",
    "      # monthly_data.info()\n",
    "      return monthly_data"
   ]
  },
  {
   "attachments": {},
   "cell_type": "markdown",
   "metadata": {},
   "source": [
    "## RTLBCI\n",
    "\n",
    "Frequency: Weekly\n",
    "\n",
    "Table: 33-10-0398-01\n",
    "\n",
    "Release date: 2023-04-28 RTLBCI\n",
    "\n",
    "The csv file is gathered from: https://www150.statcan.gc.ca/t1/tbl1/en/tv.action?pid=3310039801"
   ]
  },
  {
   "cell_type": "code",
   "execution_count": 4,
   "metadata": {
    "ExecuteTime": {
     "end_time": "2023-05-12T05:16:12.434933Z",
     "start_time": "2023-05-12T05:16:12.400406Z"
    }
   },
   "outputs": [
    {
     "data": {
      "text/plain": "                     City_Provience  August 10, 2020  August 17, 2020  \\\n0  St. John's, Newfoundland (792) 1            100.0           111.81   \n1     Halifax, Nova Scotia (0348) 1            100.0           103.25   \n2   Moncton, New Brunswick (0539) 1            100.0           108.05   \n3           Quebec, Quebec (0685) 1            100.0           107.75   \n4   Trois-Rivieres, Quebec (0953) 1            100.0           106.45   \n\n   August 24, 2020  August 31, 2020  September 7, 2020  September 14, 2020  \\\n0           122.82           115.91             118.19              149.29   \n1           103.77            92.11             111.06              107.50   \n2           120.78           113.63             130.73              134.45   \n3           124.25           103.23             127.96              114.26   \n4           114.34            99.36             117.63              113.74   \n\n   September 21, 2020  September 28, 2020  October 5, 2020  ...  \\\n0              139.92              194.67           223.12  ...   \n1              101.47              110.83           126.49  ...   \n2              133.52              175.36           191.65  ...   \n3               80.63               97.85            95.72  ...   \n4              101.25              120.78           128.54  ...   \n\n   February 13, 2023  February 20, 2023  February 27, 2023  March 6, 2023  \\\n0             241.55             186.13             361.69         338.63   \n1             163.05             160.01             227.82         186.08   \n2             361.62             370.05             428.51         375.67   \n3             250.23             291.60             359.60         347.10   \n4             314.81             332.48             379.26         315.77   \n\n   March 13, 2023  March 20, 2023  March 27, 2023  April 3, 2023  \\\n0          294.84          352.09          311.52         477.58   \n1          180.62          218.93          211.18         200.39   \n2          347.27          427.92          399.65         416.02   \n3          281.01          398.41          373.35         360.89   \n4          346.72          406.18          366.51         370.99   \n\n   April 10, 2023  April 17, 2023  \n0          547.03          606.62  \n1          189.60          218.11  \n2          420.79          442.13  \n3          331.55          281.41  \n4          367.63          384.46  \n\n[5 rows x 142 columns]",
      "text/html": "<div>\n<style scoped>\n    .dataframe tbody tr th:only-of-type {\n        vertical-align: middle;\n    }\n\n    .dataframe tbody tr th {\n        vertical-align: top;\n    }\n\n    .dataframe thead th {\n        text-align: right;\n    }\n</style>\n<table border=\"1\" class=\"dataframe\">\n  <thead>\n    <tr style=\"text-align: right;\">\n      <th></th>\n      <th>City_Provience</th>\n      <th>August 10, 2020</th>\n      <th>August 17, 2020</th>\n      <th>August 24, 2020</th>\n      <th>August 31, 2020</th>\n      <th>September 7, 2020</th>\n      <th>September 14, 2020</th>\n      <th>September 21, 2020</th>\n      <th>September 28, 2020</th>\n      <th>October 5, 2020</th>\n      <th>...</th>\n      <th>February 13, 2023</th>\n      <th>February 20, 2023</th>\n      <th>February 27, 2023</th>\n      <th>March 6, 2023</th>\n      <th>March 13, 2023</th>\n      <th>March 20, 2023</th>\n      <th>March 27, 2023</th>\n      <th>April 3, 2023</th>\n      <th>April 10, 2023</th>\n      <th>April 17, 2023</th>\n    </tr>\n  </thead>\n  <tbody>\n    <tr>\n      <th>0</th>\n      <td>St. John's, Newfoundland (792) 1</td>\n      <td>100.0</td>\n      <td>111.81</td>\n      <td>122.82</td>\n      <td>115.91</td>\n      <td>118.19</td>\n      <td>149.29</td>\n      <td>139.92</td>\n      <td>194.67</td>\n      <td>223.12</td>\n      <td>...</td>\n      <td>241.55</td>\n      <td>186.13</td>\n      <td>361.69</td>\n      <td>338.63</td>\n      <td>294.84</td>\n      <td>352.09</td>\n      <td>311.52</td>\n      <td>477.58</td>\n      <td>547.03</td>\n      <td>606.62</td>\n    </tr>\n    <tr>\n      <th>1</th>\n      <td>Halifax, Nova Scotia (0348) 1</td>\n      <td>100.0</td>\n      <td>103.25</td>\n      <td>103.77</td>\n      <td>92.11</td>\n      <td>111.06</td>\n      <td>107.50</td>\n      <td>101.47</td>\n      <td>110.83</td>\n      <td>126.49</td>\n      <td>...</td>\n      <td>163.05</td>\n      <td>160.01</td>\n      <td>227.82</td>\n      <td>186.08</td>\n      <td>180.62</td>\n      <td>218.93</td>\n      <td>211.18</td>\n      <td>200.39</td>\n      <td>189.60</td>\n      <td>218.11</td>\n    </tr>\n    <tr>\n      <th>2</th>\n      <td>Moncton, New Brunswick (0539) 1</td>\n      <td>100.0</td>\n      <td>108.05</td>\n      <td>120.78</td>\n      <td>113.63</td>\n      <td>130.73</td>\n      <td>134.45</td>\n      <td>133.52</td>\n      <td>175.36</td>\n      <td>191.65</td>\n      <td>...</td>\n      <td>361.62</td>\n      <td>370.05</td>\n      <td>428.51</td>\n      <td>375.67</td>\n      <td>347.27</td>\n      <td>427.92</td>\n      <td>399.65</td>\n      <td>416.02</td>\n      <td>420.79</td>\n      <td>442.13</td>\n    </tr>\n    <tr>\n      <th>3</th>\n      <td>Quebec, Quebec (0685) 1</td>\n      <td>100.0</td>\n      <td>107.75</td>\n      <td>124.25</td>\n      <td>103.23</td>\n      <td>127.96</td>\n      <td>114.26</td>\n      <td>80.63</td>\n      <td>97.85</td>\n      <td>95.72</td>\n      <td>...</td>\n      <td>250.23</td>\n      <td>291.60</td>\n      <td>359.60</td>\n      <td>347.10</td>\n      <td>281.01</td>\n      <td>398.41</td>\n      <td>373.35</td>\n      <td>360.89</td>\n      <td>331.55</td>\n      <td>281.41</td>\n    </tr>\n    <tr>\n      <th>4</th>\n      <td>Trois-Rivieres, Quebec (0953) 1</td>\n      <td>100.0</td>\n      <td>106.45</td>\n      <td>114.34</td>\n      <td>99.36</td>\n      <td>117.63</td>\n      <td>113.74</td>\n      <td>101.25</td>\n      <td>120.78</td>\n      <td>128.54</td>\n      <td>...</td>\n      <td>314.81</td>\n      <td>332.48</td>\n      <td>379.26</td>\n      <td>315.77</td>\n      <td>346.72</td>\n      <td>406.18</td>\n      <td>366.51</td>\n      <td>370.99</td>\n      <td>367.63</td>\n      <td>384.46</td>\n    </tr>\n  </tbody>\n</table>\n<p>5 rows × 142 columns</p>\n</div>"
     },
     "execution_count": 4,
     "metadata": {},
     "output_type": "execute_result"
    }
   ],
   "source": [
    "file_path = '~/Desktop/UBC/DATA 599 Capstone/RT-LBCI/RTLBCI/RTLBCI_Cleaned_To_2023-04-28.csv'\n",
    "RT_LBCI_df = pd.read_csv(file_path)\n",
    "RT_LBCI_df.head()"
   ]
  },
  {
   "cell_type": "code",
   "execution_count": 5,
   "metadata": {
    "ExecuteTime": {
     "start_time": "2023-05-06T11:37:15.490969Z",
     "end_time": "2023-05-06T11:37:15.506805Z"
    }
   },
   "outputs": [
    {
     "data": {
      "text/plain": "        Date   Value\n0 2020-08-10  100.00\n1 2020-08-17  103.25\n2 2020-08-24  103.77\n3 2020-08-31   92.11\n4 2020-09-07  111.06",
      "text/html": "<div>\n<style scoped>\n    .dataframe tbody tr th:only-of-type {\n        vertical-align: middle;\n    }\n\n    .dataframe tbody tr th {\n        vertical-align: top;\n    }\n\n    .dataframe thead th {\n        text-align: right;\n    }\n</style>\n<table border=\"1\" class=\"dataframe\">\n  <thead>\n    <tr style=\"text-align: right;\">\n      <th></th>\n      <th>Date</th>\n      <th>Value</th>\n    </tr>\n  </thead>\n  <tbody>\n    <tr>\n      <th>0</th>\n      <td>2020-08-10</td>\n      <td>100.00</td>\n    </tr>\n    <tr>\n      <th>1</th>\n      <td>2020-08-17</td>\n      <td>103.25</td>\n    </tr>\n    <tr>\n      <th>2</th>\n      <td>2020-08-24</td>\n      <td>103.77</td>\n    </tr>\n    <tr>\n      <th>3</th>\n      <td>2020-08-31</td>\n      <td>92.11</td>\n    </tr>\n    <tr>\n      <th>4</th>\n      <td>2020-09-07</td>\n      <td>111.06</td>\n    </tr>\n  </tbody>\n</table>\n</div>"
     },
     "execution_count": 5,
     "metadata": {},
     "output_type": "execute_result"
    }
   ],
   "source": [
    "# Take halifax as an example\n",
    "RT_LBCI_Halifax = RT_LBCI_df.iloc[1:2]\n",
    "RT_LBCI_Halifax = convert_combined(RT_LBCI_Halifax)\n",
    "RT_LBCI_Halifax.head()"
   ]
  },
  {
   "cell_type": "code",
   "execution_count": 6,
   "metadata": {
    "ExecuteTime": {
     "start_time": "2023-05-06T11:37:15.495489Z",
     "end_time": "2023-05-06T11:37:15.701941Z"
    }
   },
   "outputs": [
    {
     "data": {
      "text/plain": "[<matplotlib.lines.Line2D at 0x7f9e50a59af0>]"
     },
     "execution_count": 6,
     "metadata": {},
     "output_type": "execute_result"
    },
    {
     "data": {
      "text/plain": "<Figure size 640x480 with 1 Axes>",
      "image/png": "[encoded data removed]"
     },
     "metadata": {},
     "output_type": "display_data"
    }
   ],
   "source": [
    "plt.plot(RT_LBCI_Halifax['Date'], RT_LBCI_Halifax['Value'])"
   ]
  },
  {
   "attachments": {},
   "cell_type": "markdown",
   "metadata": {},
   "source": [
    "Since the RT-LBCI is weekly data, we will convert them into monthly data.\n",
    "Add four weeks and divide by 4 to get the monthly data."
   ]
  },
  {
   "cell_type": "code",
   "execution_count": 7,
   "metadata": {
    "ExecuteTime": {
     "start_time": "2023-05-03T12:49:42.008284Z",
     "end_time": "2023-05-03T12:49:42.030367Z"
    }
   },
   "outputs": [
    {
     "data": {
      "text/plain": "        Date     Value\n0 2020-08-01   99.7825\n1 2020-09-01  107.7150\n2 2020-10-01  130.6950\n3 2020-11-01  150.7020\n4 2020-12-01  167.8600",
      "text/html": "<div>\n<style scoped>\n    .dataframe tbody tr th:only-of-type {\n        vertical-align: middle;\n    }\n\n    .dataframe tbody tr th {\n        vertical-align: top;\n    }\n\n    .dataframe thead th {\n        text-align: right;\n    }\n</style>\n<table border=\"1\" class=\"dataframe\">\n  <thead>\n    <tr style=\"text-align: right;\">\n      <th></th>\n      <th>Date</th>\n      <th>Value</th>\n    </tr>\n  </thead>\n  <tbody>\n    <tr>\n      <th>0</th>\n      <td>2020-08-01</td>\n      <td>99.7825</td>\n    </tr>\n    <tr>\n      <th>1</th>\n      <td>2020-09-01</td>\n      <td>107.7150</td>\n    </tr>\n    <tr>\n      <th>2</th>\n      <td>2020-10-01</td>\n      <td>130.6950</td>\n    </tr>\n    <tr>\n      <th>3</th>\n      <td>2020-11-01</td>\n      <td>150.7020</td>\n    </tr>\n    <tr>\n      <th>4</th>\n      <td>2020-12-01</td>\n      <td>167.8600</td>\n    </tr>\n  </tbody>\n</table>\n</div>"
     },
     "execution_count": 7,
     "metadata": {},
     "output_type": "execute_result"
    }
   ],
   "source": [
    "RT_LBCI_Halifax_monthly = convert_monthly(RT_LBCI_Halifax)\n",
    "RT_LBCI_Halifax_monthly.head()"
   ]
  },
  {
   "attachments": {},
   "cell_type": "markdown",
   "metadata": {},
   "source": [
    "## Labor Force - Unemployment Rate\n",
    "\n",
    "\n",
    "Labour force characteristics, three-month moving average, unadjusted for seasonality c 1\n",
    "\n",
    "Frequency: Monthly\n",
    "\n",
    "Table: 14-10-0378-01    \n",
    "\n",
    "Release date: 2023-04-06\n",
    "\n",
    "Geography: Census metropolitan area, Census metropolitan area part\n",
    "\n",
    "https://www150.statcan.gc.ca/t1/tbl1/en/tv.action?pid=1410037801"
   ]
  },
  {
   "attachments": {},
   "cell_type": "markdown",
   "metadata": {},
   "source": [
    "Labour force characteristics\tUnemployment rate 2\n",
    "\n",
    "Sex\tBoth sexes\n",
    "\n",
    "Age group\t15 years and over\n",
    "\n",
    "Geography 3 4\tNovember 2022"
   ]
  },
  {
   "cell_type": "code",
   "execution_count": 8,
   "metadata": {},
   "outputs": [
    {
     "ename": "FileNotFoundError",
     "evalue": "[Errno 2] No such file or directory: '/Users/gawain/Desktop/6.Real-time Local Business Condition Index/Labour force/Labor Force Rate/1410037801-cleaned.csv'",
     "output_type": "error",
     "traceback": [
      "\u001B[0;31m---------------------------------------------------------------------------\u001B[0m",
      "\u001B[0;31mFileNotFoundError\u001B[0m                         Traceback (most recent call last)",
      "Input \u001B[0;32mIn [8]\u001B[0m, in \u001B[0;36m<cell line: 2>\u001B[0;34m()\u001B[0m\n\u001B[1;32m      1\u001B[0m unemploy_rate_path \u001B[38;5;241m=\u001B[39m \u001B[38;5;124m'\u001B[39m\u001B[38;5;124m/Users/gawain/Desktop/6.Real-time Local Business Condition Index/Labour force/Labor Force Rate/1410037801-cleaned.csv\u001B[39m\u001B[38;5;124m'\u001B[39m\n\u001B[0;32m----> 2\u001B[0m unemploy_rate_df \u001B[38;5;241m=\u001B[39m \u001B[43mpd\u001B[49m\u001B[38;5;241;43m.\u001B[39;49m\u001B[43mread_csv\u001B[49m\u001B[43m(\u001B[49m\u001B[43munemploy_rate_path\u001B[49m\u001B[43m)\u001B[49m\n\u001B[1;32m      3\u001B[0m unemploy_rate_df\u001B[38;5;241m.\u001B[39mhead()\n",
      "File \u001B[0;32m~/opt/anaconda3/lib/python3.9/site-packages/pandas/util/_decorators.py:311\u001B[0m, in \u001B[0;36mdeprecate_nonkeyword_arguments.<locals>.decorate.<locals>.wrapper\u001B[0;34m(*args, **kwargs)\u001B[0m\n\u001B[1;32m    305\u001B[0m \u001B[38;5;28;01mif\u001B[39;00m \u001B[38;5;28mlen\u001B[39m(args) \u001B[38;5;241m>\u001B[39m num_allow_args:\n\u001B[1;32m    306\u001B[0m     warnings\u001B[38;5;241m.\u001B[39mwarn(\n\u001B[1;32m    307\u001B[0m         msg\u001B[38;5;241m.\u001B[39mformat(arguments\u001B[38;5;241m=\u001B[39marguments),\n\u001B[1;32m    308\u001B[0m         \u001B[38;5;167;01mFutureWarning\u001B[39;00m,\n\u001B[1;32m    309\u001B[0m         stacklevel\u001B[38;5;241m=\u001B[39mstacklevel,\n\u001B[1;32m    310\u001B[0m     )\n\u001B[0;32m--> 311\u001B[0m \u001B[38;5;28;01mreturn\u001B[39;00m \u001B[43mfunc\u001B[49m\u001B[43m(\u001B[49m\u001B[38;5;241;43m*\u001B[39;49m\u001B[43margs\u001B[49m\u001B[43m,\u001B[49m\u001B[43m \u001B[49m\u001B[38;5;241;43m*\u001B[39;49m\u001B[38;5;241;43m*\u001B[39;49m\u001B[43mkwargs\u001B[49m\u001B[43m)\u001B[49m\n",
      "File \u001B[0;32m~/opt/anaconda3/lib/python3.9/site-packages/pandas/io/parsers/readers.py:678\u001B[0m, in \u001B[0;36mread_csv\u001B[0;34m(filepath_or_buffer, sep, delimiter, header, names, index_col, usecols, squeeze, prefix, mangle_dupe_cols, dtype, engine, converters, true_values, false_values, skipinitialspace, skiprows, skipfooter, nrows, na_values, keep_default_na, na_filter, verbose, skip_blank_lines, parse_dates, infer_datetime_format, keep_date_col, date_parser, dayfirst, cache_dates, iterator, chunksize, compression, thousands, decimal, lineterminator, quotechar, quoting, doublequote, escapechar, comment, encoding, encoding_errors, dialect, error_bad_lines, warn_bad_lines, on_bad_lines, delim_whitespace, low_memory, memory_map, float_precision, storage_options)\u001B[0m\n\u001B[1;32m    663\u001B[0m kwds_defaults \u001B[38;5;241m=\u001B[39m _refine_defaults_read(\n\u001B[1;32m    664\u001B[0m     dialect,\n\u001B[1;32m    665\u001B[0m     delimiter,\n\u001B[0;32m   (...)\u001B[0m\n\u001B[1;32m    674\u001B[0m     defaults\u001B[38;5;241m=\u001B[39m{\u001B[38;5;124m\"\u001B[39m\u001B[38;5;124mdelimiter\u001B[39m\u001B[38;5;124m\"\u001B[39m: \u001B[38;5;124m\"\u001B[39m\u001B[38;5;124m,\u001B[39m\u001B[38;5;124m\"\u001B[39m},\n\u001B[1;32m    675\u001B[0m )\n\u001B[1;32m    676\u001B[0m kwds\u001B[38;5;241m.\u001B[39mupdate(kwds_defaults)\n\u001B[0;32m--> 678\u001B[0m \u001B[38;5;28;01mreturn\u001B[39;00m \u001B[43m_read\u001B[49m\u001B[43m(\u001B[49m\u001B[43mfilepath_or_buffer\u001B[49m\u001B[43m,\u001B[49m\u001B[43m \u001B[49m\u001B[43mkwds\u001B[49m\u001B[43m)\u001B[49m\n",
      "File \u001B[0;32m~/opt/anaconda3/lib/python3.9/site-packages/pandas/io/parsers/readers.py:575\u001B[0m, in \u001B[0;36m_read\u001B[0;34m(filepath_or_buffer, kwds)\u001B[0m\n\u001B[1;32m    572\u001B[0m _validate_names(kwds\u001B[38;5;241m.\u001B[39mget(\u001B[38;5;124m\"\u001B[39m\u001B[38;5;124mnames\u001B[39m\u001B[38;5;124m\"\u001B[39m, \u001B[38;5;28;01mNone\u001B[39;00m))\n\u001B[1;32m    574\u001B[0m \u001B[38;5;66;03m# Create the parser.\u001B[39;00m\n\u001B[0;32m--> 575\u001B[0m parser \u001B[38;5;241m=\u001B[39m \u001B[43mTextFileReader\u001B[49m\u001B[43m(\u001B[49m\u001B[43mfilepath_or_buffer\u001B[49m\u001B[43m,\u001B[49m\u001B[43m \u001B[49m\u001B[38;5;241;43m*\u001B[39;49m\u001B[38;5;241;43m*\u001B[39;49m\u001B[43mkwds\u001B[49m\u001B[43m)\u001B[49m\n\u001B[1;32m    577\u001B[0m \u001B[38;5;28;01mif\u001B[39;00m chunksize \u001B[38;5;129;01mor\u001B[39;00m iterator:\n\u001B[1;32m    578\u001B[0m     \u001B[38;5;28;01mreturn\u001B[39;00m parser\n",
      "File \u001B[0;32m~/opt/anaconda3/lib/python3.9/site-packages/pandas/io/parsers/readers.py:932\u001B[0m, in \u001B[0;36mTextFileReader.__init__\u001B[0;34m(self, f, engine, **kwds)\u001B[0m\n\u001B[1;32m    929\u001B[0m     \u001B[38;5;28mself\u001B[39m\u001B[38;5;241m.\u001B[39moptions[\u001B[38;5;124m\"\u001B[39m\u001B[38;5;124mhas_index_names\u001B[39m\u001B[38;5;124m\"\u001B[39m] \u001B[38;5;241m=\u001B[39m kwds[\u001B[38;5;124m\"\u001B[39m\u001B[38;5;124mhas_index_names\u001B[39m\u001B[38;5;124m\"\u001B[39m]\n\u001B[1;32m    931\u001B[0m \u001B[38;5;28mself\u001B[39m\u001B[38;5;241m.\u001B[39mhandles: IOHandles \u001B[38;5;241m|\u001B[39m \u001B[38;5;28;01mNone\u001B[39;00m \u001B[38;5;241m=\u001B[39m \u001B[38;5;28;01mNone\u001B[39;00m\n\u001B[0;32m--> 932\u001B[0m \u001B[38;5;28mself\u001B[39m\u001B[38;5;241m.\u001B[39m_engine \u001B[38;5;241m=\u001B[39m \u001B[38;5;28;43mself\u001B[39;49m\u001B[38;5;241;43m.\u001B[39;49m\u001B[43m_make_engine\u001B[49m\u001B[43m(\u001B[49m\u001B[43mf\u001B[49m\u001B[43m,\u001B[49m\u001B[43m \u001B[49m\u001B[38;5;28;43mself\u001B[39;49m\u001B[38;5;241;43m.\u001B[39;49m\u001B[43mengine\u001B[49m\u001B[43m)\u001B[49m\n",
      "File \u001B[0;32m~/opt/anaconda3/lib/python3.9/site-packages/pandas/io/parsers/readers.py:1216\u001B[0m, in \u001B[0;36mTextFileReader._make_engine\u001B[0;34m(self, f, engine)\u001B[0m\n\u001B[1;32m   1212\u001B[0m     mode \u001B[38;5;241m=\u001B[39m \u001B[38;5;124m\"\u001B[39m\u001B[38;5;124mrb\u001B[39m\u001B[38;5;124m\"\u001B[39m\n\u001B[1;32m   1213\u001B[0m \u001B[38;5;66;03m# error: No overload variant of \"get_handle\" matches argument types\u001B[39;00m\n\u001B[1;32m   1214\u001B[0m \u001B[38;5;66;03m# \"Union[str, PathLike[str], ReadCsvBuffer[bytes], ReadCsvBuffer[str]]\"\u001B[39;00m\n\u001B[1;32m   1215\u001B[0m \u001B[38;5;66;03m# , \"str\", \"bool\", \"Any\", \"Any\", \"Any\", \"Any\", \"Any\"\u001B[39;00m\n\u001B[0;32m-> 1216\u001B[0m \u001B[38;5;28mself\u001B[39m\u001B[38;5;241m.\u001B[39mhandles \u001B[38;5;241m=\u001B[39m \u001B[43mget_handle\u001B[49m\u001B[43m(\u001B[49m\u001B[43m  \u001B[49m\u001B[38;5;66;43;03m# type: ignore[call-overload]\u001B[39;49;00m\n\u001B[1;32m   1217\u001B[0m \u001B[43m    \u001B[49m\u001B[43mf\u001B[49m\u001B[43m,\u001B[49m\n\u001B[1;32m   1218\u001B[0m \u001B[43m    \u001B[49m\u001B[43mmode\u001B[49m\u001B[43m,\u001B[49m\n\u001B[1;32m   1219\u001B[0m \u001B[43m    \u001B[49m\u001B[43mencoding\u001B[49m\u001B[38;5;241;43m=\u001B[39;49m\u001B[38;5;28;43mself\u001B[39;49m\u001B[38;5;241;43m.\u001B[39;49m\u001B[43moptions\u001B[49m\u001B[38;5;241;43m.\u001B[39;49m\u001B[43mget\u001B[49m\u001B[43m(\u001B[49m\u001B[38;5;124;43m\"\u001B[39;49m\u001B[38;5;124;43mencoding\u001B[39;49m\u001B[38;5;124;43m\"\u001B[39;49m\u001B[43m,\u001B[49m\u001B[43m \u001B[49m\u001B[38;5;28;43;01mNone\u001B[39;49;00m\u001B[43m)\u001B[49m\u001B[43m,\u001B[49m\n\u001B[1;32m   1220\u001B[0m \u001B[43m    \u001B[49m\u001B[43mcompression\u001B[49m\u001B[38;5;241;43m=\u001B[39;49m\u001B[38;5;28;43mself\u001B[39;49m\u001B[38;5;241;43m.\u001B[39;49m\u001B[43moptions\u001B[49m\u001B[38;5;241;43m.\u001B[39;49m\u001B[43mget\u001B[49m\u001B[43m(\u001B[49m\u001B[38;5;124;43m\"\u001B[39;49m\u001B[38;5;124;43mcompression\u001B[39;49m\u001B[38;5;124;43m\"\u001B[39;49m\u001B[43m,\u001B[49m\u001B[43m \u001B[49m\u001B[38;5;28;43;01mNone\u001B[39;49;00m\u001B[43m)\u001B[49m\u001B[43m,\u001B[49m\n\u001B[1;32m   1221\u001B[0m \u001B[43m    \u001B[49m\u001B[43mmemory_map\u001B[49m\u001B[38;5;241;43m=\u001B[39;49m\u001B[38;5;28;43mself\u001B[39;49m\u001B[38;5;241;43m.\u001B[39;49m\u001B[43moptions\u001B[49m\u001B[38;5;241;43m.\u001B[39;49m\u001B[43mget\u001B[49m\u001B[43m(\u001B[49m\u001B[38;5;124;43m\"\u001B[39;49m\u001B[38;5;124;43mmemory_map\u001B[39;49m\u001B[38;5;124;43m\"\u001B[39;49m\u001B[43m,\u001B[49m\u001B[43m \u001B[49m\u001B[38;5;28;43;01mFalse\u001B[39;49;00m\u001B[43m)\u001B[49m\u001B[43m,\u001B[49m\n\u001B[1;32m   1222\u001B[0m \u001B[43m    \u001B[49m\u001B[43mis_text\u001B[49m\u001B[38;5;241;43m=\u001B[39;49m\u001B[43mis_text\u001B[49m\u001B[43m,\u001B[49m\n\u001B[1;32m   1223\u001B[0m \u001B[43m    \u001B[49m\u001B[43merrors\u001B[49m\u001B[38;5;241;43m=\u001B[39;49m\u001B[38;5;28;43mself\u001B[39;49m\u001B[38;5;241;43m.\u001B[39;49m\u001B[43moptions\u001B[49m\u001B[38;5;241;43m.\u001B[39;49m\u001B[43mget\u001B[49m\u001B[43m(\u001B[49m\u001B[38;5;124;43m\"\u001B[39;49m\u001B[38;5;124;43mencoding_errors\u001B[39;49m\u001B[38;5;124;43m\"\u001B[39;49m\u001B[43m,\u001B[49m\u001B[43m \u001B[49m\u001B[38;5;124;43m\"\u001B[39;49m\u001B[38;5;124;43mstrict\u001B[39;49m\u001B[38;5;124;43m\"\u001B[39;49m\u001B[43m)\u001B[49m\u001B[43m,\u001B[49m\n\u001B[1;32m   1224\u001B[0m \u001B[43m    \u001B[49m\u001B[43mstorage_options\u001B[49m\u001B[38;5;241;43m=\u001B[39;49m\u001B[38;5;28;43mself\u001B[39;49m\u001B[38;5;241;43m.\u001B[39;49m\u001B[43moptions\u001B[49m\u001B[38;5;241;43m.\u001B[39;49m\u001B[43mget\u001B[49m\u001B[43m(\u001B[49m\u001B[38;5;124;43m\"\u001B[39;49m\u001B[38;5;124;43mstorage_options\u001B[39;49m\u001B[38;5;124;43m\"\u001B[39;49m\u001B[43m,\u001B[49m\u001B[43m \u001B[49m\u001B[38;5;28;43;01mNone\u001B[39;49;00m\u001B[43m)\u001B[49m\u001B[43m,\u001B[49m\n\u001B[1;32m   1225\u001B[0m \u001B[43m\u001B[49m\u001B[43m)\u001B[49m\n\u001B[1;32m   1226\u001B[0m \u001B[38;5;28;01massert\u001B[39;00m \u001B[38;5;28mself\u001B[39m\u001B[38;5;241m.\u001B[39mhandles \u001B[38;5;129;01mis\u001B[39;00m \u001B[38;5;129;01mnot\u001B[39;00m \u001B[38;5;28;01mNone\u001B[39;00m\n\u001B[1;32m   1227\u001B[0m f \u001B[38;5;241m=\u001B[39m \u001B[38;5;28mself\u001B[39m\u001B[38;5;241m.\u001B[39mhandles\u001B[38;5;241m.\u001B[39mhandle\n",
      "File \u001B[0;32m~/opt/anaconda3/lib/python3.9/site-packages/pandas/io/common.py:786\u001B[0m, in \u001B[0;36mget_handle\u001B[0;34m(path_or_buf, mode, encoding, compression, memory_map, is_text, errors, storage_options)\u001B[0m\n\u001B[1;32m    781\u001B[0m \u001B[38;5;28;01melif\u001B[39;00m \u001B[38;5;28misinstance\u001B[39m(handle, \u001B[38;5;28mstr\u001B[39m):\n\u001B[1;32m    782\u001B[0m     \u001B[38;5;66;03m# Check whether the filename is to be opened in binary mode.\u001B[39;00m\n\u001B[1;32m    783\u001B[0m     \u001B[38;5;66;03m# Binary mode does not support 'encoding' and 'newline'.\u001B[39;00m\n\u001B[1;32m    784\u001B[0m     \u001B[38;5;28;01mif\u001B[39;00m ioargs\u001B[38;5;241m.\u001B[39mencoding \u001B[38;5;129;01mand\u001B[39;00m \u001B[38;5;124m\"\u001B[39m\u001B[38;5;124mb\u001B[39m\u001B[38;5;124m\"\u001B[39m \u001B[38;5;129;01mnot\u001B[39;00m \u001B[38;5;129;01min\u001B[39;00m ioargs\u001B[38;5;241m.\u001B[39mmode:\n\u001B[1;32m    785\u001B[0m         \u001B[38;5;66;03m# Encoding\u001B[39;00m\n\u001B[0;32m--> 786\u001B[0m         handle \u001B[38;5;241m=\u001B[39m \u001B[38;5;28;43mopen\u001B[39;49m\u001B[43m(\u001B[49m\n\u001B[1;32m    787\u001B[0m \u001B[43m            \u001B[49m\u001B[43mhandle\u001B[49m\u001B[43m,\u001B[49m\n\u001B[1;32m    788\u001B[0m \u001B[43m            \u001B[49m\u001B[43mioargs\u001B[49m\u001B[38;5;241;43m.\u001B[39;49m\u001B[43mmode\u001B[49m\u001B[43m,\u001B[49m\n\u001B[1;32m    789\u001B[0m \u001B[43m            \u001B[49m\u001B[43mencoding\u001B[49m\u001B[38;5;241;43m=\u001B[39;49m\u001B[43mioargs\u001B[49m\u001B[38;5;241;43m.\u001B[39;49m\u001B[43mencoding\u001B[49m\u001B[43m,\u001B[49m\n\u001B[1;32m    790\u001B[0m \u001B[43m            \u001B[49m\u001B[43merrors\u001B[49m\u001B[38;5;241;43m=\u001B[39;49m\u001B[43merrors\u001B[49m\u001B[43m,\u001B[49m\n\u001B[1;32m    791\u001B[0m \u001B[43m            \u001B[49m\u001B[43mnewline\u001B[49m\u001B[38;5;241;43m=\u001B[39;49m\u001B[38;5;124;43m\"\u001B[39;49m\u001B[38;5;124;43m\"\u001B[39;49m\u001B[43m,\u001B[49m\n\u001B[1;32m    792\u001B[0m \u001B[43m        \u001B[49m\u001B[43m)\u001B[49m\n\u001B[1;32m    793\u001B[0m     \u001B[38;5;28;01melse\u001B[39;00m:\n\u001B[1;32m    794\u001B[0m         \u001B[38;5;66;03m# Binary mode\u001B[39;00m\n\u001B[1;32m    795\u001B[0m         handle \u001B[38;5;241m=\u001B[39m \u001B[38;5;28mopen\u001B[39m(handle, ioargs\u001B[38;5;241m.\u001B[39mmode)\n",
      "\u001B[0;31mFileNotFoundError\u001B[0m: [Errno 2] No such file or directory: '/Users/gawain/Desktop/6.Real-time Local Business Condition Index/Labour force/Labor Force Rate/1410037801-cleaned.csv'"
     ]
    }
   ],
   "source": [
    "unemploy_rate_path = '/Users/gawain/Desktop/6.Real-time Local Business Condition Index/Labour force/Labor Force Rate/1410037801-cleaned.csv'\n",
    "unemploy_rate_df = pd.read_csv(unemploy_rate_path)\n",
    "unemploy_rate_df.head()"
   ]
  },
  {
   "cell_type": "code",
   "execution_count": null,
   "metadata": {},
   "outputs": [],
   "source": [
    "unemploy_rate_halifax = unemploy_rate_df.iloc[1:2]\n",
    "unemploy_rate_halifax = convert_combined(unemploy_rate_halifax)\n",
    "unemploy_rate_halifax.head()"
   ]
  },
  {
   "cell_type": "code",
   "execution_count": null,
   "metadata": {},
   "outputs": [],
   "source": [
    "Halifax_df_combined = pd.merge(RT_LBCI_Halifax_monthly, unemploy_rate_halifax, on='Date')\n",
    "Halifax_df_combined = Halifax_df_combined.rename(columns={'Value_x': 'RT_LBCI_monthly', 'Value_y': 'Unemployment Rate'})\n",
    "Halifax_df_combined.head()"
   ]
  },
  {
   "cell_type": "code",
   "execution_count": null,
   "metadata": {},
   "outputs": [],
   "source": [
    "# combine the plot of the two dataframes\n",
    "plt.figure(figsize=(12, 8))\n",
    "plt.plot(RT_LBCI_Halifax['Date'], RT_LBCI_Halifax['Value'])\n",
    "# plot with 2 y-axis\n",
    "plt.twinx()\n",
    "plt.plot(unemploy_rate_halifax['Date'], unemploy_rate_halifax['Value'], color='red')\n",
    "plt.title('Halifax Real-time Local Business Condition Index and Unemployment Rate')\n",
    "plt.legend(['RTLBCI', 'Unemployment Rate'])\n",
    "plt.show();"
   ]
  },
  {
   "cell_type": "code",
   "execution_count": null,
   "metadata": {},
   "outputs": [],
   "source": [
    "import matplotlib.dates as mdates\n",
    "\n",
    "Halifax_df_combined['Date'] = pd.to_datetime(Halifax_df_combined['Date'])\n",
    "\n",
    "# Plot RT_LBCI_monthly with a blue color and label\n",
    "fig, ax1 = plt.subplots()\n",
    "ax1.plot(Halifax_df_combined['Date'], Halifax_df_combined['RT_LBCI_monthly'], 'b-', label='RT_LBCI_monthly')\n",
    "ax1.set_xlabel('Date')\n",
    "ax1.set_ylabel('RT_LBCI_monthly', color='b')\n",
    "ax1.tick_params('y', colors='b')\n",
    "\n",
    "# Format date axis\n",
    "ax1.xaxis.set_major_formatter(mdates.DateFormatter('%Y-%m'))\n",
    "ax1.xaxis.set_major_locator(mdates.MonthLocator())\n",
    "\n",
    "# Create a second y-axis for the Unemployment Rate, plot it with a red color and label\n",
    "ax2 = ax1.twinx()\n",
    "ax2.plot(Halifax_df_combined['Date'], Halifax_df_combined['Unemployment Rate'], 'r-', label='Unemployment Rate')\n",
    "ax2.set_ylabel('Unemployment Rate', color='r')\n",
    "ax2.tick_params('y', colors='r')\n",
    "\n",
    "# Add a legend\n",
    "fig.legend(loc=\"upper left\", bbox_to_anchor=(0,1), bbox_transform=ax1.transAxes)\n",
    "\n",
    "# Adjust the plot layout\n",
    "fig.tight_layout()\n",
    "\n",
    "# Show the plot\n",
    "plt.show()"
   ]
  },
  {
   "attachments": {},
   "cell_type": "markdown",
   "metadata": {},
   "source": [
    "## Population quarterly (haven't used yet)\n",
    "\n",
    "Population estimates, quarterly 1 2 3 4\n",
    "\n",
    "Frequency: Quarterly\n",
    "\n",
    "Table: 17-10-0009-01 (formerly CANSIM 051-0005)\n",
    "\n",
    "Release date: 2023-03-22\n",
    "\n",
    "Geography: Canada, Province or territory\n",
    "\n",
    "https://www150.statcan.gc.ca/t1/tbl1/en/tv.action?pid=1710000901&cubeTimeFrame.startMonth=01&cubeTimeFrame.startYear=2020&cubeTimeFrame.endMonth=01&cubeTimeFrame.endYear=2023&referencePeriods=20200101%2C20230101\n"
   ]
  },
  {
   "attachments": {},
   "cell_type": "markdown",
   "metadata": {},
   "source": [
    "## Electric power generation\n",
    "\n",
    "Generation by type of electricity 1 2\n",
    "\n",
    "Frequency: Monthly\n",
    "\n",
    "Table: 25-10-0015-01 (formerly CANSIM 127-0002)\n",
    "\n",
    "Geography: Canada, Province or territory\n",
    "\n",
    "https://www150.statcan.gc.ca/t1/tbl1/en/tv.action?pid=2510001501 "
   ]
  },
  {
   "cell_type": "code",
   "execution_count": null,
   "metadata": {},
   "outputs": [],
   "source": [
    "ele_NS = pd.read_csv('/Users/gawain/Desktop/6.Real-time Local Business Condition Index/Electric power generation/NS/2510001501-NS-cleaned.csv')\n",
    "ele_NS.head()"
   ]
  },
  {
   "cell_type": "code",
   "execution_count": null,
   "metadata": {},
   "outputs": [],
   "source": [
    "ele_NS_Total = ele_NS[ele_NS['Type of electricity generation'] == 'Total all types of electricity generation']\n",
    "ele_NS_Total"
   ]
  },
  {
   "cell_type": "code",
   "execution_count": null,
   "metadata": {},
   "outputs": [],
   "source": [
    "ele_NS_total = convert_combined(ele_NS_Total)\n",
    "ele_NS_total.head()"
   ]
  },
  {
   "cell_type": "code",
   "execution_count": null,
   "metadata": {},
   "outputs": [],
   "source": [
    "Halifax_df_combined = pd.merge(Halifax_df_combined, ele_NS_total, on='Date')\n",
    "Halifax_df_combined = Halifax_df_combined.rename(columns={'Value': 'Electricity generation'})\n",
    "Halifax_df_combined.head()"
   ]
  },
  {
   "cell_type": "code",
   "execution_count": null,
   "metadata": {},
   "outputs": [],
   "source": [
    "# Plot RT_LBCI_monthly with a blue color and label\n",
    "# fig, ax1 = plt.subplots()\n",
    "fig, ax1 = plt.subplots(figsize=(12, 6))\n",
    "\n",
    "ax1.plot(Halifax_df_combined['Date'], Halifax_df_combined['RT_LBCI_monthly'], 'b-', label='RT_LBCI_monthly')\n",
    "ax1.set_xlabel('Date')\n",
    "ax1.set_ylabel('RT_LBCI_monthly', color='b')\n",
    "ax1.tick_params('y', colors='b')\n",
    "\n",
    "# Format date axis\n",
    "ax1.xaxis.set_major_formatter(mdates.DateFormatter('%Y-%m'))\n",
    "ax1.xaxis.set_major_locator(mdates.MonthLocator())\n",
    "\n",
    "# Create a second y-axis for the Unemployment Rate, plot it with a red color and label\n",
    "ax2 = ax1.twinx()\n",
    "ax2.plot(Halifax_df_combined['Date'], Halifax_df_combined['Unemployment Rate'], 'r-', label='Unemployment Rate')\n",
    "ax2.set_ylabel('Unemployment Rate', color='r')\n",
    "ax2.tick_params('y', colors='r')\n",
    "\n",
    "# Create a third y-axis for the Electricity generation, plot it with a green color and label\n",
    "ax3 = ax1.twinx()\n",
    "ax3.spines['right'].set_position(('outward', 60))\n",
    "ax3.plot(Halifax_df_combined['Date'], Halifax_df_combined['Electricity generation'], 'g-', label='Electricity generation')\n",
    "ax3.set_ylabel('Electricity generation', color='g')\n",
    "ax3.tick_params('y', colors='g')\n",
    "\n",
    "# Add a legend\n",
    "fig.legend(loc=\"upper left\", bbox_to_anchor=(0,1), bbox_transform=ax1.transAxes)\n",
    "\n",
    "# Adjust the plot layout\n",
    "fig.tight_layout()\n",
    "\n",
    "# Show the plot\n",
    "plt.show()\n"
   ]
  },
  {
   "attachments": {},
   "cell_type": "markdown",
   "metadata": {},
   "source": [
    "## Consumer Price Index\n",
    "\n",
    "Frequency: Monthly\n",
    "\n",
    "Table: 18-10-0004-01 (formerly CANSIM 326-0020)\n",
    "\n",
    "Release date: 2023-04-18\n",
    "\n",
    "Geography: Canada, Province or territory, Census subdivision, Census metropolitan area, Census metropolitan area part\n",
    "\n",
    "https://www150.statcan.gc.ca/t1/tbl1/en/tv.action?pid=1810000401"
   ]
  },
  {
   "cell_type": "code",
   "execution_count": null,
   "metadata": {},
   "outputs": [],
   "source": [
    "cpi_ns_path = '/Users/gawain/Desktop/6.Real-time Local Business Condition Index/CPI/NS/1810000401-NS-cleaned.csv'\n",
    "cpi_ns_df = pd.read_csv(cpi_ns_path)\n",
    "cpi_ns_df.head()"
   ]
  },
  {
   "cell_type": "code",
   "execution_count": null,
   "metadata": {},
   "outputs": [],
   "source": [
    "# select the CPI for all items\n",
    "cpi_ns_all = cpi_ns_df[cpi_ns_df['Products and product groups 3 4'] == 'All-items']\n",
    "cpi_ns_all.head()"
   ]
  },
  {
   "cell_type": "code",
   "execution_count": null,
   "metadata": {},
   "outputs": [],
   "source": [
    "cpi_ns_all = convert_combined(cpi_ns_all)\n",
    "cpi_ns_all.head()"
   ]
  },
  {
   "cell_type": "code",
   "execution_count": null,
   "metadata": {},
   "outputs": [],
   "source": [
    "Halifax_df_combined = pd.merge(Halifax_df_combined, cpi_ns_all, on='Date')\n",
    "Halifax_df_combined = Halifax_df_combined.rename(columns={'Value': 'CPI'})\n",
    "Halifax_df_combined.head()"
   ]
  },
  {
   "cell_type": "code",
   "execution_count": null,
   "metadata": {},
   "outputs": [],
   "source": [
    "Halifax_df_combined['Date'] = pd.to_datetime(Halifax_df_combined['Date'])\n",
    "\n",
    "# Set the figure size (width, height) in inches\n",
    "fig, ax1 = plt.subplots(figsize=(12, 6))\n",
    "\n",
    "# Plot RT_LBCI_monthly with a blue color and label\n",
    "ax1.plot(Halifax_df_combined['Date'], Halifax_df_combined['RT_LBCI_monthly'], 'b-', label='RT_LBCI_monthly')\n",
    "ax1.set_xlabel('Date')\n",
    "ax1.set_ylabel('RT_LBCI_monthly', color='b')\n",
    "ax1.tick_params('y', colors='b')\n",
    "\n",
    "# Format date axis\n",
    "ax1.xaxis.set_major_formatter(mdates.DateFormatter('%Y-%m'))\n",
    "ax1.xaxis.set_major_locator(mdates.MonthLocator())\n",
    "\n",
    "# Create a second y-axis for the Unemployment Rate, plot it with a red color and label\n",
    "ax2 = ax1.twinx()\n",
    "ax2.plot(Halifax_df_combined['Date'], Halifax_df_combined['Unemployment Rate'], 'r-', label='Unemployment Rate')\n",
    "ax2.set_ylabel('Unemployment Rate', color='r')\n",
    "ax2.tick_params('y', colors='r')\n",
    "\n",
    "# Create a third y-axis for the Electricity generation, plot it with a green color and label\n",
    "ax3 = ax1.twinx()\n",
    "ax3.spines['right'].set_position(('outward', 60))\n",
    "ax3.plot(Halifax_df_combined['Date'], Halifax_df_combined['Electricity generation'], 'g-', label='Electricity generation')\n",
    "ax3.set_ylabel('Electricity generation', color='g')\n",
    "ax3.tick_params('y', colors='g')\n",
    "\n",
    "# Create a fourth y-axis for the CPI, plot it with a purple color and label\n",
    "ax4 = ax1.twinx()\n",
    "ax4.spines['right'].set_position(('outward', 120))\n",
    "ax4.plot(Halifax_df_combined['Date'], Halifax_df_combined['CPI'], 'm-', label='CPI')\n",
    "ax4.set_ylabel('CPI', color='m')\n",
    "ax4.tick_params('y', colors='m')\n",
    "\n",
    "# Add a legend\n",
    "fig.legend(loc=\"upper left\", bbox_to_anchor=(0,1), bbox_transform=ax1.transAxes)\n",
    "\n",
    "# Adjust the plot layout\n",
    "fig.tight_layout()\n",
    "\n",
    "# Show the plot\n",
    "plt.show()\n"
   ]
  },
  {
   "attachments": {},
   "cell_type": "markdown",
   "metadata": {},
   "source": [
    "## Estimates for business openings and closures\n",
    "\n",
    "Experimental estimates for business openings and closures for Canada, provinces and territories, census metropolitan areas, seasonally adjusted\n",
    "\n",
    "Frequency: Monthly\n",
    "\n",
    "Table: 33-10-0270-01\n",
    "\n",
    "Release date: 2023-04-25\n",
    "\n",
    "Geography: Canada, Province or territory, Census metropolitan area\n",
    "\n",
    "https://www150.statcan.gc.ca/t1/tbl1/en/tv.action?pid=3310027001\n",
    "\n",
    "**Question: There are 4 business statuses, how to choose?**"
   ]
  },
  {
   "cell_type": "code",
   "execution_count": null,
   "metadata": {},
   "outputs": [],
   "source": [
    "EBOC_path = '/Users/gawain/Desktop/6.Real-time Local Business Condition Index/Estimates for business openings and closures/Business sector industries/Halifax - NS/3310027001-cleaned.csv'\n",
    "EBOC_df = pd.read_csv(EBOC_path)\n",
    "EBOC_df.head()"
   ]
  },
  {
   "cell_type": "code",
   "execution_count": null,
   "metadata": {},
   "outputs": [],
   "source": [
    "# I will take the contuning business as the example\n",
    "EBOC_continuing = EBOC_df[EBOC_df['Business dynamics measure'] == 'Continuing businesses 5']\n",
    "EBOC_continuing = convert_combined(EBOC_continuing)\n",
    "\n",
    "EBOC_continuing.head()"
   ]
  },
  {
   "cell_type": "code",
   "execution_count": null,
   "metadata": {},
   "outputs": [],
   "source": [
    "Halifax_df_combined = pd.merge(Halifax_df_combined, EBOC_continuing, on='Date')\n",
    "Halifax_df_combined = Halifax_df_combined.rename(columns={'Value': 'Continuing businesses'})\n",
    "Halifax_df_combined.head()"
   ]
  },
  {
   "attachments": {},
   "cell_type": "markdown",
   "metadata": {},
   "source": [
    "# Plotly"
   ]
  },
  {
   "cell_type": "code",
   "execution_count": null,
   "metadata": {},
   "outputs": [],
   "source": [
    "# Halifax_df_combined = pd.DataFrame(data)\n",
    "Halifax_df_combined['Date'] = pd.to_datetime(Halifax_df_combined['Date'])\n",
    "\n",
    "# Create the plot with Plotly\n",
    "fig = go.Figure()\n",
    "\n",
    "# Add RT_LBCI_monthly trace\n",
    "fig.add_trace(go.Scatter(x=Halifax_df_combined['Date'],\n",
    "                              y=Halifax_df_combined['RT_LBCI_monthly'],\n",
    "                              name='RT_LBCI_monthly',\n",
    "                              line=dict(color='blue')))\n",
    "\n",
    "# Add Unemployment Rate trace\n",
    "fig.add_trace(go.Scatter(x=Halifax_df_combined['Date'],\n",
    "                              y=Halifax_df_combined['Unemployment Rate'],\n",
    "                              name='Unemployment Rate',\n",
    "                              line=dict(color='red'),\n",
    "                              yaxis='y2'))\n",
    "\n",
    "# Add Electricity generation trace\n",
    "fig.add_trace(go.Scatter(x=Halifax_df_combined['Date'],\n",
    "                              y=Halifax_df_combined['Electricity generation'],\n",
    "                              name='Electricity generation',\n",
    "                              line=dict(color='green'),\n",
    "                              yaxis='y3'))\n",
    "\n",
    "# Add CPI trace\n",
    "fig.add_trace(go.Scatter(x=Halifax_df_combined['Date'],\n",
    "                              y=Halifax_df_combined['CPI'],\n",
    "                              name='CPI',\n",
    "                              line=dict(color='purple'),\n",
    "                              yaxis='y4'))\n",
    "\n",
    "# Add Continuing businesses trace\n",
    "fig.add_trace(go.Scatter(x=Halifax_df_combined['Date'],\n",
    "                              y=Halifax_df_combined['Continuing businesses'],\n",
    "                              name='Continuing businesses',\n",
    "                              line=dict(color='orange'),\n",
    "                              yaxis='y5'))\n",
    "\n",
    "# Update the layout\n",
    "fig.update_layout(\n",
    "      xaxis=dict(domain=[0.1, 0.9]),\n",
    "      yaxis=dict(title='RT_LBCI_monthly', titlefont=dict(color='blue'), tickfont=dict(color='blue')),\n",
    "      yaxis2=dict(title='Unemployment Rate', titlefont=dict(color='red'), tickfont=dict(color='red'), anchor='free', overlaying='y', side='right', position=1),\n",
    "      yaxis3=dict(title='Electricity generation', titlefont=dict(color='green'), tickfont=dict(color='green'), anchor='free', overlaying='y', side='right', position=0.9),\n",
    "      yaxis4=dict(title='CPI', titlefont=dict(color='purple'), tickfont=dict(color='purple'), anchor='free', overlaying='y', side='right', position=0.8),\n",
    "      yaxis5=dict(title='Continuing businesses', titlefont=dict(color='orange'), tickfont=dict(color='orange'), anchor='free', overlaying='y', side='right', position=0.7),\n",
    "      showlegend=True,\n",
    ")\n",
    "\n",
    "# Update x-axis grid lines\n",
    "fig.update_xaxes(showgrid=True, gridwidth=1, gridcolor='LightGrey')\n",
    "\n",
    "# Update y-axis grid lines\n",
    "fig.update_yaxes(showgrid=False, gridwidth=1, gridcolor='LightGrey', zeroline=True)\n",
    "\n",
    "# Show the plot\n",
    "fig.show()"
   ]
  },
  {
   "attachments": {},
   "cell_type": "markdown",
   "metadata": {},
   "source": [
    "### Correlation Matrix"
   ]
  },
  {
   "cell_type": "code",
   "execution_count": null,
   "metadata": {},
   "outputs": [],
   "source": [
    "Halifax_df_combined.head()\n",
    "scaled_Halifax_df_combined = Halifax_df_combined.copy()\n",
    "scaled_Halifax_df_combined = scaled_Halifax_df_combined.drop(['Date'], axis=1)\n",
    "\n",
    "# normalize the data\n",
    "scaled_Halifax_df_combined = (scaled_Halifax_df_combined - scaled_Halifax_df_combined.min()) / (scaled_Halifax_df_combined.max() - scaled_Halifax_df_combined.min())\n",
    "scaled_Halifax_df_combined.head()\n",
    "\n",
    "# find the correlation matrix for Halifax_df_combined\n",
    "corr_matrix = Halifax_df_combined.corr()\n",
    "corr_matrix"
   ]
  },
  {
   "cell_type": "code",
   "execution_count": null,
   "metadata": {},
   "outputs": [],
   "source": [
    "import numpy as np\n",
    "\n",
    "corr_matrix = Halifax_df_combined.corr()\n",
    "\n",
    "# Plot the correlation matrix\n",
    "plt.figure(figsize=(12, 6))\n",
    "plt.matshow(corr_matrix, fignum=1, cmap='coolwarm')\n",
    "plt.xticks(range(len(corr_matrix.columns)), corr_matrix.columns, rotation='vertical')\n",
    "plt.yticks(range(len(corr_matrix.columns)), corr_matrix.columns)\n",
    "\n",
    "# Add the correlation values to each grid\n",
    "for i in range(len(corr_matrix.columns)):\n",
    "      for j in range(len(corr_matrix.columns)):\n",
    "            text = plt.text(j, i, np.round(corr_matrix.iloc[i, j], 2),\n",
    "                        ha=\"center\", va=\"center\", color=\"black\", fontsize=12)\n",
    "\n",
    "plt.colorbar()\n",
    "plt.show()"
   ]
  },
  {
   "attachments": {},
   "cell_type": "markdown",
   "metadata": {},
   "source": [
    "- Looks like CPI and Continuing business do not have strong correlation with RT-LBCI, but might have a strong co-linearity with it.\n",
    "- While CPI and Continuing business do have strong correlations with Unemployment rate."
   ]
  },
  {
   "cell_type": "code",
   "execution_count": 5,
   "outputs": [
    {
     "data": {
      "text/plain": "          Date   Value\n0   2020-08-10  100.00\n1   2020-08-17  103.20\n2   2020-08-24  101.99\n3   2020-08-31  101.32\n4   2020-09-07  109.63\n..         ...     ...\n136 2023-03-20  297.32\n137 2023-03-27  282.34\n138 2023-04-03  292.56\n139 2023-04-10  286.44\n140 2023-04-17  295.66\n\n[141 rows x 2 columns]",
      "text/html": "<div>\n<style scoped>\n    .dataframe tbody tr th:only-of-type {\n        vertical-align: middle;\n    }\n\n    .dataframe tbody tr th {\n        vertical-align: top;\n    }\n\n    .dataframe thead th {\n        text-align: right;\n    }\n</style>\n<table border=\"1\" class=\"dataframe\">\n  <thead>\n    <tr style=\"text-align: right;\">\n      <th></th>\n      <th>Date</th>\n      <th>Value</th>\n    </tr>\n  </thead>\n  <tbody>\n    <tr>\n      <th>0</th>\n      <td>2020-08-10</td>\n      <td>100.00</td>\n    </tr>\n    <tr>\n      <th>1</th>\n      <td>2020-08-17</td>\n      <td>103.20</td>\n    </tr>\n    <tr>\n      <th>2</th>\n      <td>2020-08-24</td>\n      <td>101.99</td>\n    </tr>\n    <tr>\n      <th>3</th>\n      <td>2020-08-31</td>\n      <td>101.32</td>\n    </tr>\n    <tr>\n      <th>4</th>\n      <td>2020-09-07</td>\n      <td>109.63</td>\n    </tr>\n    <tr>\n      <th>...</th>\n      <td>...</td>\n      <td>...</td>\n    </tr>\n    <tr>\n      <th>136</th>\n      <td>2023-03-20</td>\n      <td>297.32</td>\n    </tr>\n    <tr>\n      <th>137</th>\n      <td>2023-03-27</td>\n      <td>282.34</td>\n    </tr>\n    <tr>\n      <th>138</th>\n      <td>2023-04-03</td>\n      <td>292.56</td>\n    </tr>\n    <tr>\n      <th>139</th>\n      <td>2023-04-10</td>\n      <td>286.44</td>\n    </tr>\n    <tr>\n      <th>140</th>\n      <td>2023-04-17</td>\n      <td>295.66</td>\n    </tr>\n  </tbody>\n</table>\n<p>141 rows × 2 columns</p>\n</div>"
     },
     "execution_count": 5,
     "metadata": {},
     "output_type": "execute_result"
    }
   ],
   "source": [
    "# Take Vancouver as an example\n",
    "RT_LBCI_Van = RT_LBCI_df.iloc[28:29]\n",
    "RT_LBCI_Van = convert_combined(RT_LBCI_Van)\n",
    "RT_LBCI_Van"
   ],
   "metadata": {
    "collapsed": false,
    "ExecuteTime": {
     "end_time": "2023-05-12T05:16:40.804024Z",
     "start_time": "2023-05-12T05:16:40.796745Z"
    }
   }
  },
  {
   "cell_type": "code",
   "execution_count": 7,
   "outputs": [
    {
     "data": {
      "text/plain": "         Date       Value\n0  2020-08-01  101.627500\n1  2020-09-01  108.225000\n2  2020-10-01  131.342500\n3  2020-11-01  139.940000\n4  2020-12-01  156.872500\n5  2021-01-01  173.702500\n6  2021-02-01  152.080000\n7  2021-03-01  167.038000\n8  2021-04-01  173.565000\n9  2021-05-01  156.442000\n10 2021-06-01  174.172500\n11 2021-07-01  188.867500\n12 2021-08-01  203.764000\n13 2021-09-01  212.390000\n14 2021-10-01  195.175000\n15 2021-11-01  201.760000\n16 2021-12-01  200.980000\n17 2022-01-01  193.470000\n18 2022-02-01  206.592500\n19 2022-03-01  209.100000\n20 2022-04-01  236.287500\n21 2022-05-01  210.202000\n22 2022-06-01  222.215000\n23 2022-07-01  216.382500\n24 2022-08-01  231.974000\n25 2022-09-01  247.515000\n26 2022-10-01  245.690000\n27 2022-11-01  267.595000\n28 2022-12-01  240.527500\n29 2023-01-01  287.822000\n30 2023-02-01  260.392500\n31 2023-03-01  261.952500\n32 2023-04-01  291.553333",
      "text/html": "<div>\n<style scoped>\n    .dataframe tbody tr th:only-of-type {\n        vertical-align: middle;\n    }\n\n    .dataframe tbody tr th {\n        vertical-align: top;\n    }\n\n    .dataframe thead th {\n        text-align: right;\n    }\n</style>\n<table border=\"1\" class=\"dataframe\">\n  <thead>\n    <tr style=\"text-align: right;\">\n      <th></th>\n      <th>Date</th>\n      <th>Value</th>\n    </tr>\n  </thead>\n  <tbody>\n    <tr>\n      <th>0</th>\n      <td>2020-08-01</td>\n      <td>101.627500</td>\n    </tr>\n    <tr>\n      <th>1</th>\n      <td>2020-09-01</td>\n      <td>108.225000</td>\n    </tr>\n    <tr>\n      <th>2</th>\n      <td>2020-10-01</td>\n      <td>131.342500</td>\n    </tr>\n    <tr>\n      <th>3</th>\n      <td>2020-11-01</td>\n      <td>139.940000</td>\n    </tr>\n    <tr>\n      <th>4</th>\n      <td>2020-12-01</td>\n      <td>156.872500</td>\n    </tr>\n    <tr>\n      <th>5</th>\n      <td>2021-01-01</td>\n      <td>173.702500</td>\n    </tr>\n    <tr>\n      <th>6</th>\n      <td>2021-02-01</td>\n      <td>152.080000</td>\n    </tr>\n    <tr>\n      <th>7</th>\n      <td>2021-03-01</td>\n      <td>167.038000</td>\n    </tr>\n    <tr>\n      <th>8</th>\n      <td>2021-04-01</td>\n      <td>173.565000</td>\n    </tr>\n    <tr>\n      <th>9</th>\n      <td>2021-05-01</td>\n      <td>156.442000</td>\n    </tr>\n    <tr>\n      <th>10</th>\n      <td>2021-06-01</td>\n      <td>174.172500</td>\n    </tr>\n    <tr>\n      <th>11</th>\n      <td>2021-07-01</td>\n      <td>188.867500</td>\n    </tr>\n    <tr>\n      <th>12</th>\n      <td>2021-08-01</td>\n      <td>203.764000</td>\n    </tr>\n    <tr>\n      <th>13</th>\n      <td>2021-09-01</td>\n      <td>212.390000</td>\n    </tr>\n    <tr>\n      <th>14</th>\n      <td>2021-10-01</td>\n      <td>195.175000</td>\n    </tr>\n    <tr>\n      <th>15</th>\n      <td>2021-11-01</td>\n      <td>201.760000</td>\n    </tr>\n    <tr>\n      <th>16</th>\n      <td>2021-12-01</td>\n      <td>200.980000</td>\n    </tr>\n    <tr>\n      <th>17</th>\n      <td>2022-01-01</td>\n      <td>193.470000</td>\n    </tr>\n    <tr>\n      <th>18</th>\n      <td>2022-02-01</td>\n      <td>206.592500</td>\n    </tr>\n    <tr>\n      <th>19</th>\n      <td>2022-03-01</td>\n      <td>209.100000</td>\n    </tr>\n    <tr>\n      <th>20</th>\n      <td>2022-04-01</td>\n      <td>236.287500</td>\n    </tr>\n    <tr>\n      <th>21</th>\n      <td>2022-05-01</td>\n      <td>210.202000</td>\n    </tr>\n    <tr>\n      <th>22</th>\n      <td>2022-06-01</td>\n      <td>222.215000</td>\n    </tr>\n    <tr>\n      <th>23</th>\n      <td>2022-07-01</td>\n      <td>216.382500</td>\n    </tr>\n    <tr>\n      <th>24</th>\n      <td>2022-08-01</td>\n      <td>231.974000</td>\n    </tr>\n    <tr>\n      <th>25</th>\n      <td>2022-09-01</td>\n      <td>247.515000</td>\n    </tr>\n    <tr>\n      <th>26</th>\n      <td>2022-10-01</td>\n      <td>245.690000</td>\n    </tr>\n    <tr>\n      <th>27</th>\n      <td>2022-11-01</td>\n      <td>267.595000</td>\n    </tr>\n    <tr>\n      <th>28</th>\n      <td>2022-12-01</td>\n      <td>240.527500</td>\n    </tr>\n    <tr>\n      <th>29</th>\n      <td>2023-01-01</td>\n      <td>287.822000</td>\n    </tr>\n    <tr>\n      <th>30</th>\n      <td>2023-02-01</td>\n      <td>260.392500</td>\n    </tr>\n    <tr>\n      <th>31</th>\n      <td>2023-03-01</td>\n      <td>261.952500</td>\n    </tr>\n    <tr>\n      <th>32</th>\n      <td>2023-04-01</td>\n      <td>291.553333</td>\n    </tr>\n  </tbody>\n</table>\n</div>"
     },
     "execution_count": 7,
     "metadata": {},
     "output_type": "execute_result"
    }
   ],
   "source": [
    "\n",
    "#RT_LBCI_df.head()\n",
    "RT_LBCI_Van_monthly = convert_monthly(RT_LBCI_Van)\n",
    "RT_LBCI_Van_monthly\n"
   ],
   "metadata": {
    "collapsed": false,
    "ExecuteTime": {
     "end_time": "2023-05-12T05:17:16.433750Z",
     "start_time": "2023-05-12T05:17:16.428303Z"
    }
   }
  },
  {
   "cell_type": "code",
   "execution_count": 8,
   "outputs": [],
   "source": [
    "# Gas and diesel price\n",
    "df_gas = pd.read_csv('~/Desktop/UBC/DATA 599 Capstone/RT-LBCI/Cleaned datasets/regular_gasoline_retail_price.csv')\n",
    "df_diesel = pd.read_csv('~/Desktop/UBC/DATA 599 Capstone/RT-LBCI/Cleaned datasets/diesel_retail_price.csv')\n",
    "\n",
    "# extract columns Date and Vancouver\n",
    "df_gas_Van = df_gas[['Date', 'Vancouver']]\n",
    "df_diesel_Van = df_diesel[['Date', 'Vancouver']]\n"
   ],
   "metadata": {
    "collapsed": false,
    "ExecuteTime": {
     "start_time": "2023-05-06T11:37:17.972724Z",
     "end_time": "2023-05-06T11:37:17.982276Z"
    }
   }
  },
  {
   "cell_type": "code",
   "execution_count": 9,
   "outputs": [
    {
     "name": "stderr",
     "output_type": "stream",
     "text": [
      "/var/folders/7s/086nw8893dq343kp9p40cjdw0000gn/T/ipykernel_2460/259769793.py:3: SettingWithCopyWarning: \n",
      "A value is trying to be set on a copy of a slice from a DataFrame.\n",
      "Try using .loc[row_indexer,col_indexer] = value instead\n",
      "\n",
      "See the caveats in the documentation: https://pandas.pydata.org/pandas-docs/stable/user_guide/indexing.html#returning-a-view-versus-a-copy\n",
      "  df_gas_Van['Date'] = pd.to_datetime(df_gas_Van['Date'])\n",
      "/var/folders/7s/086nw8893dq343kp9p40cjdw0000gn/T/ipykernel_2460/259769793.py:4: SettingWithCopyWarning: \n",
      "A value is trying to be set on a copy of a slice from a DataFrame.\n",
      "Try using .loc[row_indexer,col_indexer] = value instead\n",
      "\n",
      "See the caveats in the documentation: https://pandas.pydata.org/pandas-docs/stable/user_guide/indexing.html#returning-a-view-versus-a-copy\n",
      "  df_diesel_Van['Date'] = pd.to_datetime(df_diesel_Van['Date'])\n"
     ]
    },
    {
     "data": {
      "text/plain": "        Date  RT_LBCI_monthly    Gas  Diese\n0 2020-08-01         101.6275  130.0  110.7\n1 2020-09-01         108.2250  125.9  108.3\n2 2020-10-01         131.3425  122.3  109.3\n3 2020-11-01         139.9400  123.6  116.1\n4 2020-12-01         156.8725  126.1  117.8",
      "text/html": "<div>\n<style scoped>\n    .dataframe tbody tr th:only-of-type {\n        vertical-align: middle;\n    }\n\n    .dataframe tbody tr th {\n        vertical-align: top;\n    }\n\n    .dataframe thead th {\n        text-align: right;\n    }\n</style>\n<table border=\"1\" class=\"dataframe\">\n  <thead>\n    <tr style=\"text-align: right;\">\n      <th></th>\n      <th>Date</th>\n      <th>RT_LBCI_monthly</th>\n      <th>Gas</th>\n      <th>Diese</th>\n    </tr>\n  </thead>\n  <tbody>\n    <tr>\n      <th>0</th>\n      <td>2020-08-01</td>\n      <td>101.6275</td>\n      <td>130.0</td>\n      <td>110.7</td>\n    </tr>\n    <tr>\n      <th>1</th>\n      <td>2020-09-01</td>\n      <td>108.2250</td>\n      <td>125.9</td>\n      <td>108.3</td>\n    </tr>\n    <tr>\n      <th>2</th>\n      <td>2020-10-01</td>\n      <td>131.3425</td>\n      <td>122.3</td>\n      <td>109.3</td>\n    </tr>\n    <tr>\n      <th>3</th>\n      <td>2020-11-01</td>\n      <td>139.9400</td>\n      <td>123.6</td>\n      <td>116.1</td>\n    </tr>\n    <tr>\n      <th>4</th>\n      <td>2020-12-01</td>\n      <td>156.8725</td>\n      <td>126.1</td>\n      <td>117.8</td>\n    </tr>\n  </tbody>\n</table>\n</div>"
     },
     "execution_count": 9,
     "metadata": {},
     "output_type": "execute_result"
    }
   ],
   "source": [
    "# Convert the date format\n",
    "RT_LBCI_Van_monthly['Date'] = pd.to_datetime(RT_LBCI_Van_monthly['Date'])\n",
    "df_gas_Van['Date'] = pd.to_datetime(df_gas_Van['Date'])\n",
    "df_diesel_Van['Date'] = pd.to_datetime(df_diesel_Van['Date'])\n",
    "\n",
    "Van_df_combined = pd.merge(RT_LBCI_Van_monthly, df_gas_Van, on = 'Date')\n",
    "Van_df_combined = Van_df_combined.rename(columns={'Value': 'RT_LBCI_monthly', 'Vancouver': 'Gas'})\n",
    "Van_df_combined = pd.merge(Van_df_combined, df_diesel_Van, on='Date')\n",
    "Van_df_combined = Van_df_combined.rename(columns={ 'Vancouver': 'Diese'})\n",
    "\n",
    "Van_df_combined.head()"
   ],
   "metadata": {
    "collapsed": false,
    "ExecuteTime": {
     "start_time": "2023-05-06T11:37:19.152623Z",
     "end_time": "2023-05-06T11:37:19.184025Z"
    }
   }
  },
  {
   "cell_type": "code",
   "execution_count": 10,
   "outputs": [
    {
     "data": {
      "text/plain": "         Date  RT_LBCI_monthly    Gas  Diese\n0  2020-08-01         101.6275  130.0  110.7\n1  2020-09-01         108.2250  125.9  108.3\n2  2020-10-01         131.3425  122.3  109.3\n3  2020-11-01         139.9400  123.6  116.1\n4  2020-12-01         156.8725  126.1  117.8\n5  2021-01-01         173.7025  134.6  120.7\n6  2021-02-01         152.0800  141.2  128.4\n7  2021-03-01         167.0380  149.6  134.9\n8  2021-04-01         173.5650  152.2  137.1\n9  2021-05-01         156.4420  155.6  140.8\n10 2021-06-01         174.1725  161.1  145.8\n11 2021-07-01         188.8675  169.1  150.0\n12 2021-08-01         203.7640  165.6  152.9\n13 2021-09-01         212.3900  156.7  153.0\n14 2021-10-01         195.1750  162.4  161.2\n15 2021-11-01         201.7600  159.8  163.1\n16 2021-12-01         200.9800  157.2  162.1\n17 2022-01-01         193.4700  170.5  176.5\n18 2022-02-01         206.5925  177.1  181.2\n19 2022-03-01         209.1000  198.3  209.9\n20 2022-04-01         236.2875  198.5  211.9\n21 2022-05-01         210.2020  220.1  232.4\n22 2022-06-01         222.2150  225.4  250.1\n23 2022-07-01         216.3825  202.4  216.6\n24 2022-08-01         231.9740  193.2  201.5\n25 2022-09-01         247.5150  205.7  210.6\n26 2022-10-01         245.6900  206.9  233.3\n27 2022-11-01         267.5950  183.5  227.8\n28 2022-12-01         240.5275  164.1  196.5\n29 2023-01-01         287.8220  179.3  197.8\n30 2023-02-01         260.3925  183.3  194.8\n31 2023-03-01         261.9525  183.0  188.2",
      "text/html": "<div>\n<style scoped>\n    .dataframe tbody tr th:only-of-type {\n        vertical-align: middle;\n    }\n\n    .dataframe tbody tr th {\n        vertical-align: top;\n    }\n\n    .dataframe thead th {\n        text-align: right;\n    }\n</style>\n<table border=\"1\" class=\"dataframe\">\n  <thead>\n    <tr style=\"text-align: right;\">\n      <th></th>\n      <th>Date</th>\n      <th>RT_LBCI_monthly</th>\n      <th>Gas</th>\n      <th>Diese</th>\n    </tr>\n  </thead>\n  <tbody>\n    <tr>\n      <th>0</th>\n      <td>2020-08-01</td>\n      <td>101.6275</td>\n      <td>130.0</td>\n      <td>110.7</td>\n    </tr>\n    <tr>\n      <th>1</th>\n      <td>2020-09-01</td>\n      <td>108.2250</td>\n      <td>125.9</td>\n      <td>108.3</td>\n    </tr>\n    <tr>\n      <th>2</th>\n      <td>2020-10-01</td>\n      <td>131.3425</td>\n      <td>122.3</td>\n      <td>109.3</td>\n    </tr>\n    <tr>\n      <th>3</th>\n      <td>2020-11-01</td>\n      <td>139.9400</td>\n      <td>123.6</td>\n      <td>116.1</td>\n    </tr>\n    <tr>\n      <th>4</th>\n      <td>2020-12-01</td>\n      <td>156.8725</td>\n      <td>126.1</td>\n      <td>117.8</td>\n    </tr>\n    <tr>\n      <th>5</th>\n      <td>2021-01-01</td>\n      <td>173.7025</td>\n      <td>134.6</td>\n      <td>120.7</td>\n    </tr>\n    <tr>\n      <th>6</th>\n      <td>2021-02-01</td>\n      <td>152.0800</td>\n      <td>141.2</td>\n      <td>128.4</td>\n    </tr>\n    <tr>\n      <th>7</th>\n      <td>2021-03-01</td>\n      <td>167.0380</td>\n      <td>149.6</td>\n      <td>134.9</td>\n    </tr>\n    <tr>\n      <th>8</th>\n      <td>2021-04-01</td>\n      <td>173.5650</td>\n      <td>152.2</td>\n      <td>137.1</td>\n    </tr>\n    <tr>\n      <th>9</th>\n      <td>2021-05-01</td>\n      <td>156.4420</td>\n      <td>155.6</td>\n      <td>140.8</td>\n    </tr>\n    <tr>\n      <th>10</th>\n      <td>2021-06-01</td>\n      <td>174.1725</td>\n      <td>161.1</td>\n      <td>145.8</td>\n    </tr>\n    <tr>\n      <th>11</th>\n      <td>2021-07-01</td>\n      <td>188.8675</td>\n      <td>169.1</td>\n      <td>150.0</td>\n    </tr>\n    <tr>\n      <th>12</th>\n      <td>2021-08-01</td>\n      <td>203.7640</td>\n      <td>165.6</td>\n      <td>152.9</td>\n    </tr>\n    <tr>\n      <th>13</th>\n      <td>2021-09-01</td>\n      <td>212.3900</td>\n      <td>156.7</td>\n      <td>153.0</td>\n    </tr>\n    <tr>\n      <th>14</th>\n      <td>2021-10-01</td>\n      <td>195.1750</td>\n      <td>162.4</td>\n      <td>161.2</td>\n    </tr>\n    <tr>\n      <th>15</th>\n      <td>2021-11-01</td>\n      <td>201.7600</td>\n      <td>159.8</td>\n      <td>163.1</td>\n    </tr>\n    <tr>\n      <th>16</th>\n      <td>2021-12-01</td>\n      <td>200.9800</td>\n      <td>157.2</td>\n      <td>162.1</td>\n    </tr>\n    <tr>\n      <th>17</th>\n      <td>2022-01-01</td>\n      <td>193.4700</td>\n      <td>170.5</td>\n      <td>176.5</td>\n    </tr>\n    <tr>\n      <th>18</th>\n      <td>2022-02-01</td>\n      <td>206.5925</td>\n      <td>177.1</td>\n      <td>181.2</td>\n    </tr>\n    <tr>\n      <th>19</th>\n      <td>2022-03-01</td>\n      <td>209.1000</td>\n      <td>198.3</td>\n      <td>209.9</td>\n    </tr>\n    <tr>\n      <th>20</th>\n      <td>2022-04-01</td>\n      <td>236.2875</td>\n      <td>198.5</td>\n      <td>211.9</td>\n    </tr>\n    <tr>\n      <th>21</th>\n      <td>2022-05-01</td>\n      <td>210.2020</td>\n      <td>220.1</td>\n      <td>232.4</td>\n    </tr>\n    <tr>\n      <th>22</th>\n      <td>2022-06-01</td>\n      <td>222.2150</td>\n      <td>225.4</td>\n      <td>250.1</td>\n    </tr>\n    <tr>\n      <th>23</th>\n      <td>2022-07-01</td>\n      <td>216.3825</td>\n      <td>202.4</td>\n      <td>216.6</td>\n    </tr>\n    <tr>\n      <th>24</th>\n      <td>2022-08-01</td>\n      <td>231.9740</td>\n      <td>193.2</td>\n      <td>201.5</td>\n    </tr>\n    <tr>\n      <th>25</th>\n      <td>2022-09-01</td>\n      <td>247.5150</td>\n      <td>205.7</td>\n      <td>210.6</td>\n    </tr>\n    <tr>\n      <th>26</th>\n      <td>2022-10-01</td>\n      <td>245.6900</td>\n      <td>206.9</td>\n      <td>233.3</td>\n    </tr>\n    <tr>\n      <th>27</th>\n      <td>2022-11-01</td>\n      <td>267.5950</td>\n      <td>183.5</td>\n      <td>227.8</td>\n    </tr>\n    <tr>\n      <th>28</th>\n      <td>2022-12-01</td>\n      <td>240.5275</td>\n      <td>164.1</td>\n      <td>196.5</td>\n    </tr>\n    <tr>\n      <th>29</th>\n      <td>2023-01-01</td>\n      <td>287.8220</td>\n      <td>179.3</td>\n      <td>197.8</td>\n    </tr>\n    <tr>\n      <th>30</th>\n      <td>2023-02-01</td>\n      <td>260.3925</td>\n      <td>183.3</td>\n      <td>194.8</td>\n    </tr>\n    <tr>\n      <th>31</th>\n      <td>2023-03-01</td>\n      <td>261.9525</td>\n      <td>183.0</td>\n      <td>188.2</td>\n    </tr>\n  </tbody>\n</table>\n</div>"
     },
     "execution_count": 10,
     "metadata": {},
     "output_type": "execute_result"
    }
   ],
   "source": [
    "Van_df_combined"
   ],
   "metadata": {
    "collapsed": false,
    "ExecuteTime": {
     "start_time": "2023-05-06T11:37:35.100726Z",
     "end_time": "2023-05-06T11:37:35.105501Z"
    }
   }
  },
  {
   "cell_type": "code",
   "execution_count": null,
   "outputs": [],
   "source": [
    "Van_df_combined.corr()"
   ],
   "metadata": {
    "collapsed": false,
    "ExecuteTime": {
     "start_time": "2023-05-03T13:28:10.883474Z",
     "end_time": "2023-05-03T13:28:10.886773Z"
    }
   }
  },
  {
   "cell_type": "code",
   "execution_count": null,
   "outputs": [],
   "source": [
    "Van_df_combined.head()\n",
    "scaled_Van_df_combined = Van_df_combined.copy()\n",
    "scaled_Van_df_combined = scaled_Van_df_combined.drop(['Date'], axis=1)\n",
    "\n",
    "# normalize the data\n",
    "scaled_Van_df_combined = (scaled_Van_df_combined - scaled_Van_df_combined.min()) / (scaled_Van_df_combined.max() - scaled_Van_df_combined.min())\n",
    "scaled_Van_df_combined.head()\n",
    "\n",
    "# find the correlation matrix for Halifax_df_combined\n",
    "corr_matrix = Van_df_combined.corr()\n",
    "corr_matrix"
   ],
   "metadata": {
    "collapsed": false,
    "ExecuteTime": {
     "start_time": "2023-05-03T13:28:14.357116Z",
     "end_time": "2023-05-03T13:28:14.363499Z"
    }
   }
  },
  {
   "cell_type": "markdown",
   "source": [
    "The response variable is the Real-time Local Business Conditions Index (RT-LBCI). It is an experimental statistic introduced by Statistics Canada to evaluate the real-time local business activities and conditions for 30 cities in Canada. The original development of this index is to provide a measure of business activities with the impact of the COVID-19 pandemic, which is still under development. The current index computation consists of 3 components, which are business size, business operating conditions and business level of activity. The specific formula to calculate the RT-LBCI is stated as:\n",
    "RT-LBCI=VRR×(1−PBC)×(1+DIT)\n",
    "where VRP is the value of retail revenue, and it is used to represent the business size. PBC is the percentage of business reporting closure which is a reflection of business operating conditions. DIT is the difference in traffic between pre and post-pandemic periods, and it can be used to indicate the business level of activity.\n",
    "\n",
    "The index is normalized to the value of 100 on August 10, 2020, as a baseline level. In other words, the index scores after that week would be a percentage growth or decline compared to the date of August 10, 2020. And this index score is only comparable within the same city, e.g. the index score between different cities is not comparable because there is no relationship among the scores.\n",
    "\n",
    "We decide to choose the top 5 largest cities (Toronto, Montreal, Vancouver, Calgary and Ottawa) for 2 reasons. These top 5 cities have about 50% of the total GDP of Canada and contain roughly 40% of the total Canadian population.\n",
    "\n",
    "We have tentatively selected the unemployment rate, average retail price for diesel, CPI, business dynamics, monthly retail trade sales, experimental estimates for business openings and closures, overnight money market financing rate, employment and average weekly earnings to be our explanatory variables.\n",
    "\n",
    "unemployment rate,\n",
    "\n",
    "average retail price for diesel,\n",
    "\n",
    "CPI,\n",
    "\n",
    "business dynamics,\n",
    "\n",
    "monthly retail trade sales,\n",
    "\n",
    " experimental estimates for business openings and closures,\n",
    "\n",
    "overnight money market financing rate,\n",
    "\n",
    "employment and average weekly earnings\n",
    "\n",
    "As the response variable, RT-LBC is weekly starting from August 10, 2020, to April 17, 2023. There are a total of 141 observations. We will need to convert it to monthly as the explanatory variables are all monthly based. After the conversion, the data would decrease to 32 observations. Since the index for each city is developed independently, we will need to repeat the same process for each city. That being said, we will have 5 datasets for 5 cities, and each dataset will have 32 observations, 1 response variable and 8 explanatory variables. The raw datasets have dates as the columns, and we will need to convert them to rows. And we would extract the observations from the 8 explanatory variables that match the dates of the response variable for the same city. After that, we will merge the response variable and the explanatory variables into one dataset. Each final dataset for cities will have 32 observations and 9 variables, with rows as observations and columns as variables."
   ],
   "metadata": {
    "collapsed": false
   }
  }
 ],
 "metadata": {
  "kernelspec": {
   "display_name": "Python 3",
   "language": "python",
   "name": "python3"
  },
  "language_info": {
   "codemirror_mode": {
    "name": "ipython",
    "version": 3
   },
   "file_extension": ".py",
   "mimetype": "text/x-python",
   "name": "python",
   "nbconvert_exporter": "python",
   "pygments_lexer": "ipython3",
   "version": "3.9.1"
  },
  "orig_nbformat": 4
 },
 "nbformat": 4,
 "nbformat_minor": 2
}
